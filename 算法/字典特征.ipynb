{
 "cells": [
  {
   "metadata": {},
   "cell_type": "markdown",
   "source": [
    "# 数据集当中类别特征比较多\n",
    "# 本身拿到的数据就是字典类型"
   ],
   "id": "392eb2d354bc9475"
  },
  {
   "cell_type": "code",
   "execution_count": null,
   "id": "initial_id",
   "metadata": {
    "collapsed": true
   },
   "outputs": [],
   "source": [
    "# 字典特征提取\n",
    "# 作用：对字典数据进行特征值化\n",
    "# \n",
    "# 类别 -> one-hot 编码（独热编码）\n",
    "# \n",
    "# sklearn.feature_extraction.DictVectorizer(sparse=True,...)\n",
    "# \n",
    "# DictVectorizer.fit_transform(X) X:字典或者包含字典的迭代器返回 sparse 矩阵（稀疏矩阵 - 将非零值按位置表示出来，可以节省内存，提高加载效率）\n",
    "# DictVectorizer.inverse_transform(X) X:array 数组或者 sparse 矩阵 返回值：转换之前数据格式\n",
    "# DictVectorizer.get_feature_names() 返回类别名称\n",
    "# 总结：对于特征当中存在类别信息的我们都会做 one-hot 编码处理\n",
    "\n",
    "\"\"\"\n",
    "@author: hwl\n",
    "@time: 2020-11-01 17:18:23\n",
    "@description:\n",
    "\"\"\"\n",
    "from sklearn.feature_extraction import DictVectorizer\n",
    "\n",
    "def dict_demo():\n",
    "    \"\"\"\n",
    "    字典特征抽取\n",
    "    :return:\n",
    "    \"\"\"\n",
    "    data = [\n",
    "        {'city': '北京', 'temperature': 100},\n",
    "        {'city': '上海', 'temperature': 60},\n",
    "        {'city': '深圳', 'temperature': 30},\n",
    "    ]\n",
    "    # 1、实例化一个转换器类\n",
    "    transfer = DictVectorizer(sparse=False)\n",
    "    # 2、调用fit_transform\n",
    "    data_new = transfer.fit_transform(data)\n",
    "    print(\"data_new:\\n\", data_new)\n",
    "    print(\"特征名字:\\n\", transfer.get_feature_names())\n",
    "    return None\n",
    "\n",
    "\n",
    "if __name__ == \"__main__\":\n",
    "    # 代码2：字典特征抽取\n",
    "    dict_demo()"
   ]
  }
 ],
 "metadata": {
  "kernelspec": {
   "display_name": "Python 3",
   "language": "python",
   "name": "python3"
  },
  "language_info": {
   "codemirror_mode": {
    "name": "ipython",
    "version": 2
   },
   "file_extension": ".py",
   "mimetype": "text/x-python",
   "name": "python",
   "nbconvert_exporter": "python",
   "pygments_lexer": "ipython2",
   "version": "2.7.6"
  }
 },
 "nbformat": 4,
 "nbformat_minor": 5
}
