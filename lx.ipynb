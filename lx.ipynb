{
 "cells": [
  {
   "cell_type": "code",
   "execution_count": null,
   "id": "initial_id",
   "metadata": {
    "collapsed": true
   },
   "outputs": [],
   "source": [
    ""
   ]
  },
  {
   "metadata": {
    "ExecuteTime": {
     "end_time": "2024-11-13T08:27:49.259280Z",
     "start_time": "2024-11-13T08:27:48.748942Z"
    }
   },
   "cell_type": "code",
   "source": [
    "import random\n",
    "import pandas as pd\n",
    "\n",
    "\n",
    "# 生成单个客户数据的函数\n",
    "def generate_customer_data():\n",
    "    customer = {}\n",
    "\n",
    "    # 客户旅程阶段\n",
    "    journey_stages = [\"新访客\", \"未购买客户回访\", \"已购买客户回访\"]\n",
    "    customer[\"journey_stage\"] = random.choice(journey_stages)\n",
    "\n",
    "    # 地理位置\n",
    "    provinces = [\"广东省\", \"江苏省\", \"其他省份\"]\n",
    "    customer[\"geographic_location\"] = random.choice(provinces)\n",
    "\n",
    "    # 性别\n",
    "    genders = [\"男\", \"女\"]\n",
    "    customer[\"gender\"] = random.choice(genders)\n",
    "\n",
    "    # 消费层级\n",
    "    consumption_levels = [\"L1\", \"L2\", \"L3\", \"L4\", \"L5\"]\n",
    "    customer[\"consumption_level\"] = random.choice(consumption_levels)\n",
    "\n",
    "    # 兴趣偏好\n",
    "    interests = [\"时尚趣味\", \"白富美\", \"科技前沿\", \"户外运动\", \"美食探索\"]\n",
    "    customer[\"interest_preference\"] = random.choice(interests)\n",
    "\n",
    "    # 年龄分布\n",
    "    age_groups = [\"18-24岁\", \"25-29岁\", \"30-34岁\", \"40-49岁\", \"50岁以上\"]\n",
    "    customer[\"age_distribution\"] = random.choice(age_groups)\n",
    "\n",
    "    return customer\n",
    "\n",
    "\n",
    "# 生成指定数量客户数据的函数\n",
    "def generate_customer_data_set(num_customers):\n",
    "    customer_data_set = []\n",
    "    for _ in range(num_customers):\n",
    "        customer_data_set.append(generate_customer_data())\n",
    "\n",
    "    return pd.DataFrame(customer_data_set)\n",
    "\n",
    "\n",
    "if __name__ == \"__main__\":\n",
    "    # 生成1000名客户的模拟数据示例（可根据需要调整数量）\n",
    "    num_customers = 1000\n",
    "    customer_data = generate_customer_data_set(num_customers)\n",
    "    print(customer_data)"
   ],
   "id": "db76c1fe63c86fcb",
   "outputs": [
    {
     "name": "stdout",
     "output_type": "stream",
     "text": [
      "    journey_stage geographic_location gender consumption_level  \\\n",
      "0         未购买客户回访                 江苏省      女                L2   \n",
      "1         已购买客户回访                 广东省      男                L4   \n",
      "2         未购买客户回访                 广东省      男                L5   \n",
      "3         未购买客户回访                其他省份      女                L1   \n",
      "4             新访客                其他省份      男                L4   \n",
      "..            ...                 ...    ...               ...   \n",
      "995       已购买客户回访                其他省份      女                L5   \n",
      "996           新访客                 江苏省      女                L4   \n",
      "997       已购买客户回访                 江苏省      男                L5   \n",
      "998           新访客                 江苏省      男                L2   \n",
      "999       未购买客户回访                 江苏省      男                L5   \n",
      "\n",
      "    interest_preference age_distribution  \n",
      "0                  时尚趣味           40-49岁  \n",
      "1                   白富美           30-34岁  \n",
      "2                   白富美           25-29岁  \n",
      "3                  户外运动           25-29岁  \n",
      "4                   白富美           40-49岁  \n",
      "..                  ...              ...  \n",
      "995                科技前沿           40-49岁  \n",
      "996                时尚趣味            50岁以上  \n",
      "997                时尚趣味           25-29岁  \n",
      "998                 白富美           25-29岁  \n",
      "999                科技前沿           25-29岁  \n",
      "\n",
      "[1000 rows x 6 columns]\n"
     ]
    }
   ],
   "execution_count": 1
  },
  {
   "metadata": {},
   "cell_type": "code",
   "outputs": [],
   "execution_count": null,
   "source": "",
   "id": "efade3f978a23588"
  }
 ],
 "metadata": {
  "kernelspec": {
   "display_name": "Python 3",
   "language": "python",
   "name": "python3"
  },
  "language_info": {
   "codemirror_mode": {
    "name": "ipython",
    "version": 2
   },
   "file_extension": ".py",
   "mimetype": "text/x-python",
   "name": "python",
   "nbconvert_exporter": "python",
   "pygments_lexer": "ipython2",
   "version": "2.7.6"
  }
 },
 "nbformat": 4,
 "nbformat_minor": 5
}
