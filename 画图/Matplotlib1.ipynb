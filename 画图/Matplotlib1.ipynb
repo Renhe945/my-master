{
 "cells": [
  {
   "cell_type": "code",
   "id": "initial_id",
   "metadata": {
    "collapsed": true,
    "ExecuteTime": {
     "end_time": "2024-09-25T13:27:35.685554Z",
     "start_time": "2024-09-25T13:27:34.044709Z"
    }
   },
   "source": [
    "import  pandas as pd\n",
    "import  numpy as np\n",
    "import matplotlib.pyplot as plt"
   ],
   "outputs": [],
   "execution_count": 2
  },
  {
   "metadata": {},
   "cell_type": "markdown",
   "source": "# 绘图类型 1.1 绘图",
   "id": "3ad88f62a9187192"
  },
  {
   "metadata": {},
   "cell_type": "code",
   "outputs": [],
   "execution_count": null,
   "source": "# plt.figure().figure",
   "id": "45eb4f1a29cb9dc3"
  },
  {
   "metadata": {},
   "cell_type": "markdown",
   "source": "# 1.2绘图标记",
   "id": "d6e0651ae13266c1"
  },
  {
   "metadata": {},
   "cell_type": "code",
   "outputs": [],
   "execution_count": null,
   "source": "",
   "id": "9c087741a68d7dfb"
  },
  {
   "metadata": {},
   "cell_type": "markdown",
   "source": "# 1.3 绘图线",
   "id": "7accbb5c94e52812"
  },
  {
   "metadata": {},
   "cell_type": "code",
   "outputs": [],
   "execution_count": null,
   "source": "",
   "id": "b5e5661c5926dd54"
  },
  {
   "metadata": {},
   "cell_type": "markdown",
   "source": "# 1.3 轴标签和标签",
   "id": "2364ccd48b0fe8e2"
  },
  {
   "metadata": {},
   "cell_type": "code",
   "outputs": [],
   "execution_count": null,
   "source": "",
   "id": "c317f3e57d6d6bc4"
  },
  {
   "metadata": {},
   "cell_type": "markdown",
   "source": "# 1.4 网格线",
   "id": "ab0662cc9808aad0"
  },
  {
   "metadata": {},
   "cell_type": "code",
   "outputs": [],
   "execution_count": null,
   "source": "",
   "id": "16e688d229cce830"
  },
  {
   "metadata": {},
   "cell_type": "markdown",
   "source": "# 1.5 绘制多图",
   "id": "19c23ec96a215e20"
  },
  {
   "metadata": {
    "ExecuteTime": {
     "end_time": "2024-09-25T13:28:32.541706Z",
     "start_time": "2024-09-25T13:28:32.527351Z"
    }
   },
   "cell_type": "code",
   "source": [
    "# 1.如何在Matplotlib中设置绘图的风格样式?\n",
    "import matplotlib.pyplot as plt\n",
    "# 使用set style()函数\n",
    "# 设置为经典样式\n",
    "\n",
    "# 或者使用set_style函数\n",
    "# 使用apply_style()函数\n",
    "# 使用pltstyle)函数\n",
    "# 使用plot style()函数"
   ],
   "id": "a214c531bab1c1fb",
   "outputs": [
    {
     "ename": "AttributeError",
     "evalue": "module 'matplotlib.pyplot' has no attribute 'set_style'",
     "output_type": "error",
     "traceback": [
      "\u001B[1;31m---------------------------------------------------------------------------\u001B[0m",
      "\u001B[1;31mAttributeError\u001B[0m                            Traceback (most recent call last)",
      "Cell \u001B[1;32mIn[6], line 10\u001B[0m\n\u001B[0;32m      8\u001B[0m plt\u001B[38;5;241m.\u001B[39mrcParams[\u001B[38;5;124m'\u001B[39m\u001B[38;5;124maxes.facecolor\u001B[39m\u001B[38;5;124m'\u001B[39m] \u001B[38;5;241m=\u001B[39m \u001B[38;5;124m'\u001B[39m\u001B[38;5;124mwhite\u001B[39m\u001B[38;5;124m'\u001B[39m\n\u001B[0;32m      9\u001B[0m plt\u001B[38;5;241m.\u001B[39mrcParams[\u001B[38;5;124m'\u001B[39m\u001B[38;5;124mlines.linewidth\u001B[39m\u001B[38;5;124m'\u001B[39m] \u001B[38;5;241m=\u001B[39m \u001B[38;5;241m2\u001B[39m\n\u001B[1;32m---> 10\u001B[0m plt\u001B[38;5;241m.\u001B[39mset_style(\u001B[38;5;124m'\u001B[39m\u001B[38;5;124mclassic\u001B[39m\u001B[38;5;124m'\u001B[39m)\n",
      "\u001B[1;31mAttributeError\u001B[0m: module 'matplotlib.pyplot' has no attribute 'set_style'"
     ]
    }
   ],
   "execution_count": 6
  }
 ],
 "metadata": {
  "kernelspec": {
   "display_name": "Python 3",
   "language": "python",
   "name": "python3"
  },
  "language_info": {
   "codemirror_mode": {
    "name": "ipython",
    "version": 2
   },
   "file_extension": ".py",
   "mimetype": "text/x-python",
   "name": "python",
   "nbconvert_exporter": "python",
   "pygments_lexer": "ipython2",
   "version": "2.7.6"
  }
 },
 "nbformat": 4,
 "nbformat_minor": 5
}
