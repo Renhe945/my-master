{
 "cells": [
  {
   "cell_type": "code",
   "id": "initial_id",
   "metadata": {
    "collapsed": true
   },
   "source": "",
   "outputs": [],
   "execution_count": null
  },
  {
   "metadata": {},
   "cell_type": "code",
   "source": "",
   "id": "6940a8224eb920d0",
   "outputs": [],
   "execution_count": null
  },
  {
   "metadata": {
    "ExecuteTime": {
     "end_time": "2024-09-26T06:29:52.467717Z",
     "start_time": "2024-09-26T06:29:52.446029Z"
    }
   },
   "cell_type": "code",
   "source": [
    "\n",
    "import  pandas as pd\n",
    "import  numpy as py\n",
    "\n",
    "# 利用决策树实现分类问题:\n",
    "# 加载西瓜数据\n",
    "# 调用决策树分类模型，并训练模型\n",
    "# 计算出深度=2和5时的准确率\n",
    "# 1.读取数据 xigua.txt 。（10分）\n",
    "a1=pd.read_csv(\"E:///python代码/lxrk/data/day11/xigua.txt\",names=['t1','t2','t3'])#没有列名自己定义\n",
    "# 2.打印前5行。（10分）\n",
    "print(a1.head(5))\n",
    "# 3.划分特征变量和目标变量（10分）\n",
    "# 没有变量名自己搞\n",
    "x=a1[['t1','t2']]\n",
    "y=a1['t3']\n",
    "print(x,\"\\n\",y)\n",
    "# 4.划分训练集和测试集（10分）\n",
    "from sklearn.model_selection import train_test_split\n",
    "X_train, X_test, y_train, y_test = train_test_split(x, y,test_size=0.2, random_state=0)\n",
    "# 5.创建随机森林的分类模型，并进行训练（10分）\n",
    "# from sklearn.ensemble import RandomForestClassifier\n",
    "# rfc1=RandomForestClassifier(max_depth=2)\n",
    "# rfc2=RandomForestClassifier(max_depth=2)\n",
    "from sklearn.tree import DecisionTreeClassifier\n",
    "rfc1=DecisionTreeClassifier(max_depth=2)\n",
    "rfc2=DecisionTreeClassifier(max_depth=5)\n",
    "rfc1.fit(X_train,y_train)\n",
    "rfc2.fit(X_train,y_train)\n",
    "# 6.预测数据结果（10分）\n",
    "yc1=rfc1.predict(X_test)\n",
    "yc2=rfc2.predict(X_test)\n",
    "# 7.打印预测内容的前10个（10分）\n",
    "print(yc1[:10])\n",
    "print(yc2[:10])\n",
    "# 8.模型评估（查看全部的预测准确度）（10分）\n",
    "from sklearn.metrics import accuracy_score\n",
    "pg1=accuracy_score(y_test,yc1)\n",
    "pg2=accuracy_score(y_test,yc2)\n",
    "print(\"计算出深度=2\",pg1)\n",
    "print(\"计算出深度=5\",pg2)\n",
    "# 9.查看各个特征变量的系数（10分）\n",
    "print(rfc1.feature_importances_)\n",
    "print(rfc2.feature_importances_)\n",
    "# 10.计算出深度=2和5时的准确率(10分)\n",
    "\n",
    "\n"
   ],
   "id": "50399bd410028531",
   "outputs": [
    {
     "name": "stdout",
     "output_type": "stream",
     "text": [
      "      t1     t2  t3\n",
      "0  0.697  0.460   1\n",
      "1  0.774  0.376   1\n",
      "2  0.634  0.264   1\n",
      "3  0.608  0.318   1\n",
      "4  0.556  0.215   1\n",
      "       t1     t2\n",
      "0   0.697  0.460\n",
      "1   0.774  0.376\n",
      "2   0.634  0.264\n",
      "3   0.608  0.318\n",
      "4   0.556  0.215\n",
      "5   0.403  0.237\n",
      "6   0.481  0.149\n",
      "7   0.437  0.211\n",
      "8   0.666  0.091\n",
      "9   0.243  0.267\n",
      "10  0.245  0.057\n",
      "11  0.343  0.099\n",
      "12  0.639  0.161\n",
      "13  0.657  0.198\n",
      "14  0.360  0.370\n",
      "15  0.593  0.042\n",
      "16  0.719  0.103 \n",
      " 0     1\n",
      "1     1\n",
      "2     1\n",
      "3     1\n",
      "4     1\n",
      "5     1\n",
      "6     1\n",
      "7     1\n",
      "8     0\n",
      "9     0\n",
      "10    0\n",
      "11    0\n",
      "12    0\n",
      "13    0\n",
      "14    0\n",
      "15    0\n",
      "16    0\n",
      "Name: t3, dtype: int64\n",
      "[1 0 0 0]\n",
      "[1 0 0 0]\n",
      "计算出深度=2 0.75\n",
      "计算出深度=5 0.75\n",
      "[0.26530612 0.73469388]\n",
      "[0.26530612 0.73469388]\n"
     ]
    }
   ],
   "execution_count": 15
  },
  {
   "metadata": {},
   "cell_type": "code",
   "source": "\n",
   "id": "41aac2b81247a81d",
   "outputs": [],
   "execution_count": null
  }
 ],
 "metadata": {
  "kernelspec": {
   "display_name": "Python 3",
   "language": "python",
   "name": "python3"
  },
  "language_info": {
   "codemirror_mode": {
    "name": "ipython",
    "version": 2
   },
   "file_extension": ".py",
   "mimetype": "text/x-python",
   "name": "python",
   "nbconvert_exporter": "python",
   "pygments_lexer": "ipython2",
   "version": "2.7.6"
  }
 },
 "nbformat": 4,
 "nbformat_minor": 5
}
