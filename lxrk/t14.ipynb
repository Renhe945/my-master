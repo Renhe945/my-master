{
 "cells": [
  {
   "cell_type": "code",
   "id": "initial_id",
   "metadata": {
    "collapsed": true
   },
   "source": [
    "#    已知20个点的样本数据: [[2,5],[4,6],[3,1],[6,4],[7,2],[8,4],[2,3],[3,1],[5,7],[6,9],[12,16],[10,11],[15,19],[16,12],[11,15],[10,14],[19,11],[17,14],[16,11],[13,19]]\n",
    "# 实现k-means算法，完成以下要求。"
   ],
   "outputs": [],
   "execution_count": null
  },
  {
   "metadata": {},
   "cell_type": "code",
   "source": [
    "# 1.根据题意创建样本数据。（10分）\n",
    "import pandas as pd\n",
    "import numpy as np\n",
    "a1=np.array([[2,5],[4,6],[3,1],[6,4],[7,2],[8,4],[2,3],[3,1],[5,7],[6,9],[12,16],[10,11],[15,19],[16,12],[11,15],[10,14],[19,11],[17,14],[16,11],[13,19]])\n",
    "print(a1)\n",
    "# 2.创建kmeans模型，设置k=2。（10分）\n",
    "from sklearn.cluster import KMeans\n",
    "km=KMeans(n_clusters=2)\n",
    "\n",
    "# 3.训练模型。(10分)\n",
    "km.fit(a1)\n",
    "# 4.输出聚类中心的坐标。(10分)\n",
    "print(\"输出聚类中心的坐标\\n\",km.cluster_centers_)\n",
    "# 5.输出各点所属聚类中心的位置。(10分)\n",
    "print(\"输出各点所属聚类中心的位置\\n\",km.labels_)\n",
    "# 6.输出代价值。(10分)\n",
    "print(\"输出代价值\\n\",km.inertia_)\n"
   ],
   "id": "1c82a77156149a5e",
   "outputs": [],
   "execution_count": null
  },
  {
   "metadata": {},
   "cell_type": "code",
   "source": [
    "# 7.画出样本数据的散点图。（10分）\n",
    "import matplotlib.pyplot as plt\n",
    "import matplotlib as mpl\n",
    "mpl.rcParams['font.sans-serif']=['Simhei']\n",
    "mpl.rcParams['axes.unicode_minus']=False\n",
    "plt.scatter(a1[:,0],a1[:,1],c=km.labels_)\n",
    "plt.title(\"样本数据散点图\")\n",
    "plt.xlabel('X')\n",
    "plt.ylabel('Y')\n",
    "plt.show()"
   ],
   "id": "43d7c71e5fe007cd",
   "outputs": [],
   "execution_count": null
  },
  {
   "metadata": {},
   "cell_type": "code",
   "source": [
    "# 8.画出聚类中心的位置。(10分)/聚类中心的坐标\n",
    "t8=km.cluster_centers_\n",
    "#样本数据散点图\n",
    "plt.scatter(a1[:,0],a1[:,1],c=km.labels_)\n",
    "plt.scatter(t8[:,0],t8[:,1],marker='X', c='red', s=200)#标记X\n",
    "plt.title(\"聚类中心的坐标\")\n",
    "plt.xlabel('X')\n",
    "plt.ylabel('Y')\n",
    "plt.show()"
   ],
   "id": "ac76ec8838d0e6c6",
   "outputs": [],
   "execution_count": null
  },
  {
   "metadata": {},
   "cell_type": "code",
   "source": [
    "# 9.分别设置k的值从1到10，并计算对应的代价值。（10分）\n",
    "arr=[]\n",
    "for k in range(1,11):\n",
    "    km1=KMeans(n_clusters=k).fit(a1)\n",
    "    arr.append(km1.inertia_)\n",
    "print(\"对应的代价值\\n\",arr)\n"
   ],
   "id": "3efd749bee9ad74d",
   "outputs": [],
   "execution_count": null
  },
  {
   "metadata": {},
   "cell_type": "code",
   "source": [
    "# 10.实现肘部法则，并画出肘部法则曲线。(10分)\n",
    "plt.plot(range(1,11),arr,marker='o')\n",
    "plt.title('肘部法则')\n",
    "plt.xlabel('聚类数(k)')\n",
    "plt.ylabel('惯性原理 ')\n",
    "plt.show()\n"
   ],
   "id": "eba6e15e3f32263a",
   "outputs": [],
   "execution_count": null
  }
 ],
 "metadata": {
  "kernelspec": {
   "display_name": "Python 3",
   "language": "python",
   "name": "python3"
  },
  "language_info": {
   "codemirror_mode": {
    "name": "ipython",
    "version": 2
   },
   "file_extension": ".py",
   "mimetype": "text/x-python",
   "name": "python",
   "nbconvert_exporter": "python",
   "pygments_lexer": "ipython2",
   "version": "2.7.6"
  }
 },
 "nbformat": 4,
 "nbformat_minor": 5
}
