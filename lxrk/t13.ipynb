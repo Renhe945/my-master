{
 "cells": [
  {
   "cell_type": "code",
   "id": "initial_id",
   "metadata": {
    "collapsed": true
   },
   "source": [
    "# 通过已有的员工离职预测模型来搭建相应的员工离职预测模型，预测之后的员工是否会离职。\n",
    "# 复杂问题简述\n",
    "# 1、ID3、C4.5、CART算法有什么区别？\n",
    "# 2、如何避免过拟合？\n",
    "# 3、特征变量的重要性如何计算？\n",
    "# 4、叶子节点何时停止分裂？\n",
    "# 5、模型预测效果如何评估？\n",
    "# 6、模型参数如何调优？\n",
    "# 7、训练好的模型如何保存？\n",
    "# （二）评分要求"
   ],
   "outputs": [],
   "execution_count": null
  },
  {
   "metadata": {},
   "cell_type": "code",
   "source": [
    "\n",
    "from sklearn.metrics import accuracy_score, roc_curve, auc\n",
    "from xgboost import XGBClassifier\n",
    "from sklearn.model_selection import train_test_split\n",
    "from unittest import result\n",
    "# 1.首先读取员工信息以及其交易离职表现，即是否离职记录（10分）\n",
    "import pandas as pd\n",
    "import numpy as py\n",
    "pd.set_option('future.no_silent_downcasting', True)\n",
    "a1 = pd.read_excel(\"E:///python代码/lxrk/data/day13/员工离职预测模型.xlsx\")\n",
    "print(a1)\n",
    "a2= a1.replace({'低': 0, '中': 1, '高': 2},inplace=False).astype(int)\n",
    "a2\n",
    "\n",
    "# # 3.提取特征变量和目标变量（10分）\n",
    "x=a2.iloc[:,:-1]\n",
    "y=a2['离职']\n",
    "# # 4.划分训练集和测试集（10分）\n",
    "X_train, X_test, y_train, y_test = train_test_split(x, y,test_size=0.2, random_state=42)\n",
    "# # 5.创建xgboost模型，并使用训练集进行训练（10分）\n",
    "clf = XGBClassifier(enable_categorical=True)\n",
    "# # # 6.使用测试集预测是否离职（10分）\n",
    "clf.fit(X_train,y_train)\n",
    "yc=clf.predict(X_test)\n",
    "# 7.查看整体的预测准确度（10分）\n",
    "zqd=accuracy_score(y_test, yc)\n",
    "print(\"准确度\",zqd)\n",
    "# 8.查看预测属于各个分类的概率（10分）\n",
    "预测概率 = clf.predict_proba(X_test)\n",
    "print(预测概率)\n",
    "# 9.查看不同阈值下的假警报率和命中率（10分）\n",
    "fpr, tpr, thresholds =roc_curve(y_test,yc)\n",
    "aus1=auc(fpr, tpr)"
   ],
   "id": "f1b01af6dc5643f",
   "outputs": [],
   "execution_count": null
  },
  {
   "metadata": {},
   "cell_type": "code",
   "source": [
    "# 10.已知了不同阈值下的假警报率和命中率，可通过matplotlib库可绘制ROC曲线（10分）\n",
    "import matplotlib.pyplot as plt\n",
    "plt.rcParams['font.sans-serif']=['Simhei']\n",
    "plt.rcParams['axes.unicode_minus'] = False\n",
    "plt.plot(fpr, tpr)\n",
    "plt.xlabel(\"假警报率\")\n",
    "plt.ylabel(\"命中率\")\n",
    "plt.title(\"是否会离职\")\n",
    "plt.show()\n"
   ],
   "id": "1325e307f3c4e5c2",
   "outputs": [],
   "execution_count": null
  }
 ],
 "metadata": {
  "kernelspec": {
   "display_name": "Python 3",
   "language": "python",
   "name": "python3"
  },
  "language_info": {
   "codemirror_mode": {
    "name": "ipython",
    "version": 2
   },
   "file_extension": ".py",
   "mimetype": "text/x-python",
   "name": "python",
   "nbconvert_exporter": "python",
   "pygments_lexer": "ipython2",
   "version": "2.7.6"
  }
 },
 "nbformat": 4,
 "nbformat_minor": 5
}
