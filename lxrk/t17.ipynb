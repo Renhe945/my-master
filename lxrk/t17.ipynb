{
 "cells": [
  {
   "cell_type": "code",
   "id": "initial_id",
   "metadata": {
    "collapsed": true,
    "ExecuteTime": {
     "end_time": "2024-10-06T11:27:38.968417Z",
     "start_time": "2024-10-06T11:27:38.844988Z"
    }
   },
   "source": [
    "from sklearn.metrics import accuracy_score\n",
    "from sklearn.model_selection import GridSearchCV\n",
    "from sklearn.datasets import load_iris\n",
    "import pandas as pd\n",
    "import numpy as py\n",
    "\n",
    "# 1.从sklearn官网datasets模块加载并返回鸢尾花数据集（10分）\n",
    "\n",
    "data = load_iris()\n",
    "\n",
    "# 2.选择合适的特征。（10分）\n",
    "x=data.data\n",
    "y=data.target\n",
    "\n",
    "# 3.拆分数据集为训练集和测试集。（10分）\n",
    "from sklearn.model_selection import train_test_split\n",
    "X_train, X_test, y_train, y_test = train_test_split(x, y,test_size=0.2, random_state=30)\n",
    "\n",
    "# 4.创建决策树模型。（10分）\n",
    "from sklearn.tree import DecisionTreeClassifier\n",
    "clf = DecisionTreeClassifier(max_depth=3,min_samples_split=3,min_samples_leaf=2)\n",
    "clf.fit(X_train,y_train)\n",
    "yc=clf.predict(X_test)\n",
    "# 5.使用网格搜索和交叉验证对决策树进行超参数训练。（20分）\n",
    "a1={'max_depth':[3,4,5],'min_samples_split':[3,4,5],'min_samples_leaf':[2,3,4]}\n",
    "wl = GridSearchCV(estimator=clf,param_grid=a1)\n",
    "wl.fit(X_train,y_train)\n",
    "\n",
    "# 6.选择出最优模型，并输出最优模型超参数（10分）\n",
    "zy=wl.best_estimator_\n",
    "print('最优超参数',zy)\n",
    "# 7.使用最优模型对测试集进行测试。（10分）\n",
    "t7=zy.predict(X_test)\n",
    "print(t7)\n",
    "\n",
    "# 8.评估预测结果。（10分）\n",
    "t8=accuracy_score(y_test, t7)\n",
    "print(t8)\n",
    "\n",
    "# 9.注释完整（10分）\n",
    "\n"
   ],
   "outputs": [
    {
     "name": "stdout",
     "output_type": "stream",
     "text": [
      "最优超参数 DecisionTreeClassifier(max_depth=4, min_samples_leaf=2, min_samples_split=3)\n",
      "[0 0 0 2 1 1 2 2 1 2 0 2 1 1 0 1 0 0 0 1 1 0 0 0 2 2 2 2 0 1]\n",
      "0.9333333333333333\n"
     ]
    }
   ],
   "execution_count": 7
  }
 ],
 "metadata": {
  "kernelspec": {
   "display_name": "Python 3",
   "language": "python",
   "name": "python3"
  },
  "language_info": {
   "codemirror_mode": {
    "name": "ipython",
    "version": 2
   },
   "file_extension": ".py",
   "mimetype": "text/x-python",
   "name": "python",
   "nbconvert_exporter": "python",
   "pygments_lexer": "ipython2",
   "version": "2.7.6"
  }
 },
 "nbformat": 4,
 "nbformat_minor": 5
}
