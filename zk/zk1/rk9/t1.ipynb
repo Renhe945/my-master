{
 "cells": [
  {
   "metadata": {},
   "cell_type": "markdown",
   "source": "# 回归用来预测（如房价预测）",
   "id": "7b73c9939f6ee72"
  },
  {
   "metadata": {},
   "cell_type": "code",
   "source": [
    "import  pandas as pd\n",
    "import  numpy as py\n",
    "from sklearn.preprocessing import StandardScaler\n",
    "from sklearn.linear_model import LogisticRegression\n",
    "from sklearn.pipeline import make_pipeline\n",
    "from sklearn.datasets import load_iris\n",
    "from sklearn.model_selection import train_test_split\n",
    "from sklearn.metrics import accuracy_score"
   ],
   "id": "c84bc4c8a555a6e6",
   "outputs": [],
   "execution_count": null
  },
  {
   "metadata": {},
   "cell_type": "markdown",
   "source": "",
   "id": "32bf909b96449967"
  },
  {
   "cell_type": "code",
   "id": "initial_id",
   "metadata": {
    "collapsed": true
   },
   "source": [
    "# 1、读取数据股票客户流失.xlsx。（10分）\n",
    "a1=pd.read_excel(\"E:///python代码/zk1/rk9/data/股票客户流失.xlsx\")\n",
    "# 2、打印前5行。（10分）\n",
    "print(a1.head(5))"
   ],
   "outputs": [],
   "execution_count": null
  },
  {
   "metadata": {},
   "cell_type": "code",
   "outputs": [],
   "execution_count": null,
   "source": "",
   "id": "f5ffb2b907de2fd3"
  },
  {
   "metadata": {},
   "cell_type": "code",
   "source": [
    "# # 3、划分特征变量和目标变量（10分）\n",
    "# x=a1.iloc[:, :-1]\n",
    "# y=a1['是否流失']\n",
    "# print(\"特征变量\\n\",x,\"\\n目标变量\\n\",y)\n",
    "# # 4、划分训练集和测试集（10分）\n",
    "# x_train, x_test, y_train, y_test = train_test_split(x, y,train_size=0.2, random_state=33)\n",
    "# # # 5、建模训练（20分）\n",
    "# lr=LogisticRegression()\n",
    "# lr.fit(x_train, y_train)"
   ],
   "id": "53ab9cba5024b2b9",
   "outputs": [],
   "execution_count": null
  },
  {
   "metadata": {},
   "cell_type": "code",
   "source": [
    "# # 6、预测数据结果（10分）\n",
    "# yc=lr.predict(x_test)\n",
    "# # 7、打印预测内容的前100条数据（10分）\n",
    "# print(yc[:100])\n",
    "# # # 8、模型评估（查看全部的预测准确度）（10分）\n",
    "# pg=accuracy_score(yc, y_test)\n",
    "# print(\"# 8、模型评估（查看全部的预测准确度）（10分）\\n\",pg)\n",
    "# # 9、查看各个特征变量的系数（0分）\n",
    "# print(\"# 9、查看各个特征变量的系数（0分）\\n\",lr.coef_)"
   ],
   "id": "f47b81d6a5c6b0e7",
   "outputs": [],
   "execution_count": null
  },
  {
   "metadata": {},
   "cell_type": "markdown",
   "source": "# 岭回归\n",
   "id": "31e29f9b84332600"
  },
  {
   "metadata": {},
   "cell_type": "code",
   "outputs": [],
   "execution_count": null,
   "source": "",
   "id": "85da75104f7f0998"
  },
  {
   "metadata": {},
   "cell_type": "code",
   "outputs": [],
   "execution_count": null,
   "source": [
    "from sklearn.linear_model._sgd_fast import Regression\n",
    "\n",
    "a1=pd.read_excel(\"E:///python代码/zk1/rk9/data/股票客户流失.xlsx\")\n",
    "x=a1.iloc[:, :-1]\n",
    "y=a1['是否流失']\n",
    "x_train, x_test, y_train, y_test = train_test_split(x, y,train_size=0.2, random_state=33)\n",
    "rs=Regression()\n",
    "rs.fit(x_train, y_train)\n",
    "\n",
    "\n"
   ],
   "id": "416853278196644a"
  }
 ],
 "metadata": {
  "kernelspec": {
   "display_name": "Python 3",
   "language": "python",
   "name": "python3"
  },
  "language_info": {
   "codemirror_mode": {
    "name": "ipython",
    "version": 2
   },
   "file_extension": ".py",
   "mimetype": "text/x-python",
   "name": "python",
   "nbconvert_exporter": "python",
   "pygments_lexer": "ipython2",
   "version": "2.7.6"
  }
 },
 "nbformat": 4,
 "nbformat_minor": 5
}
