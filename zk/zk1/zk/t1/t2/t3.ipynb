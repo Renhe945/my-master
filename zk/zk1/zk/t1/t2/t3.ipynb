{
 "cells": [
  {
   "metadata": {},
   "cell_type": "markdown",
   "source": "# python 算法",
   "id": "d50e4338677d464f"
  },
  {
   "metadata": {
    "ExecuteTime": {
     "end_time": "2024-09-22T12:18:12.417633Z",
     "start_time": "2024-09-22T12:18:12.034601Z"
    }
   },
   "cell_type": "code",
   "source": [
    "import  pandas as  pd\n",
    "import  numpy as py\n",
    "from sklearn.model_selection import train_test_split\n",
    "from sklearn.linear_model import LogisticRegression\n",
    "from sklearn.metrics import accuracy_score\n",
    "\n",
    "# 1、读取数据股票客户流失.xlsx。（10分）\n",
    "a1=pd.read_excel(\"E:\\\\python代码\\\\zk1\\\\zk\\\\data\\\\股票客户流失.xlsx\")\n",
    "# 2、打印前5行。（10分）\n",
    "print(a1.head(5))\n",
    "# 3、划分特征变量和目标变量（10分）\n",
    "x=a1.drop('是否流失',axis=1)\n",
    "y=a1['是否流失']\n",
    "x=a1.iloc[:,:-1]\n",
    "y=a1['是否流失']\n",
    "\n",
    "# 4、划分训练集和测试集（10分）\n",
    "x_train,x_test,y_train,y_test=train_test_split(x,y,train_size=0.2,random_state=33)\n",
    "# 5、建模训练（20分）\n",
    "lr=LogisticRegression()\n",
    "lr.fit(x_train,y_train)\n",
    "\n",
    "# 6、预测数据结果（10分）\n",
    "yc=lr.predict(x_test)#预测 /\n",
    "# 7、打印预测内容的前100条数据（10分）\\\n",
    "print(yc[:100])\n",
    "\n",
    "# 8、模型评估（查看全部的预测准确度）（10分）\\\n",
    "pg=accuracy_score(yc, y_test)\n",
    "print(\"8题\\n\",pg)\n",
    "# 9、查看各个特征变量的系数（10分）\\\n",
    "print(\" 9、查看各个特征变量的系数（10分）\\n\",lr.coef_)\n"
   ],
   "id": "9340cd95ceaf0fb3",
   "outputs": [
    {
     "name": "stdout",
     "output_type": "stream",
     "text": [
      "    账户资金（元）  最后一次交易距今时间（天）  上月交易佣金（元）  累计交易佣金（元）  本券商使用时长（年）  是否流失\n",
      "0   22686.5            297     149.25    2029.85           0     0\n",
      "1  190055.0             42     284.75    3889.50           2     0\n",
      "2   29733.5            233     269.25    2108.15           0     1\n",
      "3  185667.5             44     211.50    3840.75           3     0\n",
      "4   33648.5            213     353.50    2151.65           0     1\n",
      "[0 1 0 1 0 0 0 0 0 0 0 0 0 0 0 0 0 0 0 0 1 0 0 0 0 0 0 1 0 1 0 0 0 0 1 0 0\n",
      " 0 0 0 0 1 0 0 0 0 0 0 0 0 0 0 0 0 0 0 0 0 0 0 0 0 0 1 0 0 0 1 0 0 0 0 0 0\n",
      " 0 0 0 0 0 0 0 0 1 1 0 0 1 0 1 0 0 0 0 0 1 0 0 0 1 0]\n",
      "8题\n",
      " 0.785980479148181\n",
      " 9、查看各个特征变量的系数（10分）\n",
      " [[ 2.34797981e-05  8.31083285e-03  1.01375765e-02 -2.50142328e-03\n",
      "  -1.09395833e-04]]\n"
     ]
    }
   ],
   "execution_count": 16
  },
  {
   "metadata": {},
   "cell_type": "code",
   "outputs": [],
   "execution_count": null,
   "source": [
    "# 1、读取数据股票客户流失.xlsx。（10分）\n",
    "a1=pd.read_excel(\"E:///python代码/zk1/zk/data/股票客户流失.xlsx\")"
   ],
   "id": "cae9c375662efcb3"
  }
 ],
 "metadata": {
  "kernelspec": {
   "display_name": "Python 3",
   "language": "python",
   "name": "python3"
  },
  "language_info": {
   "codemirror_mode": {
    "name": "ipython",
    "version": 2
   },
   "file_extension": ".py",
   "mimetype": "text/x-python",
   "name": "python",
   "nbconvert_exporter": "python",
   "pygments_lexer": "ipython2",
   "version": "2.7.6"
  }
 },
 "nbformat": 4,
 "nbformat_minor": 5
}
