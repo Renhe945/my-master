{
 "cells": [
  {
   "cell_type": "code",
   "execution_count": null,
   "id": "initial_id",
   "metadata": {
    "collapsed": true
   },
   "outputs": [],
   "source": [
    "import numpy as py\n",
    "py.array()\n",
    "py.argmax()\n",
    "py.argmin()\n",
    "py.bincount()\n",
    "py.ones()\n",
    "py.sort()\n",
    "py.max\n",
    "py.min\n",
    "py.reshape()\n",
    "py.ravel()\n",
    "py.linspace()\n",
    "py.loadtxt()\n",
    "py.zeros()\n",
    "py.sum()\n",
    "py.append()\n",
    "py.split()\n",
    "py.full()\n",
    "py.mean()\n",
    "py.size()"
   ]
  },
  {
   "metadata": {},
   "cell_type": "markdown",
   "source": [
    " #以下是对这些`numpy`函数的介绍：\n",
    "# \n",
    "# 1. `import numpy as py`：这是导入方式，其`numpy`是一个强大的科学计算库，用于处理多维数组和矩阵运算等。\n",
    "# 2. `np.array()`：用于创建一个`numpy`数组，可以从列表、元组等可迭代对象创建数组。\n",
    "\n",
    "# 3. `np.argmax()`：返回数组中最大值的索引。如果是多维数组，可以指定轴来沿着特定维度查找最大值索引。\n",
    "# \n",
    "# 4. `np.argmin()`：返回数组中最小值的索引，类似`np.argmax()`。\n",
    "# \n",
    "# 5. `np.bincount()`：统计非负整数数组中每个值的出现次数。\n",
    "# \n",
    "# 6. `np.ones()`：创建一个全为 1 的数组，可以指定形状。\n",
    "# \n",
    "# 7. `np.sort()`：对数组进行排序，可以指定轴和排序算法。\n",
    "# \n",
    "# 8. `np.max`：返回数组中的最大值，可以指定轴。\n",
    "# \n",
    "# 9. `np.min`：返回数组中的最小值，类似`np.max`。\n",
    "# \n",
    "# 10. `np.reshape()`：改变数组的形状，例如将一维数组变为二维数组等。\n",
    "# \n",
    "# 11. `np.ravel()`：将多维数组展平为一维数组。\n",
    "# \n",
    "# 12. `np.linspace()`：在指定范围内生成等间隔的数字序列。\n",
    "# \n",
    "# 13. `np.loadtxt()`：从文本文件中读取数据并创建数组。\n",
    "# \n",
    "# 14. `np.zeros()`：创建一个全为 0 的数组，可以指定形状。\n",
    "# \n",
    "# 15. `np.sum()`：计算数组中所有元素的和，可以指定轴。\n",
    "# \n",
    "# 16. `np.append()`：向数组中添加元素，可以在末尾或指定位置添加。\n",
    "# \n",
    "# 17. `np.split()`：将数组分割成多个子数组。\n",
    "# \n",
    "# 18. `np.full()`：创建一个具有指定形状和填充值的数组。\n",
    "# \n",
    "# 19. `np.mean()`：计算数组的平均值，可以指定轴。\n",
    "# \n",
    "# 20. `np.size()`：返回数组中元素的总数。"
   ],
   "id": "9c04111ba9f6758b"
  },
  {
   "metadata": {
    "ExecuteTime": {
     "end_time": "2024-09-20T06:12:10.531862Z",
     "start_time": "2024-09-20T06:12:10.527743Z"
    }
   },
   "cell_type": "code",
   "source": [
    "#TODO：======================用法======================\n",
    "import numpy as np\n",
    "\n",
    "# np.array()\n",
    "lst = [1, 2, 3, 4]\n",
    "arr = np.array(lst)\n",
    "print(arr)\n"
   ],
   "id": "1b0a823995dca87c",
   "outputs": [
    {
     "name": "stdout",
     "output_type": "stream",
     "text": [
      "[1 2 3 4]\n"
     ]
    }
   ],
   "execution_count": 2
  },
  {
   "metadata": {
    "ExecuteTime": {
     "end_time": "2024-09-20T06:12:14.086124Z",
     "start_time": "2024-09-20T06:12:14.075994Z"
    }
   },
   "cell_type": "code",
   "source": [
    "\n",
    "# np.argmax() 和 np.argmin()\n",
    "arr = np.array([5, 2, 8, 1])\n",
    "print(np.argmax(arr))\n",
    "print(np.argmin(arr))"
   ],
   "id": "5a1404f77ec8c5ef",
   "outputs": [
    {
     "name": "stdout",
     "output_type": "stream",
     "text": [
      "2\n",
      "3\n"
     ]
    }
   ],
   "execution_count": 3
  },
  {
   "metadata": {
    "ExecuteTime": {
     "end_time": "2024-09-20T06:12:23.020823Z",
     "start_time": "2024-09-20T06:12:23.015603Z"
    }
   },
   "cell_type": "code",
   "source": [
    "\n",
    "\n",
    "# np.bincount()\n",
    "arr = np.array([1, 1, 2, 3, 3])\n",
    "print(np.bincount(arr))"
   ],
   "id": "831dff66aa8c8504",
   "outputs": [
    {
     "name": "stdout",
     "output_type": "stream",
     "text": [
      "[0 2 1 2]\n"
     ]
    }
   ],
   "execution_count": 4
  },
  {
   "metadata": {
    "ExecuteTime": {
     "end_time": "2024-09-20T06:12:25.040314Z",
     "start_time": "2024-09-20T06:12:25.035656Z"
    }
   },
   "cell_type": "code",
   "source": [
    "\n",
    "# np.ones()\n",
    "ones_arr = np.ones((3, 4))\n",
    "print(ones_arr)\n"
   ],
   "id": "58852c983f03cc55",
   "outputs": [
    {
     "name": "stdout",
     "output_type": "stream",
     "text": [
      "[[1. 1. 1. 1.]\n",
      " [1. 1. 1. 1.]\n",
      " [1. 1. 1. 1.]]\n"
     ]
    }
   ],
   "execution_count": 5
  },
  {
   "metadata": {
    "ExecuteTime": {
     "end_time": "2024-09-20T06:12:27.756969Z",
     "start_time": "2024-09-20T06:12:27.753693Z"
    }
   },
   "cell_type": "code",
   "source": [
    "\n",
    "# np.sort()\n",
    "arr = np.array([4, 2, 6, 1])\n",
    "sorted_arr = np.sort(arr)\n",
    "print(sorted_arr)\n",
    "\n"
   ],
   "id": "5eb762b9bcc81184",
   "outputs": [
    {
     "name": "stdout",
     "output_type": "stream",
     "text": [
      "[1 2 4 6]\n"
     ]
    }
   ],
   "execution_count": 6
  },
  {
   "metadata": {
    "ExecuteTime": {
     "end_time": "2024-09-20T06:12:29.878733Z",
     "start_time": "2024-09-20T06:12:29.865516Z"
    }
   },
   "cell_type": "code",
   "source": [
    "# np.max 和 np.min\n",
    "arr = np.array([3, 7, 2, 9])\n",
    "print(np.max(arr))\n",
    "print(np.min(arr))\n",
    "\n"
   ],
   "id": "686979c30fbb43d9",
   "outputs": [
    {
     "name": "stdout",
     "output_type": "stream",
     "text": [
      "9\n",
      "2\n"
     ]
    }
   ],
   "execution_count": 7
  },
  {
   "metadata": {
    "ExecuteTime": {
     "end_time": "2024-09-20T06:12:32.101099Z",
     "start_time": "2024-09-20T06:12:32.095577Z"
    }
   },
   "cell_type": "code",
   "source": [
    "# np.reshape()\n",
    "arr = np.array([1, 2, 3, 4, 5, 6])\n",
    "reshaped_arr = arr.reshape(2, 3)\n",
    "print(reshaped_arr)\n",
    "\n"
   ],
   "id": "7951d5d8c0b14fd7",
   "outputs": [
    {
     "name": "stdout",
     "output_type": "stream",
     "text": [
      "[[1 2 3]\n",
      " [4 5 6]]\n"
     ]
    }
   ],
   "execution_count": 8
  },
  {
   "metadata": {
    "ExecuteTime": {
     "end_time": "2024-09-20T06:12:34.166299Z",
     "start_time": "2024-09-20T06:12:34.160789Z"
    }
   },
   "cell_type": "code",
   "source": [
    "\n",
    "# np.ravel()\n",
    "arr = np.array([[1, 2], [3, 4]])\n",
    "flattened_arr = np.ravel(arr)\n",
    "print(flattened_arr)\n",
    "\n"
   ],
   "id": "f18b0334b1ec9e3d",
   "outputs": [
    {
     "name": "stdout",
     "output_type": "stream",
     "text": [
      "[1 2 3 4]\n"
     ]
    }
   ],
   "execution_count": 9
  },
  {
   "metadata": {
    "ExecuteTime": {
     "end_time": "2024-09-20T06:12:36.548237Z",
     "start_time": "2024-09-20T06:12:36.543074Z"
    }
   },
   "cell_type": "code",
   "source": [
    "\n",
    "\n",
    "# np.linspace()\n",
    "linspace_arr = np.linspace(0, 10, 5)\n",
    "print(linspace_arr)\n",
    "\n"
   ],
   "id": "17b8409d6785d755",
   "outputs": [
    {
     "name": "stdout",
     "output_type": "stream",
     "text": [
      "[ 0.   2.5  5.   7.5 10. ]\n"
     ]
    }
   ],
   "execution_count": 10
  },
  {
   "metadata": {
    "ExecuteTime": {
     "end_time": "2024-09-20T06:12:38.887263Z",
     "start_time": "2024-09-20T06:12:38.829218Z"
    }
   },
   "cell_type": "code",
   "source": [
    "\n",
    "\n",
    "# np.loadtxt()\n",
    "# 假设存在一个文本文件 data.txt，内容为：1 2 3\\n4 5 6\n",
    "data = np.loadtxt('data.txt')\n",
    "print(data)\n",
    "\n",
    "\n"
   ],
   "id": "cb1dcd031344dc2f",
   "outputs": [
    {
     "ename": "FileNotFoundError",
     "evalue": "data.txt not found.",
     "output_type": "error",
     "traceback": [
      "\u001B[1;31m---------------------------------------------------------------------------\u001B[0m",
      "\u001B[1;31mFileNotFoundError\u001B[0m                         Traceback (most recent call last)",
      "Cell \u001B[1;32mIn[11], line 3\u001B[0m\n\u001B[0;32m      1\u001B[0m \u001B[38;5;66;03m# np.loadtxt()\u001B[39;00m\n\u001B[0;32m      2\u001B[0m \u001B[38;5;66;03m# 假设存在一个文本文件 data.txt，内容为：1 2 3\\n4 5 6\u001B[39;00m\n\u001B[1;32m----> 3\u001B[0m data \u001B[38;5;241m=\u001B[39m np\u001B[38;5;241m.\u001B[39mloadtxt(\u001B[38;5;124m'\u001B[39m\u001B[38;5;124mdata.txt\u001B[39m\u001B[38;5;124m'\u001B[39m)\n\u001B[0;32m      4\u001B[0m \u001B[38;5;28mprint\u001B[39m(data)\n",
      "File \u001B[1;32mD:\\Jupyter\\Lib\\site-packages\\numpy\\lib\\npyio.py:1373\u001B[0m, in \u001B[0;36mloadtxt\u001B[1;34m(fname, dtype, comments, delimiter, converters, skiprows, usecols, unpack, ndmin, encoding, max_rows, quotechar, like)\u001B[0m\n\u001B[0;32m   1370\u001B[0m \u001B[38;5;28;01mif\u001B[39;00m \u001B[38;5;28misinstance\u001B[39m(delimiter, \u001B[38;5;28mbytes\u001B[39m):\n\u001B[0;32m   1371\u001B[0m     delimiter \u001B[38;5;241m=\u001B[39m delimiter\u001B[38;5;241m.\u001B[39mdecode(\u001B[38;5;124m'\u001B[39m\u001B[38;5;124mlatin1\u001B[39m\u001B[38;5;124m'\u001B[39m)\n\u001B[1;32m-> 1373\u001B[0m arr \u001B[38;5;241m=\u001B[39m _read(fname, dtype\u001B[38;5;241m=\u001B[39mdtype, comment\u001B[38;5;241m=\u001B[39mcomment, delimiter\u001B[38;5;241m=\u001B[39mdelimiter,\n\u001B[0;32m   1374\u001B[0m             converters\u001B[38;5;241m=\u001B[39mconverters, skiplines\u001B[38;5;241m=\u001B[39mskiprows, usecols\u001B[38;5;241m=\u001B[39musecols,\n\u001B[0;32m   1375\u001B[0m             unpack\u001B[38;5;241m=\u001B[39munpack, ndmin\u001B[38;5;241m=\u001B[39mndmin, encoding\u001B[38;5;241m=\u001B[39mencoding,\n\u001B[0;32m   1376\u001B[0m             max_rows\u001B[38;5;241m=\u001B[39mmax_rows, quote\u001B[38;5;241m=\u001B[39mquotechar)\n\u001B[0;32m   1378\u001B[0m \u001B[38;5;28;01mreturn\u001B[39;00m arr\n",
      "File \u001B[1;32mD:\\Jupyter\\Lib\\site-packages\\numpy\\lib\\npyio.py:992\u001B[0m, in \u001B[0;36m_read\u001B[1;34m(fname, delimiter, comment, quote, imaginary_unit, usecols, skiplines, max_rows, converters, ndmin, unpack, dtype, encoding)\u001B[0m\n\u001B[0;32m    990\u001B[0m     fname \u001B[38;5;241m=\u001B[39m os\u001B[38;5;241m.\u001B[39mfspath(fname)\n\u001B[0;32m    991\u001B[0m \u001B[38;5;28;01mif\u001B[39;00m \u001B[38;5;28misinstance\u001B[39m(fname, \u001B[38;5;28mstr\u001B[39m):\n\u001B[1;32m--> 992\u001B[0m     fh \u001B[38;5;241m=\u001B[39m np\u001B[38;5;241m.\u001B[39mlib\u001B[38;5;241m.\u001B[39m_datasource\u001B[38;5;241m.\u001B[39mopen(fname, \u001B[38;5;124m'\u001B[39m\u001B[38;5;124mrt\u001B[39m\u001B[38;5;124m'\u001B[39m, encoding\u001B[38;5;241m=\u001B[39mencoding)\n\u001B[0;32m    993\u001B[0m     \u001B[38;5;28;01mif\u001B[39;00m encoding \u001B[38;5;129;01mis\u001B[39;00m \u001B[38;5;28;01mNone\u001B[39;00m:\n\u001B[0;32m    994\u001B[0m         encoding \u001B[38;5;241m=\u001B[39m \u001B[38;5;28mgetattr\u001B[39m(fh, \u001B[38;5;124m'\u001B[39m\u001B[38;5;124mencoding\u001B[39m\u001B[38;5;124m'\u001B[39m, \u001B[38;5;124m'\u001B[39m\u001B[38;5;124mlatin1\u001B[39m\u001B[38;5;124m'\u001B[39m)\n",
      "File \u001B[1;32mD:\\Jupyter\\Lib\\site-packages\\numpy\\lib\\_datasource.py:193\u001B[0m, in \u001B[0;36mopen\u001B[1;34m(path, mode, destpath, encoding, newline)\u001B[0m\n\u001B[0;32m    156\u001B[0m \u001B[38;5;250m\u001B[39m\u001B[38;5;124;03m\"\"\"\u001B[39;00m\n\u001B[0;32m    157\u001B[0m \u001B[38;5;124;03mOpen `path` with `mode` and return the file object.\u001B[39;00m\n\u001B[0;32m    158\u001B[0m \n\u001B[1;32m   (...)\u001B[0m\n\u001B[0;32m    189\u001B[0m \n\u001B[0;32m    190\u001B[0m \u001B[38;5;124;03m\"\"\"\u001B[39;00m\n\u001B[0;32m    192\u001B[0m ds \u001B[38;5;241m=\u001B[39m DataSource(destpath)\n\u001B[1;32m--> 193\u001B[0m \u001B[38;5;28;01mreturn\u001B[39;00m ds\u001B[38;5;241m.\u001B[39mopen(path, mode, encoding\u001B[38;5;241m=\u001B[39mencoding, newline\u001B[38;5;241m=\u001B[39mnewline)\n",
      "File \u001B[1;32mD:\\Jupyter\\Lib\\site-packages\\numpy\\lib\\_datasource.py:533\u001B[0m, in \u001B[0;36mDataSource.open\u001B[1;34m(self, path, mode, encoding, newline)\u001B[0m\n\u001B[0;32m    530\u001B[0m     \u001B[38;5;28;01mreturn\u001B[39;00m _file_openers[ext](found, mode\u001B[38;5;241m=\u001B[39mmode,\n\u001B[0;32m    531\u001B[0m                               encoding\u001B[38;5;241m=\u001B[39mencoding, newline\u001B[38;5;241m=\u001B[39mnewline)\n\u001B[0;32m    532\u001B[0m \u001B[38;5;28;01melse\u001B[39;00m:\n\u001B[1;32m--> 533\u001B[0m     \u001B[38;5;28;01mraise\u001B[39;00m \u001B[38;5;167;01mFileNotFoundError\u001B[39;00m(\u001B[38;5;124mf\u001B[39m\u001B[38;5;124m\"\u001B[39m\u001B[38;5;132;01m{\u001B[39;00mpath\u001B[38;5;132;01m}\u001B[39;00m\u001B[38;5;124m not found.\u001B[39m\u001B[38;5;124m\"\u001B[39m)\n",
      "\u001B[1;31mFileNotFoundError\u001B[0m: data.txt not found."
     ]
    }
   ],
   "execution_count": 11
  },
  {
   "metadata": {
    "ExecuteTime": {
     "end_time": "2024-09-20T06:12:47.294827Z",
     "start_time": "2024-09-20T06:12:47.290612Z"
    }
   },
   "cell_type": "code",
   "source": [
    "\n",
    "\n",
    "\n",
    "# np.zeros()\n",
    "zeros_arr = np.zeros((2, 3))\n",
    "print(zeros_arr)\n",
    "\n",
    "\n"
   ],
   "id": "9d553d60ad3a8834",
   "outputs": [
    {
     "name": "stdout",
     "output_type": "stream",
     "text": [
      "[[0. 0. 0.]\n",
      " [0. 0. 0.]]\n"
     ]
    }
   ],
   "execution_count": 12
  },
  {
   "metadata": {
    "ExecuteTime": {
     "end_time": "2024-09-20T06:12:49.969047Z",
     "start_time": "2024-09-20T06:12:49.965707Z"
    }
   },
   "cell_type": "code",
   "source": [
    "\n",
    "\n",
    "# np.sum()\n",
    "arr = np.array([[1, 2], [3, 4]])\n",
    "print(np.sum(arr))\n",
    "\n"
   ],
   "id": "f12c7c48bf2a516",
   "outputs": [
    {
     "name": "stdout",
     "output_type": "stream",
     "text": [
      "10\n"
     ]
    }
   ],
   "execution_count": 13
  },
  {
   "metadata": {
    "ExecuteTime": {
     "end_time": "2024-09-20T06:12:52.506536Z",
     "start_time": "2024-09-20T06:12:52.500543Z"
    }
   },
   "cell_type": "code",
   "source": [
    "\n",
    "\n",
    "# np.append()\n",
    "arr = np.array([1, 2, 3])\n",
    "new_arr = np.append(arr, 4)\n",
    "print(new_arr)\n",
    "\n",
    "\n"
   ],
   "id": "7ff869a1255bde97",
   "outputs": [
    {
     "name": "stdout",
     "output_type": "stream",
     "text": [
      "[1 2 3 4]\n"
     ]
    }
   ],
   "execution_count": 14
  },
  {
   "metadata": {
    "ExecuteTime": {
     "end_time": "2024-09-20T06:12:54.523196Z",
     "start_time": "2024-09-20T06:12:54.515812Z"
    }
   },
   "cell_type": "code",
   "source": [
    "\n",
    "\n",
    "\n",
    "# np.append()\n",
    "arr = np.array([1, 2, 3])\n",
    "new_arr = np.append(arr, 4)\n",
    "print(new_arr)\n",
    "\n",
    "\n"
   ],
   "id": "567276a7a675dd90",
   "outputs": [
    {
     "name": "stdout",
     "output_type": "stream",
     "text": [
      "[1 2 3 4]\n"
     ]
    }
   ],
   "execution_count": 15
  },
  {
   "metadata": {
    "ExecuteTime": {
     "end_time": "2024-09-20T06:12:56.150414Z",
     "start_time": "2024-09-20T06:12:56.145877Z"
    }
   },
   "cell_type": "code",
   "source": [
    "\n",
    "\n",
    "# np.full()\n",
    "full_arr = np.full((2, 3), 5)\n",
    "print(full_arr)\n",
    "\n"
   ],
   "id": "d076b4d243bef6d6",
   "outputs": [
    {
     "name": "stdout",
     "output_type": "stream",
     "text": [
      "[[5 5 5]\n",
      " [5 5 5]]\n"
     ]
    }
   ],
   "execution_count": 16
  },
  {
   "metadata": {
    "ExecuteTime": {
     "end_time": "2024-09-20T06:12:58.194267Z",
     "start_time": "2024-09-20T06:12:58.187069Z"
    }
   },
   "cell_type": "code",
   "source": [
    "\n",
    "\n",
    "# np.mean()\n",
    "arr = np.array([2, 4, 6])\n",
    "print(np.mean(arr))\n"
   ],
   "id": "4706b2a5b10da17e",
   "outputs": [
    {
     "name": "stdout",
     "output_type": "stream",
     "text": [
      "4.0\n"
     ]
    }
   ],
   "execution_count": 17
  },
  {
   "metadata": {
    "ExecuteTime": {
     "end_time": "2024-09-20T06:13:02.500064Z",
     "start_time": "2024-09-20T06:13:02.495826Z"
    }
   },
   "cell_type": "code",
   "source": [
    "\n",
    "# np.size()\n",
    "arr = np.array([[1, 2, 3], [4, 5, 6]])\n",
    "print(np.size(arr))\n"
   ],
   "id": "59e5d6d538ffa402",
   "outputs": [
    {
     "name": "stdout",
     "output_type": "stream",
     "text": [
      "6\n"
     ]
    }
   ],
   "execution_count": 18
  }
 ],
 "metadata": {
  "kernelspec": {
   "display_name": "Python 3",
   "language": "python",
   "name": "python3"
  },
  "language_info": {
   "codemirror_mode": {
    "name": "ipython",
    "version": 2
   },
   "file_extension": ".py",
   "mimetype": "text/x-python",
   "name": "python",
   "nbconvert_exporter": "python",
   "pygments_lexer": "ipython2",
   "version": "2.7.6"
  }
 },
 "nbformat": 4,
 "nbformat_minor": 5
}
