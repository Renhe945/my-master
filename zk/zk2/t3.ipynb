{
 "cells": [
  {
   "metadata": {},
   "cell_type": "code",
   "source": [
    "import pandas as pd\n",
    "import numpy as ny"
   ],
   "id": "f930b4d20d22fc90",
   "outputs": [],
   "execution_count": null
  },
  {
   "cell_type": "code",
   "id": "initial_id",
   "metadata": {
    "collapsed": true
   },
   "source": [
    "# 题目三 使用sk-learn的决策树完成以下功能（32分）：\n",
    "#  附件: 50_Startups.csv 字段如下:\n",
    "#         R&D Spend -- 研究经费, Administration—行政经费\n",
    "#         Marketing Spend –-市场营销费, State—市场区域  Profit—利润\n",
    "# \n",
    "# 1、读取数据文件50_Startups.csv。（4分）\n",
    "a1=pd.read_csv(\"E:///python代码/zk/zk2/data/50_Startups.csv\",sep=',')\n",
    "\n",
    "# 2、打印出数据的前10行数据。（4分）\n",
    "a1.head(10)\n"
   ],
   "outputs": [],
   "execution_count": null
  },
  {
   "metadata": {},
   "cell_type": "code",
   "source": [
    "# # 3、提取特征列和标签列，并分别对其进行数据预处理。（4分）\n",
    "# x=a1.iloc[:,:-1]\n",
    "# y=a1['Profit']\n",
    "# from sklearn.model_selection import train_test_split\n",
    "# X_train, X_test, y_train, y_test = train_test_split(x, y,test_size=0.2, random_state=33)\n",
    "# \n",
    "# # 4、创建决策树的回归模型，使用划分后的训练数据训练模型。（4分）\n",
    "# from sklearn.tree import DecisionTreeRegressor\n",
    "# tree=DecisionTreeRegressor()\n",
    "# # 5、使用模型预测数据。（4分）\n",
    "# tree.fit(X_train,y_train)\n",
    "# yc=tree.predict(X_test)\n",
    "# # 6、将预测的结果输出到控制台。（4分）\n",
    "# print(yc)\n",
    "# 7、对模型进行评估，使用\tMAE、MSE、RMSE、R2等其中至少两个指标。（4分）\n",
    "# 8、查看模型的信息。（4分）"
   ],
   "id": "abd705a3e592aafd",
   "outputs": [],
   "execution_count": null
  },
  {
   "metadata": {},
   "cell_type": "code",
   "outputs": [],
   "execution_count": null,
   "source": "",
   "id": "5c4e7fa4933e6de8"
  }
 ],
 "metadata": {
  "kernelspec": {
   "display_name": "Python 3",
   "language": "python",
   "name": "python3"
  },
  "language_info": {
   "codemirror_mode": {
    "name": "ipython",
    "version": 2
   },
   "file_extension": ".py",
   "mimetype": "text/x-python",
   "name": "python",
   "nbconvert_exporter": "python",
   "pygments_lexer": "ipython2",
   "version": "2.7.6"
  }
 },
 "nbformat": 4,
 "nbformat_minor": 5
}
