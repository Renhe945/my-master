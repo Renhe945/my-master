{
 "cells": [
  {
   "cell_type": "code",
   "id": "initial_id",
   "metadata": {
    "collapsed": true,
    "ExecuteTime": {
     "end_time": "2024-09-25T02:49:11.414161Z",
     "start_time": "2024-09-25T02:49:11.408266Z"
    }
   },
   "source": [
    "# 题目一 使用sk-learn的线性回归完成以下功能（36分）： \n",
    "# X = [0.64,0.87,2.45,3.70,3.32,3.71,4.34,4.44,2.46,4.51,3.78,3.58,4.12,2.04,3.13,2.86,2.93,3.80,2.24,0.85]\n",
    "# Y = [7.77,8.36,12.66,16.51,15.11,16.81,18.09,19.26,12.55,18.63,16.86,15.97,17.39,11.21,14.76,13.75,14.40,16.62,12.71,7.82]\n",
    "import pandas as pd\n",
    "import numpy as ny\n",
    "# X是地区面积，第二列是地区销售利润。\n",
    "# 请通过Python实现一元线性回归模型，并用此模型预测y，具体要求如下：\n",
    "# 1、创建X和Y两个数据集。（4分）\n",
    "X = ny.array([0.64,0.87,2.45,3.70,3.32,3.71,4.34,4.44,2.46,4.51,3.78,3.58,4.12,2.04,3.13,2.86,2.93,3.80,2.24,0.85])\n",
    "Y = ny.array([7.77,8.36,12.66,16.51,15.11,16.81,18.09,19.26,12.55,18.63,16.86,15.97,17.39,11.21,14.76,13.75,14.40,16.62,12.71,7.82])\n",
    "\n",
    "# 2、打印出两个数据集。（4分）\n",
    "print(\"x的数据\\n\",X)\n",
    "print(\"y的数据\\n\",Y)"
   ],
   "outputs": [
    {
     "name": "stdout",
     "output_type": "stream",
     "text": [
      "x的数据\n",
      " [0.64 0.87 2.45 3.7  3.32 3.71 4.34 4.44 2.46 4.51 3.78 3.58 4.12 2.04\n",
      " 3.13 2.86 2.93 3.8  2.24 0.85]\n",
      "y的数据\n",
      " [ 7.77  8.36 12.66 16.51 15.11 16.81 18.09 19.26 12.55 18.63 16.86 15.97\n",
      " 17.39 11.21 14.76 13.75 14.4  16.62 12.71  7.82]\n"
     ]
    }
   ],
   "execution_count": 63
  },
  {
   "metadata": {
    "ExecuteTime": {
     "end_time": "2024-09-25T02:43:05.025072Z",
     "start_time": "2024-09-25T02:43:05.022112Z"
    }
   },
   "cell_type": "code",
   "source": [
    "from sklearn.preprocessing import StandardScaler\n",
    "from sklearn.pipeline import make_pipeline\n",
    "from sklearn.datasets import load_iris\n",
    "from sklearn.model_selection import train_test_split\n",
    "from sklearn.metrics import accuracy_score"
   ],
   "id": "14ace8c96b4e8eae",
   "outputs": [],
   "execution_count": 55
  },
  {
   "metadata": {
    "ExecuteTime": {
     "end_time": "2024-09-25T02:49:13.927456Z",
     "start_time": "2024-09-25T02:49:13.919863Z"
    }
   },
   "cell_type": "code",
   "source": [
    "# # 3、将数据划分成8:2的训练集和测试集。（4分\n",
    "X_train, X_test, y_train, y_test = train_test_split(X, Y,test_size=0.2, random_state=42)\n",
    "# # # 4、创建线性回归模型。（4分）\n",
    "from sklearn.linear_model import LinearRegression\n",
    "lr=LinearRegression()\n",
    "# 5、根据训练集训练模型。（4分）\n",
    "lr.fit(X_train.reshape(-1, 1) ,y_train)\n",
    "# 6、使用模型对测试集进行预测。（4分）\n",
    "yc=lr.predict(X_test.reshape(-1, 1))\n",
    "# 7、输出预测结果。（4分）\n",
    "yc"
   ],
   "id": "ed14de92cbd46ca7",
   "outputs": [
    {
     "data": {
      "text/plain": [
       "array([ 7.29526894, 16.77035604, 13.95181747,  7.98491135])"
      ]
     },
     "execution_count": 64,
     "metadata": {},
     "output_type": "execute_result"
    }
   ],
   "execution_count": 64
  },
  {
   "metadata": {
    "ExecuteTime": {
     "end_time": "2024-09-25T03:44:54.370540Z",
     "start_time": "2024-09-25T03:44:54.350299Z"
    }
   },
   "cell_type": "code",
   "source": [
    "# 8、使用MAE、MSE、RMSE对模型进行评估。（4分）\n",
    "from sklearn.metrics import mean_absolute_error\n",
    "from sklearn.metrics import mean_squared_error\n",
    "#评估\n",
    "pj_wc=mean_absolute_error(y_test, yc)#平均绝对误差\n",
    "print(\"平均绝对误差--MAE\",pj_wc)\n",
    "jf_wc=mean_squared_error(y_test, yc)#均方误差\n",
    "print(\"均方误差--MSE\",jf_wc)\n",
    "jfg_wc=ny.sqrt(jf_wc)#、均方根误差\n",
    "print(\"均方根误差--RMSE\",jfg_wc)\n",
    "\n",
    "# 9、查看模型的截距和斜率。（4分）\n",
    "#截距\n",
    "print(\"截距：\",lr.coef_)\n",
    "#斜率\n",
    "print(\"斜率：\",lr.intercept_)\n"
   ],
   "id": "ba1854eaaeb82a40",
   "outputs": [
    {
     "name": "stdout",
     "output_type": "stream",
     "text": [
      "平均绝对误差--MAE 0.3004983054265349\n",
      "均方误差--MSE 0.10734957668375977\n",
      "均方根误差--RMSE 0.3276424525054099\n",
      "截距： [2.99844529]\n",
      "斜率： 5.376263953397608\n"
     ]
    }
   ],
   "execution_count": 70
  }
 ],
 "metadata": {
  "kernelspec": {
   "display_name": "Python 3",
   "language": "python",
   "name": "python3"
  },
  "language_info": {
   "codemirror_mode": {
    "name": "ipython",
    "version": 2
   },
   "file_extension": ".py",
   "mimetype": "text/x-python",
   "name": "python",
   "nbconvert_exporter": "python",
   "pygments_lexer": "ipython2",
   "version": "2.7.6"
  }
 },
 "nbformat": 4,
 "nbformat_minor": 5
}
