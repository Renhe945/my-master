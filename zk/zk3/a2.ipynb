{
 "cells": [
  {
   "cell_type": "code",
   "id": "initial_id",
   "metadata": {
    "collapsed": true,
    "ExecuteTime": {
     "end_time": "2024-10-08T01:53:18.865254Z",
     "start_time": "2024-10-08T01:53:16.122718Z"
    }
   },
   "source": [
    "from sklearn.metrics import confusion_matrix\n",
    "from sklearn.model_selection import train_test_split\n",
    "# 题目二 使用sk-learn的XGBoost完成以下功能（50分）：\n",
    "\n",
    "# 1、读取数据文件福星企业金钱交易数据.xlsx。（5分）\n",
    "import pandas as pd\n",
    "import numpy as  py\n",
    "a1=pd.read_excel(\"E:\\\\python代码\\\\zk\\\\zk3\\\\data\\\\福星企业金钱交易数据.xlsx\")\n",
    "print(\"读取数据文件福星企业金钱交易数据.xlsx\",a1)\n",
    "# 2、查看数据前10行。（5分）\n",
    "print('查看数据前10行\\n',a1.head(10))\n",
    "# 3、并查看数据是否有空值，如果有则删除数据。（5分）\n",
    "a1.isnull().sum\n",
    "a1=a1.dropna()\n",
    "print('删除空值后的数据形状:', a1.shape)  \n",
    "# 4、提取出特征变量和目标变量。（5分）\n",
    "x=a1.iloc[:,:-1]\n",
    "y=a1['欺诈标签']\n",
    "# 5、将数据集划分训练集和测试集（5分）\n",
    "X_train, X_test, y_train, y_test = train_test_split(x, y,test_size=0.3, random_state=42)\n",
    "# 6、创建模型，并训练。（5分）\n",
    "from sklearn.tree import DecisionTreeClassifier\n",
    "from xgboost import XGBClassifier\n",
    "bst = XGBClassifier(n_estimators=2, max_depth=2, learning_rate=1, objective='binary:logistic')\n",
    "bst.fit(X_train,y_train)\n",
    "# 7、对测试集进行预测。（5分）\n",
    "t7=bst.predict(X_test)\n",
    "print(\"对测试集进行预测\\n\",t7)\n",
    "# 8、使用混淆矩阵对结果进行进行模型评估。（5分）\n",
    "cm = confusion_matrix(y_test, t7)  \n",
    "print(\"混淆矩阵:\\n\", cm)  \n",
    "\n",
    "# 9、将分类预测结果打印。（5分）\n",
    "t9=bst.predict(X_test)\n",
    "print(\"将分类预测结果打印\\n\",t9)\n",
    "# 10、完整注释。（5分）\n"
   ],
   "outputs": [
    {
     "name": "stdout",
     "output_type": "stream",
     "text": [
      "读取数据文件福星企业金钱交易数据.xlsx      换设备次数  支付失败次数  换IP次数  换IP国次数   交易金额  欺诈标签\n",
      "0        0      11      3       5  28836     1\n",
      "1        5       6      1       4  21966     1\n",
      "2        6       2      0       0  18199     1\n",
      "3        5       8      2       2  24803     1\n",
      "4        7      10      5       0  26277     1\n",
      "..     ...     ...    ...     ...    ...   ...\n",
      "995      2       7      7       2  24168     0\n",
      "996      1       1      5       1  15216     0\n",
      "997      1       7      6       2  18494     0\n",
      "998      2       2      8       0  11085     0\n",
      "999      0       7      8       0  11308     0\n",
      "\n",
      "[1000 rows x 6 columns]\n",
      "查看数据前10行\n",
      "    换设备次数  支付失败次数  换IP次数  换IP国次数   交易金额  欺诈标签\n",
      "0      0      11      3       5  28836     1\n",
      "1      5       6      1       4  21966     1\n",
      "2      6       2      0       0  18199     1\n",
      "3      5       8      2       2  24803     1\n",
      "4      7      10      5       0  26277     1\n",
      "5      2      10      3       0  25694     1\n",
      "6      4       6      1       2  10557     1\n",
      "7      0      11      0       2  26520     1\n",
      "8      0       2      9       5  29373     1\n",
      "9      3       8     10       3  19952     1\n",
      "删除空值后的数据形状: (1000, 6)\n",
      "对测试集进行预测\n",
      " [0 0 0 0 0 0 0 0 0 1 0 1 0 0 0 0 1 0 0 1 0 1 1 0 1 1 1 0 0 0 1 0 0 0 1 0 0\n",
      " 0 0 1 1 1 1 0 1 0 0 0 0 0 0 0 0 0 1 1 0 1 1 0 1 1 0 1 0 0 0 0 1 0 0 0 0 0\n",
      " 1 1 0 1 0 1 0 1 1 1 0 0 0 0 0 0 1 0 0 1 0 0 0 1 1 0 0 1 0 0 0 0 0 0 1 0 0\n",
      " 0 0 0 1 0 1 0 0 1 0 0 0 1 1 0 0 0 0 0 0 0 0 0 0 1 0 1 0 1 1 1 0 1 0 0 0 0\n",
      " 0 1 0 0 0 0 0 0 1 0 0 0 0 0 0 0 0 0 1 0 0 0 1 0 1 0 0 1 1 1 0 0 0 0 1 0 0\n",
      " 1 1 1 0 0 0 0 0 1 0 0 1 1 0 0 0 0 0 0 0 0 1 0 0 0 1 1 0 0 0 0 0 1 0 0 1 0\n",
      " 0 1 0 1 0 1 0 0 0 0 0 0 1 1 0 0 1 1 1 1 0 0 1 0 0 1 1 1 1 0 0 0 1 0 0 0 0\n",
      " 1 0 0 0 0 1 0 0 1 0 1 0 1 0 1 0 1 1 0 1 0 0 0 1 0 1 0 1 0 1 0 0 0 0 0 1 0\n",
      " 0 0 1 0]\n",
      "混淆矩阵:\n",
      " [[174   0]\n",
      " [ 28  98]]\n"
     ]
    }
   ],
   "execution_count": 1
  }
 ],
 "metadata": {
  "kernelspec": {
   "display_name": "Python 3",
   "language": "python",
   "name": "python3"
  },
  "language_info": {
   "codemirror_mode": {
    "name": "ipython",
    "version": 2
   },
   "file_extension": ".py",
   "mimetype": "text/x-python",
   "name": "python",
   "nbconvert_exporter": "python",
   "pygments_lexer": "ipython2",
   "version": "2.7.6"
  }
 },
 "nbformat": 4,
 "nbformat_minor": 5
}
