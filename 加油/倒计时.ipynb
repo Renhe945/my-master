{
 "cells": [
  {
   "cell_type": "code",
   "id": "initial_id",
   "metadata": {
    "collapsed": true,
    "ExecuteTime": {
     "end_time": "2024-09-25T12:37:50.838606Z",
     "start_time": "2024-09-25T12:36:50.136673Z"
    }
   },
   "source": [
    "import time\n",
    "import turtle\n",
    "\n",
    "\n",
    "def countdown(hours=0, minutes=0, seconds=0):\n",
    "    while hours > 0 or minutes > 0 or seconds > 0:\n",
    "        while minutes >= 0:\n",
    "            while seconds >= 0:\n",
    "                turtle.clear()\n",
    "                turtle.penup()\n",
    "                turtle.goto(0, 0)\n",
    "                turtle.write(f\"倒计时：{hours:02d}:{minutes:02d}:{seconds:02d}\", align=\"center\", font=(\"Arial\", 16, \"normal\"))\n",
    "                turtle.delay(1000)\n",
    "                seconds -= 1\n",
    "            minutes -= 1\n",
    "            seconds = 59\n",
    "        hours -= 1\n",
    "        minutes = 59\n",
    "\n",
    "\n",
    "def fireworks():\n",
    "    turtle.speed(0)\n",
    "    turtle.bgcolor(\"black\")\n",
    "    for _ in range(100):\n",
    "        turtle.pencolor(random.choice([\"red\", \"orange\", \"yellow\", \"green\", \"blue\", \"purple\"]))\n",
    "        turtle.penup()\n",
    "        turtle.goto(random.randint(-300, 300), random.randint(-300, 300))\n",
    "        turtle.pendown()\n",
    "        for _ in range(5):\n",
    "            turtle.forward(random.randint(10, 50))\n",
    "            turtle.right(144)\n",
    "\n",
    "\n",
    "if __name__ == \"__main__\":\n",
    "    countdown(hours=0, minutes=0, seconds=10)\n",
    "    import random\n",
    "    fireworks()\n",
    "    turtle.done()"
   ],
   "outputs": [
    {
     "ename": "Terminator",
     "evalue": "",
     "output_type": "error",
     "traceback": [
      "\u001B[1;31m---------------------------------------------------------------------------\u001B[0m",
      "\u001B[1;31mTerminator\u001B[0m                                Traceback (most recent call last)",
      "Cell \u001B[1;32mIn[3], line 35\u001B[0m\n\u001B[0;32m     31\u001B[0m             turtle\u001B[38;5;241m.\u001B[39mright(\u001B[38;5;241m144\u001B[39m)\n\u001B[0;32m     34\u001B[0m \u001B[38;5;28;01mif\u001B[39;00m \u001B[38;5;18m__name__\u001B[39m \u001B[38;5;241m==\u001B[39m \u001B[38;5;124m\"\u001B[39m\u001B[38;5;124m__main__\u001B[39m\u001B[38;5;124m\"\u001B[39m:\n\u001B[1;32m---> 35\u001B[0m     countdown(hours\u001B[38;5;241m=\u001B[39m\u001B[38;5;241m0\u001B[39m, minutes\u001B[38;5;241m=\u001B[39m\u001B[38;5;241m0\u001B[39m, seconds\u001B[38;5;241m=\u001B[39m\u001B[38;5;241m10\u001B[39m)\n\u001B[0;32m     36\u001B[0m     \u001B[38;5;28;01mimport\u001B[39;00m \u001B[38;5;21;01mrandom\u001B[39;00m\n\u001B[0;32m     37\u001B[0m     fireworks()\n",
      "Cell \u001B[1;32mIn[3], line 9\u001B[0m, in \u001B[0;36mcountdown\u001B[1;34m(hours, minutes, seconds)\u001B[0m\n\u001B[0;32m      7\u001B[0m \u001B[38;5;28;01mwhile\u001B[39;00m minutes \u001B[38;5;241m>\u001B[39m\u001B[38;5;241m=\u001B[39m \u001B[38;5;241m0\u001B[39m:\n\u001B[0;32m      8\u001B[0m     \u001B[38;5;28;01mwhile\u001B[39;00m seconds \u001B[38;5;241m>\u001B[39m\u001B[38;5;241m=\u001B[39m \u001B[38;5;241m0\u001B[39m:\n\u001B[1;32m----> 9\u001B[0m         turtle\u001B[38;5;241m.\u001B[39mclear()\n\u001B[0;32m     10\u001B[0m         turtle\u001B[38;5;241m.\u001B[39mpenup()\n\u001B[0;32m     11\u001B[0m         turtle\u001B[38;5;241m.\u001B[39mgoto(\u001B[38;5;241m0\u001B[39m, \u001B[38;5;241m0\u001B[39m)\n",
      "File \u001B[1;32m<string>:8\u001B[0m, in \u001B[0;36mclear\u001B[1;34m()\u001B[0m\n",
      "File \u001B[1;32mD:\\Jupyter\\Lib\\turtle.py:2651\u001B[0m, in \u001B[0;36mRawTurtle.clear\u001B[1;34m(self)\u001B[0m\n\u001B[0;32m   2639\u001B[0m \u001B[38;5;250m\u001B[39m\u001B[38;5;124;03m\"\"\"Delete the turtle's drawings from the screen. Do not move turtle.\u001B[39;00m\n\u001B[0;32m   2640\u001B[0m \n\u001B[0;32m   2641\u001B[0m \u001B[38;5;124;03mNo arguments.\u001B[39;00m\n\u001B[1;32m   (...)\u001B[0m\n\u001B[0;32m   2648\u001B[0m \u001B[38;5;124;03m>>> turtle.clear()\u001B[39;00m\n\u001B[0;32m   2649\u001B[0m \u001B[38;5;124;03m\"\"\"\u001B[39;00m\n\u001B[0;32m   2650\u001B[0m \u001B[38;5;28mself\u001B[39m\u001B[38;5;241m.\u001B[39m_clear()\n\u001B[1;32m-> 2651\u001B[0m \u001B[38;5;28mself\u001B[39m\u001B[38;5;241m.\u001B[39m_update()\n",
      "File \u001B[1;32mD:\\Jupyter\\Lib\\turtle.py:2668\u001B[0m, in \u001B[0;36mRawTurtle._update\u001B[1;34m(self)\u001B[0m\n\u001B[0;32m   2666\u001B[0m     \u001B[38;5;28;01mreturn\u001B[39;00m\n\u001B[0;32m   2667\u001B[0m \u001B[38;5;28;01melif\u001B[39;00m screen\u001B[38;5;241m.\u001B[39m_tracing \u001B[38;5;241m==\u001B[39m \u001B[38;5;241m1\u001B[39m:\n\u001B[1;32m-> 2668\u001B[0m     \u001B[38;5;28mself\u001B[39m\u001B[38;5;241m.\u001B[39m_update_data()\n\u001B[0;32m   2669\u001B[0m     \u001B[38;5;28mself\u001B[39m\u001B[38;5;241m.\u001B[39m_drawturtle()\n\u001B[0;32m   2670\u001B[0m     screen\u001B[38;5;241m.\u001B[39m_update()                  \u001B[38;5;66;03m# TurtleScreenBase\u001B[39;00m\n",
      "File \u001B[1;32mD:\\Jupyter\\Lib\\turtle.py:2654\u001B[0m, in \u001B[0;36mRawTurtle._update_data\u001B[1;34m(self)\u001B[0m\n\u001B[0;32m   2653\u001B[0m \u001B[38;5;28;01mdef\u001B[39;00m \u001B[38;5;21m_update_data\u001B[39m(\u001B[38;5;28mself\u001B[39m):\n\u001B[1;32m-> 2654\u001B[0m     \u001B[38;5;28mself\u001B[39m\u001B[38;5;241m.\u001B[39mscreen\u001B[38;5;241m.\u001B[39m_incrementudc()\n\u001B[0;32m   2655\u001B[0m     \u001B[38;5;28;01mif\u001B[39;00m \u001B[38;5;28mself\u001B[39m\u001B[38;5;241m.\u001B[39mscreen\u001B[38;5;241m.\u001B[39m_updatecounter \u001B[38;5;241m!=\u001B[39m \u001B[38;5;241m0\u001B[39m:\n\u001B[0;32m   2656\u001B[0m         \u001B[38;5;28;01mreturn\u001B[39;00m\n",
      "File \u001B[1;32mD:\\Jupyter\\Lib\\turtle.py:1284\u001B[0m, in \u001B[0;36mTurtleScreen._incrementudc\u001B[1;34m(self)\u001B[0m\n\u001B[0;32m   1282\u001B[0m \u001B[38;5;28;01mif\u001B[39;00m \u001B[38;5;129;01mnot\u001B[39;00m TurtleScreen\u001B[38;5;241m.\u001B[39m_RUNNING:\n\u001B[0;32m   1283\u001B[0m     TurtleScreen\u001B[38;5;241m.\u001B[39m_RUNNING \u001B[38;5;241m=\u001B[39m \u001B[38;5;28;01mTrue\u001B[39;00m\n\u001B[1;32m-> 1284\u001B[0m     \u001B[38;5;28;01mraise\u001B[39;00m Terminator\n\u001B[0;32m   1285\u001B[0m \u001B[38;5;28;01mif\u001B[39;00m \u001B[38;5;28mself\u001B[39m\u001B[38;5;241m.\u001B[39m_tracing \u001B[38;5;241m>\u001B[39m \u001B[38;5;241m0\u001B[39m:\n\u001B[0;32m   1286\u001B[0m     \u001B[38;5;28mself\u001B[39m\u001B[38;5;241m.\u001B[39m_updatecounter \u001B[38;5;241m+\u001B[39m\u001B[38;5;241m=\u001B[39m \u001B[38;5;241m1\u001B[39m\n",
      "\u001B[1;31mTerminator\u001B[0m: "
     ]
    }
   ],
   "execution_count": 3
  },
  {
   "metadata": {
    "ExecuteTime": {
     "end_time": "2024-09-25T12:39:01.409374Z",
     "start_time": "2024-09-25T12:39:01.369440Z"
    }
   },
   "cell_type": "code",
   "source": [
    "import time\n",
    "import turtle\n",
    "import keyboard\n",
    "\n",
    "def countdown(hours=0, minutes=0, seconds=0):\n",
    "    while hours > 0 or minutes > 0 or seconds > 0:\n",
    "        while minutes >= 0:\n",
    "            while seconds >= 0:\n",
    "                turtle.clear()\n",
    "                turtle.penup()\n",
    "                turtle.goto(0, 0)\n",
    "                turtle.write(f\"倒计时：{hours:02d}:{minutes:02d}:{seconds:02d}\", align=\"center\", font=(\"Arial\", 16, \"normal\"))\n",
    "                time.sleep(1)\n",
    "                seconds -= 1\n",
    "            minutes -= 1\n",
    "            seconds = 59\n",
    "        hours -= 1\n",
    "        minutes = 59\n",
    "    turtle.clear()\n",
    "    turtle.penup()\n",
    "    turtle.goto(0, 0)\n",
    "    turtle.write(\"倒计时结束！\", align=\"center\", font=(\"Arial\", 16, \"normal\"))\n",
    "\n",
    "def fireworks():\n",
    "    turtle.speed(0)\n",
    "    turtle.bgcolor(\"black\")\n",
    "    for _ in range(100):\n",
    "        turtle.pencolor(random.choice([\"red\", \"orange\", \"yellow\", \"green\", \"blue\", \"purple\"]))\n",
    "        turtle.penup()\n",
    "        turtle.goto(random.randint(-300, 300), random.randint(-300, 300))\n",
    "        turtle.pendown()\n",
    "        for _ in range(5):\n",
    "            turtle.forward(random.randint(10, 50))\n",
    "            turtle.right(144)\n",
    "\n",
    "if __name__ == \"__main__\":\n",
    "    countdown(hours=3, minutes=30, seconds=0)\n",
    "    import random\n",
    "    fireworks()\n",
    "    turtle.done()\n",
    "\n",
    "    while True:\n",
    "        if keyboard.is_pressed('esc'):\n",
    "            break"
   ],
   "id": "d05e04acbee1ea0b",
   "outputs": [
    {
     "ename": "ModuleNotFoundError",
     "evalue": "No module named 'keyboard'",
     "output_type": "error",
     "traceback": [
      "\u001B[1;31m---------------------------------------------------------------------------\u001B[0m",
      "\u001B[1;31mModuleNotFoundError\u001B[0m                       Traceback (most recent call last)",
      "Cell \u001B[1;32mIn[4], line 3\u001B[0m\n\u001B[0;32m      1\u001B[0m \u001B[38;5;28;01mimport\u001B[39;00m \u001B[38;5;21;01mtime\u001B[39;00m\n\u001B[0;32m      2\u001B[0m \u001B[38;5;28;01mimport\u001B[39;00m \u001B[38;5;21;01mturtle\u001B[39;00m\n\u001B[1;32m----> 3\u001B[0m \u001B[38;5;28;01mimport\u001B[39;00m \u001B[38;5;21;01mkeyboard\u001B[39;00m\n\u001B[0;32m      5\u001B[0m \u001B[38;5;28;01mdef\u001B[39;00m \u001B[38;5;21mcountdown\u001B[39m(hours\u001B[38;5;241m=\u001B[39m\u001B[38;5;241m0\u001B[39m, minutes\u001B[38;5;241m=\u001B[39m\u001B[38;5;241m0\u001B[39m, seconds\u001B[38;5;241m=\u001B[39m\u001B[38;5;241m0\u001B[39m):\n\u001B[0;32m      6\u001B[0m     \u001B[38;5;28;01mwhile\u001B[39;00m hours \u001B[38;5;241m>\u001B[39m \u001B[38;5;241m0\u001B[39m \u001B[38;5;129;01mor\u001B[39;00m minutes \u001B[38;5;241m>\u001B[39m \u001B[38;5;241m0\u001B[39m \u001B[38;5;129;01mor\u001B[39;00m seconds \u001B[38;5;241m>\u001B[39m \u001B[38;5;241m0\u001B[39m:\n",
      "\u001B[1;31mModuleNotFoundError\u001B[0m: No module named 'keyboard'"
     ]
    }
   ],
   "execution_count": 4
  }
 ],
 "metadata": {
  "kernelspec": {
   "display_name": "Python 3",
   "language": "python",
   "name": "python3"
  },
  "language_info": {
   "codemirror_mode": {
    "name": "ipython",
    "version": 2
   },
   "file_extension": ".py",
   "mimetype": "text/x-python",
   "name": "python",
   "nbconvert_exporter": "python",
   "pygments_lexer": "ipython2",
   "version": "2.7.6"
  }
 },
 "nbformat": 4,
 "nbformat_minor": 5
}
