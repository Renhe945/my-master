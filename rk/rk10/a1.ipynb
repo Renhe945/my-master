{
 "cells": [
  {
   "metadata": {},
   "cell_type": "code",
   "source": [
    "import pandas as pd\n",
    "import numpy as py\n",
    "from sklearn.preprocessing import StandardScaler\n",
    "from sklearn.pipeline import make_pipeline\n",
    "from sklearn.datasets import load_iris\n",
    "from sklearn.model_selection import train_test_split\n",
    "from sklearn.metrics import accuracy_score\n"
   ],
   "id": "a1d04fe41fb700a6",
   "outputs": [],
   "execution_count": null
  },
  {
   "cell_type": "code",
   "id": "initial_id",
   "metadata": {
    "collapsed": true,
    "ExecuteTime": {
     "end_time": "2024-09-24T01:30:09.132917Z",
     "start_time": "2024-09-24T01:30:09.125843Z"
    }
   },
   "source": [
    "from sklearn.metrics import mean_squared_error\n",
    "\n",
    "# 1.随机产生400个0-5之间的随机数。(10分)\n",
    "a1=py.random.randint(0,6,400)\n",
    "# 2.使用上面的随机数计算sin(x)值。(10分)\n",
    "a2=py.sin(a1)\n",
    "# a2\n",
    "x=a1.reshape(-1,1)\n",
    "y=a2\n",
    "\n",
    "# 划分训练集和测试集。（10分\n",
    "x_train, x_test, y_train, y_test = train_test_split(x,y,test_size=0.2, random_state=33)\n",
    "# 4.调用决策树库函数创建决策树模型。（10分）\n",
    "from sklearn.tree import DecisionTreeRegressor\n",
    "# # 5.使用训练集训练模型，深度为2。（10分）\n",
    "tree1=DecisionTreeRegressor(max_depth=2)\n",
    "tree1.fit(x_train,y_train)\n",
    "# # 6.计算深度为2的准确率。（10分）\n",
    "yc1=tree1.predict(x_test)\n",
    "zql1=mean_squared_error(yc1,y_test)\n",
    "# 7.使用训练集训练新的决策树模型，深度为5。（10分）\n",
    "tree2=DecisionTreeRegressor(max_depth=5)\n",
    "tree2.fit(x_train,y_train)\n",
    "# 8.计算深度为5的准确率。（10分）\n",
    "yc2=tree2.predict(x_test)\n",
    "zql2=mean_squared_error(yc2,y_test)\n",
    "zql2\n",
    "# 9.画出深度=2时的决策树曲线.(10分)\n",
    "# 10.画出深度=5时的决策树曲线。(10分)"
   ],
   "outputs": [
    {
     "data": {
      "text/plain": [
       "2.3429900738442917e-31"
      ]
     },
     "execution_count": 49,
     "metadata": {},
     "output_type": "execute_result"
    }
   ],
   "execution_count": 49
  }
 ],
 "metadata": {
  "kernelspec": {
   "display_name": "Python 3",
   "language": "python",
   "name": "python3"
  },
  "language_info": {
   "codemirror_mode": {
    "name": "ipython",
    "version": 2
   },
   "file_extension": ".py",
   "mimetype": "text/x-python",
   "name": "python",
   "nbconvert_exporter": "python",
   "pygments_lexer": "ipython2",
   "version": "2.7.6"
  }
 },
 "nbformat": 4,
 "nbformat_minor": 5
}
