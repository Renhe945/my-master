{
 "cells": [
  {
   "cell_type": "code",
   "id": "initial_id",
   "metadata": {
    "collapsed": true
   },
   "source": [
    "#  已知20个点的样本数据: [[2,5],[4,6],[3,1],[6,4],[7,2],[8,4],[2,3],[3,1],[5,7],[6,9],[12,16],[10,11],[15,19],[16,12],[11,15],[10,14],[19,11],[17,14],[16,11],[13,19]]\n",
    "# 实现k-means算法，完成以下要求。"
   ],
   "outputs": [],
   "execution_count": null
  },
  {
   "metadata": {},
   "cell_type": "code",
   "source": [
    "from sklearn.cluster import KMeans\n",
    "# 1.根据题意创建样本数据。（10分）\n",
    "import pandas as pd\n",
    "import numpy as ny\n",
    "a1=ny.array([[2,5],[4,6],[3,1],[6,4],[7,2],[8,4],[2,3],[3,1],[5,7],[6,9],[12,16],[10,11],[15,19],[16,12],[11,15],[10,14],[19,11],[17,14],[16,11],[13,19]])\n",
    "# 2.创建kmeans模型，设置k=2。（10分）\n",
    "km=KMeans(n_clusters=2)\n",
    "# 3.训练模型。(10分)\n",
    "km.fit(a1)\n",
    "# 4.输出聚类中心的坐标。(10分)\n",
    "print(\"4.输出聚类中心的坐标。\\n\",km.cluster_centers_)\n",
    "# 5.输出各点所属聚类中心的位置。(10分)\n",
    "print(\"5.输出各点所属聚类中心的位置。\\n\",km.labels_)\n",
    "# 6.输出代价值。(10分)\n",
    "print(\"6.输出代价值。\\n\",km.inertia_)\n",
    "# 7.画出样本数据的散点图。（10分）\n",
    "import matplotlib.pyplot as plt\n",
    "plt.scatter(a1[:,0],a1[:,1])\n",
    "plt.show()\n",
    "# 8.画出聚类中心的位置。(10分)\\\n",
    "plt.scatter(2, 1, 2, projection=km.labels_)\n",
    "# 9.分别设置k的值从1到10，并计算对应的代价值。（10分）\n",
    "arr =[]\n",
    "for i in range(1,11):\n",
    "    arr.append(km.inertia_)\n",
    "# 10.实现肘部法则，并画出肘部法则曲线。(10分)\n",
    "\n"
   ],
   "id": "e298c07cfa0c3cf1",
   "outputs": [],
   "execution_count": null
  }
 ],
 "metadata": {
  "kernelspec": {
   "display_name": "Python 3",
   "language": "python",
   "name": "python3"
  },
  "language_info": {
   "codemirror_mode": {
    "name": "ipython",
    "version": 2
   },
   "file_extension": ".py",
   "mimetype": "text/x-python",
   "name": "python",
   "nbconvert_exporter": "python",
   "pygments_lexer": "ipython2",
   "version": "2.7.6"
  }
 },
 "nbformat": 4,
 "nbformat_minor": 5
}
