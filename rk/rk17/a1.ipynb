{
 "cells": [
  {
   "cell_type": "code",
   "id": "initial_id",
   "metadata": {
    "collapsed": true,
    "ExecuteTime": {
     "end_time": "2024-10-07T01:08:40.217109Z",
     "start_time": "2024-10-07T01:08:40.079340Z"
    }
   },
   "source": [
    "from sklearn.metrics import accuracy_score\n",
    "from sklearn.model_selection import train_test_split, GridSearchCV\n",
    "from sklearn.datasets import load_iris\n",
    "import pandas as pd\n",
    "import numpy as np\n",
    "\n",
    "\n",
    "# 1.从sklearn官网datasets模块加载并返回鸢尾花数据集（10分）\n",
    "data = load_iris()\n",
    "x=data.data\n",
    "y=data.target\n",
    "\n",
    "# 2.选择合适的特征。（10分）\n",
    "x=x[:,:2]\n",
    "x\n",
    "\n",
    "# 3.拆分数据集为训练集和测试集。（10分）\n",
    "X_train, X_test, y_train, y_test = train_test_split(x, y,test_size=0.2, random_state=42)\n",
    "\n",
    "# 4.创建决策树模型。（10分）\n",
    "from sklearn.tree import DecisionTreeClassifier\n",
    "clf = DecisionTreeClassifier(random_state=0)\n",
    "clf.fit(X_train,y_train)\n",
    "yc=clf.predict(X_test)\n",
    "\n",
    "# 5.使用网格搜索和交叉验证对决策树进行超参数训练。（20分）\n",
    "t5={'max_depth':[1,2,3],'min_samples_split':[2,3,4],'min_samples_leaf':[1,2,3]}\n",
    "wl = GridSearchCV(clf, t5,cv=5)\n",
    "wl.fit(X_train,y_train)\n",
    "# 6.选择出最优模型，并输出最优模型超参数（10分）\n",
    "ccs=wl.best_estimator_\n",
    "print(\"超参数\",ccs)\n",
    "\n",
    "# 7.使用最优模型对测试集进行测试。（10分）\n",
    "t7=ccs.predict(X_test)\n",
    "print(\"最优模型\",t7)\n",
    "\n",
    "# 8.评估预测结果。（10分）\n",
    "\n",
    "t8=accuracy_score(y_test,t7)\n",
    "print(t8)\n",
    "\n",
    "# 9.注释完整（10分）\n",
    "\n"
   ],
   "outputs": [
    {
     "name": "stdout",
     "output_type": "stream",
     "text": [
      "超参数 DecisionTreeClassifier(max_depth=3, random_state=0)\n",
      "最优模型 [1 0 2 1 2 0 1 2 2 1 2 0 1 0 0 2 2 1 1 2 0 1 0 2 2 2 2 2 0 0]\n",
      "0.8333333333333334\n"
     ]
    }
   ],
   "execution_count": 15
  }
 ],
 "metadata": {
  "kernelspec": {
   "display_name": "Python 3",
   "language": "python",
   "name": "python3"
  },
  "language_info": {
   "codemirror_mode": {
    "name": "ipython",
    "version": 2
   },
   "file_extension": ".py",
   "mimetype": "text/x-python",
   "name": "python",
   "nbconvert_exporter": "python",
   "pygments_lexer": "ipython2",
   "version": "2.7.6"
  }
 },
 "nbformat": 4,
 "nbformat_minor": 5
}
