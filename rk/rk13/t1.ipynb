{
 "cells": [
  {
   "cell_type": "code",
   "id": "initial_id",
   "metadata": {
    "collapsed": true
   },
   "source": [
    "from sklearn.svm._libsvm import predict_proba\n",
    "from sklearn.metrics import accuracy_score, auc, roc_curve\n",
    "from xgboost import XGBClassifier\n",
    "from sklearn.model_selection import train_test_split\n",
    "import pandas as pd\n",
    "import numpy as np\n",
    "\n",
    "# 1.首先读取员工信息以及其交易离职表现，即是否离职记录（10分）\n",
    "pd.set_option('future.no_silent_downcasting', True)\n",
    "a1=pd.read_excel(\"E:///python代码/rk/rk13/data/员工离职预测模型.xlsx\")\n",
    "print(\"读取信息\\n\",a1)\n",
    "# 2.处理文本内容：'低': 0, '中': 1, '高': 2。（10分）\n",
    "a2=a1.replace({'低': 0, '中': 1, '高': 2},inplace=False).astype('int')\n",
    "print(\"处理后\\n\",a2)\n",
    "# 3.提取特征变量和目标变量（10分）\n",
    "x=a2.iloc[:,:-1]\n",
    "y=a2['离职']\n",
    "# 4.划分训练集和测试集（10分）\n",
    "X_train, X_test, y_train, y_test = train_test_split(x, y, random_state=0)\n",
    "# 5.创建xgboost模型，并使用训练集进行训练（10分）\n",
    "bst=XGBClassifier()\n",
    "bst.fit(X_train, y_train)\n",
    "# 6.使用测试集预测是否离职（10分）\n",
    "preds = bst.predict(X_test)\n",
    "print(\"预测是否离职\\n\",preds)\n",
    "# 7.查看整体的预测准确度（10分）\n",
    "\n",
    "zq=accuracy_score(y_test,preds)\n",
    "print(\"预测准确度\\n\",zq)\n",
    "# 8.查看预测属于各个分类的概率（10分）\n",
    "t8=bst.predict_proba(X_test)\n",
    "print(\"查看预测属于各个分类的概率（\\n\",t8)\n"
   ],
   "outputs": [],
   "execution_count": null
  },
  {
   "metadata": {},
   "cell_type": "code",
   "source": [
    "# 9.查看不同阈值下的假警报率和命中率（10分）\n",
    "fpr, tpr, thresholds = roc_curve(y_test,preds)\n",
    "t9=auc(fpr, tpr)\n",
    "# 10.已知了不同阈值下的假警报率和命中率，可通过matplotlib库可绘制ROC曲线（10分）\n",
    "import matplotlib.pyplot as plt\n",
    "import matplotlib as mpl\n",
    "\n",
    "mpl.rcParams['font.sans-serif'] = ['Simhei']\n",
    "mpl.rcParams['axes.unicode_minus'] = False\n",
    "plt.plot(fpr, tpr)\n",
    "plt.xlabel(\"假警报率\")\n",
    "plt.ylabel(\"假警报率\")\n",
    "plt.title(\"是否离职记录\")\n",
    "plt.show()\n"
   ],
   "id": "efd9c2a1165cc438",
   "outputs": [],
   "execution_count": null
  }
 ],
 "metadata": {
  "kernelspec": {
   "display_name": "Python 3",
   "language": "python",
   "name": "python3"
  },
  "language_info": {
   "codemirror_mode": {
    "name": "ipython",
    "version": 2
   },
   "file_extension": ".py",
   "mimetype": "text/x-python",
   "name": "python",
   "nbconvert_exporter": "python",
   "pygments_lexer": "ipython2",
   "version": "2.7.6"
  }
 },
 "nbformat": 4,
 "nbformat_minor": 5
}
