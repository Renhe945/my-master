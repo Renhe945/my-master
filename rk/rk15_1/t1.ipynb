{
 "cells": [
  {
   "cell_type": "code",
   "id": "initial_id",
   "metadata": {
    "collapsed": true
   },
   "source": [
    "# 1.从sklearn官网datasets模块加载并返回波士顿房价数据集（10分）\n",
    "from sklearn.datasets import load_boston\n",
    "boston = load_boston()\n",
    "print(boston.data.shape)"
   ],
   "outputs": [],
   "execution_count": null
  },
  {
   "metadata": {
    "ExecuteTime": {
     "end_time": "2024-09-29T01:06:18.482718Z",
     "start_time": "2024-09-29T01:06:18.464360Z"
    }
   },
   "cell_type": "code",
   "source": [
    "from sklearn.metrics import r2_score\n",
    "from sklearn.model_selection import train_test_split\n",
    "from sklearn.decomposition import PCA\n",
    "import pandas as pd\n",
    "import numpy as np\n",
    "a1=pd.read_csv(\"E:///python代码/rk/rk15_1/house_data.csv\")\n",
    "# 2.进行低方差特征过滤（10分）\n",
    "x=a1.drop('B',axis=1)\n",
    "y=a1['B']\n",
    "from sklearn.feature_selection import VarianceThreshold\n",
    "selector = VarianceThreshold()\n",
    "selector.fit_transform(x)\n",
    "aa=(a1.columns[i] for i in selector.get_support(True))\n",
    "print(\"\",aa)\n",
    "# 3.进行相关系数特征过滤（10分）\n",
    "# 4.进行主成分分析（10分）\n",
    "pca = PCA(n_components=2)\n",
    "pca.fit(x)\n",
    "print(pca.explained_variance_ratio_)\n",
    "# 5.将数据拆分成训练集和测试集。（10分）\n",
    "x_train, x_test, y_train, y_test = train_test_split(x, y, random_state=0)\n",
    "# 6.对训练集采用线性回归进行回归训练。（10）\n",
    "from sklearn.linear_model import LinearRegression\n",
    "reg = LinearRegression()\n",
    "reg.fit(x_train, y_train)\n",
    "# 7.打印训练模型参数信息。（10分）\n",
    "print(reg.coef_)\n",
    "# 8.对测试集进行测试并打印测试结果。（10）\n",
    "cs=reg.predict(x_test)\n",
    "print(cs)\n",
    "# 9.进行回归评估。（10分）\n",
    "r2=r2_score(y_test, cs)\n",
    "print(\"回归评估\",r2)\n",
    "# 10.注释完整（10分）"
   ],
   "id": "1e3e1a11a147a7e7",
   "outputs": [
    {
     "name": "stdout",
     "output_type": "stream",
     "text": [
      " <generator object <genexpr> at 0x000002269274A190>\n",
      "[0.95797055 0.02745942]\n",
      "[ 3.72988867e-01  1.15087787e-02 -6.36114142e-01  2.07249646e+01\n",
      " -5.99947300e+01 -2.63706918e+01  4.14702899e-01  2.24426338e-01\n",
      " -3.53798143e+00  1.84987183e-02  5.64737304e+00 -3.02487298e+00\n",
      "  2.45931000e+00]\n",
      "[371.61976559 404.84435213 392.11812771 294.72832014 372.11831929\n",
      " 404.14890063 317.21100693 389.53752107 381.22663906 388.93070179\n",
      " 298.05123069 281.10620877 281.31289748 293.81133675 435.36860493\n",
      " 362.46188158 324.63256348 376.40463851 383.70632969 388.47872708\n",
      " 391.43541256 358.63791625 389.97018332 389.99361521 382.81377899\n",
      " 390.92136035 397.27866603 336.81738336 410.48345969 359.29799775\n",
      " 293.1402307  307.03828656 387.46120251 366.58737643 382.69839646\n",
      " 324.74966764 251.81395635 429.62635717 286.50380601 272.85454319\n",
      " 363.96166182 369.67371147 370.78453992 311.33587788 367.23957358\n",
      " 392.61636307 358.66192466 341.30827373 298.42828618 403.69071325\n",
      " 332.79447608 357.19728125 374.85690654 379.58096788 375.51576789\n",
      " 342.91936664 372.40771795 382.0437785  346.84232089 401.08664345\n",
      " 386.20729856 371.178244   371.30940325 381.90385996 315.6631087\n",
      " 384.70675375 276.06577062 322.41820809 305.78128996 374.80870017\n",
      " 377.47368299 377.76244253 381.91350772 389.7033215  326.1983948\n",
      " 260.77515733 398.10865401 380.11243871 392.10394406 370.09872407\n",
      " 366.66227583 368.70796945 358.02259769 391.70541411 392.93551884\n",
      " 386.1934555  393.9763329  285.74277577 351.07867759 302.72433186\n",
      " 396.10697128 254.53555619 395.59909195 368.09833756 395.97827785\n",
      " 384.59504236 285.81730878 401.49989727 270.48793168 379.33306036\n",
      " 384.22710928 389.85271004 389.80438067 380.38895566 348.72002403\n",
      " 364.01687634 278.68953734 344.53931097 409.62117217 356.43734143\n",
      " 407.22762916 289.49648579 362.14176733 365.18531838 319.40324535\n",
      " 399.26082245 226.1151984  395.86510589 283.62587241 427.27981082\n",
      " 382.3224046  280.49814164 378.98460805 372.54929592 388.69795412\n",
      " 368.66807258 388.70292947]\n",
      "回归评估 0.19658710520597655\n"
     ]
    }
   ],
   "execution_count": 5
  }
 ],
 "metadata": {
  "kernelspec": {
   "display_name": "Python 3",
   "language": "python",
   "name": "python3"
  },
  "language_info": {
   "codemirror_mode": {
    "name": "ipython",
    "version": 2
   },
   "file_extension": ".py",
   "mimetype": "text/x-python",
   "name": "python",
   "nbconvert_exporter": "python",
   "pygments_lexer": "ipython2",
   "version": "2.7.6"
  }
 },
 "nbformat": 4,
 "nbformat_minor": 5
}
