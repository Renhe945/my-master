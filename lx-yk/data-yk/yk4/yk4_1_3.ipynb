{
 "cells": [
  {
   "cell_type": "code",
   "id": "initial_id",
   "metadata": {
    "collapsed": true,
    "ExecuteTime": {
     "end_time": "2024-10-09T06:57:15.637087Z",
     "start_time": "2024-10-09T06:56:25.864545Z"
    }
   },
   "source": [
    "from sklearn.utils import shuffle\n",
    "import  pandas as pd\n",
    "import numpy as  np\n",
    "# 题目三、实现广告点击率预估数据建模（35分）。\n",
    "# 利用sample.csv数据集,选择合适模型,解决广告点击率预估问题。\n",
    "# 标签值：'is_act'\n",
    "# 1、读取数据并查看前5行和基本信息。（3分）\n",
    "a1=pd.read_csv('E:\\\\python代码\\\\lx-yk\\\\data-yk\\\\yk4\\\\sample.csv')\n",
    "print('读取数据并查看前5行\\n',a1.head(5))\n",
    "print('基本信息\\n',a1.info)\n",
    "\n",
    "# 2、将数据集洗牌打乱顺序,提高模型的泛化能力（5分）\n",
    "a1= shuffle(a1)\n",
    "a1            \n",
    "# 3、将数据集划分成训练集和测试集,自主选择至少两种算法(5分)\n",
    "from sklearn.model_selection import train_test_split\n",
    "x=a1.drop('is_act',axis=1)\n",
    "y=a1['is_act']\n",
    "x_train, x_test, y_train, y_test = train_test_split(x, y, test_size=0.33, random_state=42)\n",
    "#算法1\n",
    "from sklearn.ensemble import RandomForestClassifier\n",
    "sj = RandomForestClassifier(max_depth=1000, min_samples_split=2, min_samples_leaf=1)#随机森林\n",
    "\n",
    "#算法2\n",
    "from sklearn.linear_model import LogisticRegression\n",
    "lj = LogisticRegression(C=1.0, max_iter=100)#逻辑回归\n",
    "\n",
    "\n",
    "# 4、使用网格搜索对模型进行调优,输出最佳参数组合（7分）\n",
    "#=====================================随机森林\n",
    "from sklearn.model_selection import GridSearchCV\n",
    "sj_cs={'n_estimators': [100, 200, 300], 'max_depth': [2, 5, 10]}\n",
    "search_sj = GridSearchCV(sj, sj_cs, cv=5)\n",
    "search_sj.fit(x_train, y_train)\n",
    "print(\"随机森林最佳参数组合（\\n\",search_sj.best_params_)#哪组参数是最好的，\n",
    "\n",
    "#=====================================逻辑回归\n",
    "lj_cs={'C': [0.1, 1, 10]}\n",
    "search_lj = GridSearchCV(lj, lj_cs, cv=5)\n",
    "search_lj.fit(x_train, y_train)\n",
    "print(\"逻辑回归最佳参数组合（\\n\",search_lj.best_params_)#哪组参数是最好的\n",
    "\n",
    "# 5、输出模型特征重要性(权重)（5分）\n",
    "# #TODO：=====================================随机森林\n",
    "\n",
    "#使用这组最好的参数训练出来的模型。\n",
    "t5_sj=search_sj.best_estimator_\n",
    "print(\"随机森林--特征重要性(\\n\",t5_sj)\n",
    "\n",
    "# # 6、选用合适的评估指标对模型进行评估（5分）\n",
    "from sklearn.metrics import accuracy_score, recall_score, f1_score\n",
    "yc_sj6=t5_sj.predict(x_test)\n",
    "# 评估\n",
    "\n",
    "sj_accuracy = accuracy_score(y_test, yc_sj6)\n",
    "sj_recall = recall_score(y_test, yc_sj6)\n",
    "sj_f1 = f1_score(y_test, yc_sj6)\n",
    "\n",
    "print('随机森林准确率：', sj_accuracy)\n",
    "print('随机森林召回率：', sj_recall)\n",
    "print('随机森林 F1 值：', sj_f1)\n",
    "\n",
    "# # 评估\n",
    "t5_lj=search_lj.best_estimator_\n",
    "yc_lj6=t5_lj.predict(x_test)\n",
    "lj_accuracy = accuracy_score(y_test, yc_lj6)\n",
    "lj_recall = recall_score(y_test, yc_lj6)\n",
    "lj_f1 = f1_score(y_test, yc_lj6)\n",
    "\n",
    "print('逻辑回归准确率：', lj_accuracy)\n",
    "print('逻辑回归召回率：', lj_recall)\n",
    "print('逻辑回归 F1 值：', lj_f1)"
   ],
   "outputs": [
    {
     "name": "stdout",
     "output_type": "stream",
     "text": [
      "读取数据并查看前5行\n",
      "    tag_104013  tag_104014  tag_104016  tag_104017  tag_104018  tag_104019  \\\n",
      "0           2           0           0           2           0           0   \n",
      "1           2           0           0           0           2           0   \n",
      "2           2           0           0           0           0           2   \n",
      "3           2           0           0           0           2           0   \n",
      "4           1           2           0           2           0           0   \n",
      "\n",
      "   tag_104020  tag_104563  tag_112950  tag_121711  ...  r6  r7  r8  r9  g1  \\\n",
      "0           0           0           1           0  ...   0   0   0   0   0   \n",
      "1           0           0           0           0  ...   0   1   0   0   0   \n",
      "2           0           0           0           0  ...   0   0   0   0   0   \n",
      "3           0           0           0           0  ...   0   0   0   0   0   \n",
      "4           0           0           0           0  ...   0   0   0   0   0   \n",
      "\n",
      "   g2  g3  g4  g5  g6  \n",
      "0   0   1   0   0   0  \n",
      "1   1   0   0   0   0  \n",
      "2   0   0   1   0   0  \n",
      "3   1   0   0   0   0  \n",
      "4   0   1   0   0   0  \n",
      "\n",
      "[5 rows x 326 columns]\n",
      "基本信息\n",
      " <bound method DataFrame.info of        tag_104013  tag_104014  tag_104016  tag_104017  tag_104018  tag_104019  \\\n",
      "0               2           0           0           2           0           0   \n",
      "1               2           0           0           0           2           0   \n",
      "2               2           0           0           0           0           2   \n",
      "3               2           0           0           0           2           0   \n",
      "4               1           2           0           2           0           0   \n",
      "...           ...         ...         ...         ...         ...         ...   \n",
      "20378           1           0           0           0           1           0   \n",
      "20379           2           0           0           2           0           0   \n",
      "20380           0           2           1           2           1           0   \n",
      "20381           2           0           0           0           2           0   \n",
      "20382           2           0           0           0           2           0   \n",
      "\n",
      "       tag_104020  tag_104563  tag_112950  tag_121711  ...  r6  r7  r8  r9  \\\n",
      "0               0           0           1           0  ...   0   0   0   0   \n",
      "1               0           0           0           0  ...   0   1   0   0   \n",
      "2               0           0           0           0  ...   0   0   0   0   \n",
      "3               0           0           0           0  ...   0   0   0   0   \n",
      "4               0           0           0           0  ...   0   0   0   0   \n",
      "...           ...         ...         ...         ...  ...  ..  ..  ..  ..   \n",
      "20378           0           0           0           0  ...   1   0   0   0   \n",
      "20379           0           1           0           0  ...   0   0   0   0   \n",
      "20380           0           0           0           0  ...   1   0   0   0   \n",
      "20381           0           0           1           0  ...   0   0   0   0   \n",
      "20382           0           0           0           0  ...   0   0   0   0   \n",
      "\n",
      "       g1  g2  g3  g4  g5  g6  \n",
      "0       0   0   1   0   0   0  \n",
      "1       0   1   0   0   0   0  \n",
      "2       0   0   0   1   0   0  \n",
      "3       0   1   0   0   0   0  \n",
      "4       0   0   1   0   0   0  \n",
      "...    ..  ..  ..  ..  ..  ..  \n",
      "20378   0   0   0   0   0   1  \n",
      "20379   0   0   1   0   0   0  \n",
      "20380   0   0   1   0   0   0  \n",
      "20381   0   1   0   0   0   0  \n",
      "20382   0   1   0   0   0   0  \n",
      "\n",
      "[20383 rows x 326 columns]>\n",
      "随机森林最佳参数组合（\n",
      " {'max_depth': 10, 'n_estimators': 300}\n"
     ]
    },
    {
     "name": "stderr",
     "output_type": "stream",
     "text": [
      "D:\\Jupyter\\Lib\\site-packages\\sklearn\\linear_model\\_logistic.py:469: ConvergenceWarning: lbfgs failed to converge (status=1):\n",
      "STOP: TOTAL NO. of ITERATIONS REACHED LIMIT.\n",
      "\n",
      "Increase the number of iterations (max_iter) or scale the data as shown in:\n",
      "    https://scikit-learn.org/stable/modules/preprocessing.html\n",
      "Please also refer to the documentation for alternative solver options:\n",
      "    https://scikit-learn.org/stable/modules/linear_model.html#logistic-regression\n",
      "  n_iter_i = _check_optimize_result(\n",
      "D:\\Jupyter\\Lib\\site-packages\\sklearn\\linear_model\\_logistic.py:469: ConvergenceWarning: lbfgs failed to converge (status=1):\n",
      "STOP: TOTAL NO. of ITERATIONS REACHED LIMIT.\n",
      "\n",
      "Increase the number of iterations (max_iter) or scale the data as shown in:\n",
      "    https://scikit-learn.org/stable/modules/preprocessing.html\n",
      "Please also refer to the documentation for alternative solver options:\n",
      "    https://scikit-learn.org/stable/modules/linear_model.html#logistic-regression\n",
      "  n_iter_i = _check_optimize_result(\n",
      "D:\\Jupyter\\Lib\\site-packages\\sklearn\\linear_model\\_logistic.py:469: ConvergenceWarning: lbfgs failed to converge (status=1):\n",
      "STOP: TOTAL NO. of ITERATIONS REACHED LIMIT.\n",
      "\n",
      "Increase the number of iterations (max_iter) or scale the data as shown in:\n",
      "    https://scikit-learn.org/stable/modules/preprocessing.html\n",
      "Please also refer to the documentation for alternative solver options:\n",
      "    https://scikit-learn.org/stable/modules/linear_model.html#logistic-regression\n",
      "  n_iter_i = _check_optimize_result(\n",
      "D:\\Jupyter\\Lib\\site-packages\\sklearn\\linear_model\\_logistic.py:469: ConvergenceWarning: lbfgs failed to converge (status=1):\n",
      "STOP: TOTAL NO. of ITERATIONS REACHED LIMIT.\n",
      "\n",
      "Increase the number of iterations (max_iter) or scale the data as shown in:\n",
      "    https://scikit-learn.org/stable/modules/preprocessing.html\n",
      "Please also refer to the documentation for alternative solver options:\n",
      "    https://scikit-learn.org/stable/modules/linear_model.html#logistic-regression\n",
      "  n_iter_i = _check_optimize_result(\n"
     ]
    },
    {
     "name": "stdout",
     "output_type": "stream",
     "text": [
      "逻辑回归最佳参数组合（\n",
      " {'C': 0.1}\n",
      "随机森林--特征重要性(\n",
      " RandomForestClassifier(max_depth=10, n_estimators=300)\n",
      "随机森林准确率： 0.8446558644269362\n",
      "随机森林召回率： 0.10931899641577061\n",
      "随机森林 F1 值： 0.18929402637703646\n",
      "逻辑回归准确率： 0.8442099004013677\n",
      "逻辑回归召回率： 0.13709677419354838\n",
      "逻辑回归 F1 值： 0.2259970457902511\n"
     ]
    }
   ],
   "execution_count": 2
  },
  {
   "metadata": {
    "ExecuteTime": {
     "end_time": "2024-10-09T06:57:40.110894Z",
     "start_time": "2024-10-09T06:57:20.666344Z"
    }
   },
   "cell_type": "code",
   "source": [
    "# 7、默认绘制学习率、ROC曲线,可自主选择其他,并使用最优模型预测数据集,并保存模型(5分)\n",
    "# 绘制学习曲线\n",
    "\n",
    "import matplotlib.pyplot as plt\n",
    "plt.rcParams['font.sans-serif'] = ['SimHei']\n",
    "plt.rcParams['axes.unicode_minus'] = False\n",
    "from sklearn.model_selection import learning_curve\n",
    "\n",
    "\n",
    "train_sizes, train_scores, test_scores = learning_curve(sj, x_train, y_train, train_sizes=np.linspace(0.1, 1.0,10),cv=5,n_jobs=-1)\n",
    "\n",
    "plt.plot(train_sizes,np.mean(train_scores,axis=1) ,color='blue', label='培训成绩')#\n",
    "plt.fill_between(train_sizes,np.mean(train_scores,axis=1) - np.std(train_scores,axis=1),np.mean(train_scores,axis=1) + np.std(train_scores,axis=1),alpha=0.3,color=\"blue\")\n",
    "\n",
    "plt.plot(train_sizes,np.mean(test_scores,axis=1) ,color='green', label='交叉验证分数')#\n",
    "plt.fill_between(train_sizes,np.mean(test_scores,axis=1) - np.std(test_scores,axis=1),np.mean(test_scores,axis=1) + np.std(test_scores,axis=1),alpha=0.3, color=\"green\")\n",
    "plt.grid()#网格\n",
    "plt.xlabel(\"训练样本\")\n",
    "plt.ylabel(\"fit_times\")\n",
    "plt.title(\"style_cove\")#标题\n",
    "plt.show()"
   ],
   "id": "6727e68d97cef0e7",
   "outputs": [
    {
     "data": {
      "text/plain": [
       "<Figure size 640x480 with 1 Axes>"
      ],
      "image/png": "[encoded data removed]"
     },
     "metadata": {},
     "output_type": "display_data"
    }
   ],
   "execution_count": 4
  },
  {
   "metadata": {
    "ExecuteTime": {
     "end_time": "2024-10-08T08:36:42.419916Z",
     "start_time": "2024-10-08T08:36:42.332234Z"
    }
   },
   "cell_type": "code",
   "source": [
    "#ROC曲线\n",
    "from sklearn import metrics\n",
    "fpr, tpr, thresholds = metrics.roc_curve(y_test, yc_lj6)\n",
    "roc_auc = metrics.auc(fpr, tpr)\n",
    "display = metrics.RocCurveDisplay(fpr=fpr, tpr=tpr, roc_auc=roc_auc)\n",
    "display.plot()\n",
    "plt.show()\n"
   ],
   "id": "dcea22b939ac4db5",
   "outputs": [
    {
     "data": {
      "text/plain": [
       "<Figure size 640x480 with 1 Axes>"
      ],
      "image/png": "[encoded data removed]"
     },
     "metadata": {},
     "output_type": "display_data"
    }
   ],
   "execution_count": 17
  },
  {
   "metadata": {
    "ExecuteTime": {
     "end_time": "2024-10-08T08:45:01.019720Z",
     "start_time": "2024-10-08T08:45:00.876305Z"
    }
   },
   "cell_type": "code",
   "source": [
    "import joblib\n",
    "\n",
    "#并使用最优模型预测数据集,并保存模型\n",
    "\n",
    "t5_sj1=search_sj.best_estimator_\n",
    "joblib.dump(t5_sj1, 'E:\\\\python代码\\\\lx-yk\\\\data-yk\\\\yk4\\\\a1.pkl')\n",
    "\n",
    "t5_lj1=search_lj.best_estimator_\n",
    "joblib.dump(t5_lj1, 'E:\\\\python代码\\\\lx-yk\\\\data-yk\\\\yk4\\\\a2.pkl')"
   ],
   "id": "f959e4908c392550",
   "outputs": [
    {
     "data": {
      "text/plain": [
       "['E:\\\\python代码\\\\lx-yk\\\\data-yk\\\\yk4\\\\a2.pkl']"
      ]
     },
     "execution_count": 18,
     "metadata": {},
     "output_type": "execute_result"
    }
   ],
   "execution_count": 18
  }
 ],
 "metadata": {
  "kernelspec": {
   "display_name": "Python 3",
   "language": "python",
   "name": "python3"
  },
  "language_info": {
   "codemirror_mode": {
    "name": "ipython",
    "version": 2
   },
   "file_extension": ".py",
   "mimetype": "text/x-python",
   "name": "python",
   "nbconvert_exporter": "python",
   "pygments_lexer": "ipython2",
   "version": "2.7.6"
  }
 },
 "nbformat": 4,
 "nbformat_minor": 5
}
