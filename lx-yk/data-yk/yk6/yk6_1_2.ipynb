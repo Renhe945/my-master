{
 "cells": [
  {
   "cell_type": "code",
   "id": "initial_id",
   "metadata": {
    "collapsed": true,
    "ExecuteTime": {
     "end_time": "2024-10-09T08:36:13.419663Z",
     "start_time": "2024-10-09T08:35:48.766790Z"
    }
   },
   "source": [
    "from sklearn.metrics import accuracy_score, recall_score, precision_score, f1_score\n",
    "from sklearn.model_selection import train_test_split, GridSearchCV\n",
    "from sklearn.tree import DecisionTreeClassifier\n",
    "# 题目二、 股票客户流失预测。\n",
    "# 利用股票客户流失.xlsx数据集，选择合适模型训练，解决客户流失预测问题。\n",
    "# 字段如下：账户资金（元）、最后一次交易距今时间（天）、上月交易佣金（元）、累计交易佣金（元）、本券商使用时长（年）、是否流失\n",
    "# 1.获取数据、划分测试集与训练集。（5分）\n",
    "import pandas as pd\n",
    "import numpy as np\n",
    "data = pd.read_excel('E:\\\\python代码\\\\lx-yk\\\\data-yk\\\\yk6\\\\股票客户流失.xlsx')\n",
    "print(data)\n",
    "x=data.iloc[:,:-1]\n",
    "y=data['是否流失']\n",
    "X_train, X_test, y_train, y_test = train_test_split(x, y,test_size=0.2, random_state=42)\n",
    "# 2.至少使用2种算法进行数据建模(排除逻辑回归算法)，并设置合理的参数。(8分)\n",
    "\n",
    "#决策树\n",
    "tree = DecisionTreeClassifier()\n",
    "tree.fit(X_train, y_train)\n",
    "yc=tree.predict(X_test)\n",
    "# 随机森林分类\n",
    "from sklearn.ensemble import RandomForestClassifier\n",
    "clf = RandomForestClassifier()\n",
    "clf.fit(X_train, y_train)\n",
    "yc1=clf.predict(X_test)\n",
    "# 3.自主选择调参方法对算法参数调优(5分)\n",
    "tree_cs={'max_depth':[1,3,5],'min_samples_split':[2,3,4]}\n",
    "clf_cs={'n_estimators':[100,200,300],'max_depth':[1,3,5]}\n",
    "print(\"==========================决策树===========================\")\n",
    "t3_1=GridSearchCV(tree,tree_cs,cv=5)\n",
    "t3_1.fit(X_train, y_train)\n",
    "\n",
    "t3_1.best_params_\n",
    "\n",
    "#使用最佳参数组合训练出来的模型实例。\n",
    "t1=t3_1.best_estimator_\n",
    "print('使用最佳参数训练出来的',t1)\n",
    "\n",
    "print(\"==========================随机森林===========================\")\n",
    "t3_2=GridSearchCV(clf,clf_cs,cv=5)\n",
    "t3_2.fit(X_train, y_train)\n",
    "\n",
    "t3_2.best_params_\n",
    "t2=t3_2.best_estimator_\n",
    "print('使用最佳参数训练出来的',t2)\n",
    "# 4.选择合适评估指标评估模型。（5分）\n",
    "#选择评估指标\n",
    "print(\"==========================决策树===========================\")\n",
    "cv_ty1=t1.predict(X_test)\n",
    "tree1=accuracy_score(y_test, cv_ty1)\n",
    "tree2=recall_score(y_test, cv_ty1)\n",
    "tree3=precision_score(y_test, cv_ty1)\n",
    "tree4=f1_score(y_test, cv_ty1)\n",
    "print(tree1,'\\n',tree2,'\\n',tree3,'\\n',tree4,'\\n')\n",
    "print(\"==========================随机森林===========================\")\n",
    "cv_ty2=t2.predict(X_test)\n",
    "s1=accuracy_score(y_test, cv_ty2)\n",
    "s2=recall_score(y_test, cv_ty2)\n",
    "s3=precision_score(y_test, cv_ty2)\n",
    "s4=f1_score(y_test, cv_ty2)\n",
    "print(s1,'\\n',s2,'\\n',s3,'\\n',s4,'\\n')\n"
   ],
   "outputs": [
    {
     "name": "stdout",
     "output_type": "stream",
     "text": [
      "       账户资金（元）  最后一次交易距今时间（天）  上月交易佣金（元）  累计交易佣金（元）  本券商使用时长（年）  是否流失\n",
      "0      22686.5            297     149.25    2029.85           0     0\n",
      "1     190055.0             42     284.75    3889.50           2     0\n",
      "2      29733.5            233     269.25    2108.15           0     1\n",
      "3     185667.5             44     211.50    3840.75           3     0\n",
      "4      33648.5            213     353.50    2151.65           0     1\n",
      "...        ...            ...        ...        ...         ...   ...\n",
      "7038  199145.0             40     424.00    3990.50           1     0\n",
      "7039  682661.0              1     516.00    9362.90           5     0\n",
      "7040   51180.5            167     148.00    2346.45           0     0\n",
      "7041   47594.0            174     372.00    2306.60           0     1\n",
      "7042  636005.0              2     528.25    8844.50           5     0\n",
      "\n",
      "[7043 rows x 6 columns]\n",
      "==========================决策树===========================\n",
      "使用最佳参数训练出来的 DecisionTreeClassifier(max_depth=3)\n",
      "==========================随机森林===========================\n",
      "使用最佳参数训练出来的 RandomForestClassifier(max_depth=5)\n",
      "==========================决策树===========================\n",
      "0.7849538679914834 \n",
      " 0.3699731903485255 \n",
      " 0.6699029126213593 \n",
      " 0.47668393782383417 \n",
      "\n",
      "==========================随机森林===========================\n",
      "0.7998580553584103 \n",
      " 0.43967828418230565 \n",
      " 0.6919831223628692 \n",
      " 0.5377049180327869 \n",
      "\n"
     ]
    }
   ],
   "execution_count": 15
  },
  {
   "metadata": {},
   "cell_type": "code",
   "outputs": [],
   "execution_count": null,
   "source": [
    "# 5.利用numpy实现逻辑回归算法并使用第1题数据集训练模型(7分)\n",
    "\n",
    "\n",
    "\n",
    "\n",
    "\n"
   ],
   "id": "f83dbdbf43404c9d"
  },
  {
   "metadata": {
    "ExecuteTime": {
     "end_time": "2024-10-09T08:42:52.230224Z",
     "start_time": "2024-10-09T08:42:52.217035Z"
    }
   },
   "cell_type": "code",
   "source": [
    "# 6.综合对比第4题与逻辑回归模型，选出最优模型，并预测数据集(5分)\n",
    "# 打印所有模型的评估结果以便比较  \n",
    "print(\"决策树模型评估结果:\")  \n",
    "print(tree1, '\\n', tree2, '\\n', tree3, '\\n', tree4, '\\n')  \n",
    "print(\"随机森林模型评估结果:\")  \n",
    "print(s1, '\\n', s2, '\\n', s3, '\\n', s4, '\\n')  \n",
    "# print(\"逻辑回归模型评估结果:\")  \n",
    "# print(log_reg_accuracy, '\\n', log_reg_recall, '\\n', log_reg_precision, '\\n', log_reg_f1, '\\n')  \n",
    "  \n",
    "# 根据F1分数选择最优模型  \n",
    "best_model_f1 = max(tree4, s4, )  \n",
    "if best_model_f1 == tree4:  \n",
    "    best_model = t1  # 决策树  \n",
    "# elif best_model_f1 == s4:  \n",
    "#     best_model = t2  # 随机森林  \n",
    "else:  \n",
    "    best_model = t2  # 逻辑回归  \n",
    "  \n",
    "# 使用最优模型进行预测（这里假设最优模型是随机森林，但应根据上面的比较结果来确定）  \n",
    "final_predictions = best_model.predict(X_test)"
   ],
   "id": "a941960094732b9e",
   "outputs": [
    {
     "name": "stdout",
     "output_type": "stream",
     "text": [
      "决策树模型评估结果:\n",
      "0.7849538679914834 \n",
      " 0.3699731903485255 \n",
      " 0.6699029126213593 \n",
      " 0.47668393782383417 \n",
      "\n",
      "随机森林模型评估结果:\n",
      "0.7998580553584103 \n",
      " 0.43967828418230565 \n",
      " 0.6919831223628692 \n",
      " 0.5377049180327869 \n",
      "\n"
     ]
    }
   ],
   "execution_count": 16
  }
 ],
 "metadata": {
  "kernelspec": {
   "display_name": "Python 3",
   "language": "python",
   "name": "python3"
  },
  "language_info": {
   "codemirror_mode": {
    "name": "ipython",
    "version": 2
   },
   "file_extension": ".py",
   "mimetype": "text/x-python",
   "name": "python",
   "nbconvert_exporter": "python",
   "pygments_lexer": "ipython2",
   "version": "2.7.6"
  }
 },
 "nbformat": 4,
 "nbformat_minor": 5
}
