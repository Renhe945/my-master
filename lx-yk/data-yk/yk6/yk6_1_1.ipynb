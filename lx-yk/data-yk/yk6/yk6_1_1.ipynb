{
 "cells": [
  {
   "cell_type": "code",
   "id": "initial_id",
   "metadata": {
    "collapsed": true,
    "ExecuteTime": {
     "end_time": "2024-10-09T07:03:56.980946Z",
     "start_time": "2024-10-09T07:03:55.572074Z"
    }
   },
   "source": [
    "# 题目一、信用评分。\n",
    "# 为了降低不良贷款率，保障自身资金安全，提高风险控制水平，银行等金融机构会根据客户的信用历史资料构建信用评分模型给客户评分。根据客户的信用得分，可以估计客户按时还款的可能，并据此决定是否发放贷款及贷款的额度和利率。\n",
    "# 1、获取数据：信用评分卡模型.xlsx(2分)\n",
    "import pandas as pd\n",
    "import  numpy as np\n",
    "a1=pd.read_excel('E:\\\\python代码\\\\lx-yk\\\\data-yk\\\\yk6\\信用评分卡模型.xlsx')\n",
    "print(a1)\n",
    "# 2、数据探索分析：\n",
    "# 1）查看前5行（2分）\n",
    "print('查看前5行\\n', a1.head(5))\n",
    "# 2）查看数据信息（2分）\n",
    "print(\"查看数据信息\\n\",a1.info)\n",
    "# 3）查看基本统计信息（2分）\n",
    "print('查看基本统计信息\\n',a1.describe())\n",
    "# 4）查看数据的行数和列数（2分）\n",
    "print('查看数据的行数和列数\\n',a1.shape)\n",
    "# 3、数据清洗：\n",
    "# 1）缺失值处理：查看数据缺失情况，采用合适的方式填充或者删除（5分）\n",
    "# 查看数据缺失情况\n",
    "a1.isnull().any()\n",
    "#如果有空  填充或者删除\n",
    "a1.fillna(a1.mean(),inplace=True)#\n",
    "# 再次查看数据缺失情况\n",
    "a1.isnull().any()\n",
    "# 2）重复值处理：检查是否有重复值，有则删除（5分\n",
    "# 检查是否有重复值\n",
    "a1.drop_duplicates(inplace=True)\n",
    "# 4、自主选择合适的方法进行特征选择(3分)\n",
    "x=a1.drop('信用评分',axis=1)\n",
    "y=a1['信用评分']\n",
    "y\n",
    "# 5、划分测试集与训练集（2分）\n",
    "from sklearn.model_selection import train_test_split\n",
    "x_train, x_test, y_train, y_test = train_test_split(x, y, test_size=0.33, random_state=42)\n",
    "# 将特征缩放一下\n",
    "from sklearn.preprocessing import StandardScaler\n",
    "scaler = StandardScaler()\n",
    "x_train=scaler.fit_transform(x_train)\n",
    "x_test=scaler.transform(x_test)"
   ],
   "outputs": [
    {
     "name": "stdout",
     "output_type": "stream",
     "text": [
      "       月收入  年龄  性别  历史授信额度  历史违约次数  信用评分\n",
      "0     7783  29   0   32274       3    73\n",
      "1     7836  40   1    6681       4    72\n",
      "2     6398  25   0   26038       2    74\n",
      "3     6483  23   1   24584       4    65\n",
      "4     5167  23   1    6710       3    73\n",
      "..     ...  ..  ..     ...     ...   ...\n",
      "995  12873  52   1   58190       2    87\n",
      "996  11478  36   0   95688       1    81\n",
      "997  14105  45   1   76221       2    89\n",
      "998  11914  37   1   39906       2    83\n",
      "999  14467  45   0   84052       2    83\n",
      "\n",
      "[1000 rows x 6 columns]\n",
      "查看前5行\n",
      "     月收入  年龄  性别  历史授信额度  历史违约次数  信用评分\n",
      "0  7783  29   0   32274       3    73\n",
      "1  7836  40   1    6681       4    72\n",
      "2  6398  25   0   26038       2    74\n",
      "3  6483  23   1   24584       4    65\n",
      "4  5167  23   1    6710       3    73\n",
      "查看数据信息\n",
      " <bound method DataFrame.info of        月收入  年龄  性别  历史授信额度  历史违约次数  信用评分\n",
      "0     7783  29   0   32274       3    73\n",
      "1     7836  40   1    6681       4    72\n",
      "2     6398  25   0   26038       2    74\n",
      "3     6483  23   1   24584       4    65\n",
      "4     5167  23   1    6710       3    73\n",
      "..     ...  ..  ..     ...     ...   ...\n",
      "995  12873  52   1   58190       2    87\n",
      "996  11478  36   0   95688       1    81\n",
      "997  14105  45   1   76221       2    89\n",
      "998  11914  37   1   39906       2    83\n",
      "999  14467  45   0   84052       2    83\n",
      "\n",
      "[1000 rows x 6 columns]>\n",
      "查看基本统计信息\n",
      "                 月收入           年龄           性别        历史授信额度       历史违约次数  \\\n",
      "count   1000.000000  1000.000000  1000.000000   1000.000000  1000.000000   \n",
      "mean   10182.061000    39.075000     0.507000  48783.005000     2.012000   \n",
      "std     2719.251125     9.610085     0.500201  27133.636467     1.554436   \n",
      "min     5007.000000    20.000000     0.000000   5073.000000     0.000000   \n",
      "25%     8160.250000    32.000000     0.000000  26907.750000     1.000000   \n",
      "50%    10038.000000    39.000000     1.000000  42948.000000     2.000000   \n",
      "75%    12498.250000    47.000000     1.000000  72386.500000     3.000000   \n",
      "max    14999.000000    55.000000     1.000000  99991.000000     5.000000   \n",
      "\n",
      "              信用评分  \n",
      "count  1000.000000  \n",
      "mean     79.558000  \n",
      "std       7.749754  \n",
      "min      60.000000  \n",
      "25%      74.000000  \n",
      "50%      81.000000  \n",
      "75%      86.000000  \n",
      "max      90.000000  \n",
      "查看数据的行数和列数\n",
      " (1000, 6)\n"
     ]
    }
   ],
   "execution_count": 1
  },
  {
   "metadata": {
    "ExecuteTime": {
     "end_time": "2024-10-09T07:03:57.511532Z",
     "start_time": "2024-10-09T07:03:56.980946Z"
    }
   },
   "cell_type": "code",
   "source": [
    "# 6、模型选择与训练：XGBoost、GBDT、逻辑回归、随机森林或者其他你任务合适的模型。（至少2种）（8分）\n",
    "# XGBoost\n",
    "from xgboost import XGBRegressor\n",
    "bst = XGBRegressor()\n",
    "bst.fit(x_train, y_train)\n",
    "bst_yc=bst.predict(x_test)\n",
    "\n",
    "# 随机森林\n",
    "from sklearn.ensemble import RandomForestRegressor\n",
    "sj = RandomForestRegressor()\n",
    "sj.fit(x_train, y_train)\n",
    "sj_yc=sj.predict(x_test)\n",
    "\n"
   ],
   "id": "80f35cbecd115e16",
   "outputs": [],
   "execution_count": 2
  },
  {
   "metadata": {
    "ExecuteTime": {
     "end_time": "2024-10-09T07:30:46.121579Z",
     "start_time": "2024-10-09T07:30:29.777400Z"
    }
   },
   "cell_type": "code",
   "source": [
    "import joblib\n",
    "from sklearn.metrics import mean_squared_error, mean_absolute_error\n",
    "# 7、使用网格搜索进行参数调优（5分）\n",
    "from sklearn.model_selection import GridSearchCV\n",
    "bst_cs={'learning_rate':[0.1,0.2,0.3],'max_depth':[2,3,4]}\n",
    "\n",
    "bst_cv = GridSearchCV(bst, bst_cs,cv=5)\n",
    "bst_cv.fit(x_train, y_train)\n",
    "bst_t7=bst_cv.best_params_\n",
    "print(\"XGBoost调优后的参数\",bst_t7)\n",
    "sj_cs={'n_estimators':[100,200,300],'max_depth':[1,10,20]}\n",
    "sj_cv = GridSearchCV(sj, sj_cs,cv=5)\n",
    "sj_cv.fit(x_train, y_train)\n",
    "sj_t7=sj_cv.best_params_\n",
    "print(\"随机森林调优后的参数\",sj_t7)\n",
    "\n",
    "\n",
    "# 8、模型评估：使用R2 、MSE、RMSE或者你认为合适的指标评估模型。（至少两种）（5分）\n",
    "#XGBoost\n",
    "bst_gjq=bst_cv.best_estimator_\n",
    "ty_XGB=bst_gjq.predict(x_test)\n",
    "from sklearn.metrics import r2_score\n",
    "R2=r2_score(y_test, ty_XGB)\n",
    "MSE=mean_squared_error(y_test, ty_XGB)\n",
    "RMSE=np.sqrt(MSE)#计算平方根函数\n",
    "print(f\"使用R2 {R2}MSE{MSE}RMSE:计算平方根函数{RMSE}\")\n",
    "\n",
    "#随机森林\n",
    "sj_gjq=sj_cv.best_estimator_\n",
    "ty_sj=sj_gjq.predict(x_test)\n",
    "R21=r2_score(y_test, ty_sj)\n",
    "MSE1=mean_squared_error(y_test, ty_sj)\n",
    "RMSE1=np.sqrt(MSE)#计算平方根函数\n",
    "print(f\"使用R2 {R21}MSE{MSE1}RMSE:计算平方根函数{RMSE1}\")\n",
    "\n",
    "\n",
    "\n",
    "# 9、查看特征重要性（3分）\n",
    "t9=bst_gjq.feature_importances_\n",
    "\n",
    "t91=sj_gjq.feature_importances_\n",
    "print(t91,t9)\n",
    "\n",
    "\n",
    "\n",
    "# 10、模型保存：使用合适的方式保存训练好的模型。（3分）\n",
    "\n",
    "joblib.dump(bst_gjq, 'a1.pkl')  \n",
    "joblib.dump(sj_gjq, 'a2.pkl')  \n",
    "\n"
   ],
   "id": "99cc3816a63840f1",
   "outputs": [
    {
     "name": "stdout",
     "output_type": "stream",
     "text": [
      "XGBoost调优后的参数 {'learning_rate': 0.1, 'max_depth': 3}\n",
      "随机森林调优后的参数 {'max_depth': 10, 'n_estimators': 200}\n",
      "使用R2 0.6911657552857946MSE20.287344222823968RMSE:计算平方根函数4.504147446834303\n",
      "使用R2 0.6909562564673385MSE20.301106215598537RMSE:计算平方根函数4.504147446834303\n",
      "[0.22524451 0.14861367 0.00714734 0.5057501  0.11324438] [0.05125443 0.16087697 0.01481416 0.27191195 0.5011425 ]\n"
     ]
    },
    {
     "data": {
      "text/plain": [
       "['a2.pkl']"
      ]
     },
     "execution_count": 10,
     "metadata": {},
     "output_type": "execute_result"
    }
   ],
   "execution_count": 10
  }
 ],
 "metadata": {
  "kernelspec": {
   "display_name": "Python 3",
   "language": "python",
   "name": "python3"
  },
  "language_info": {
   "codemirror_mode": {
    "name": "ipython",
    "version": 2
   },
   "file_extension": ".py",
   "mimetype": "text/x-python",
   "name": "python",
   "nbconvert_exporter": "python",
   "pygments_lexer": "ipython2",
   "version": "2.7.6"
  }
 },
 "nbformat": 4,
 "nbformat_minor": 5
}
