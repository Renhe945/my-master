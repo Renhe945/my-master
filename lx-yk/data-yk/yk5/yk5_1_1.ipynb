{
 "cells": [
  {
   "cell_type": "code",
   "execution_count": null,
   "id": "initial_id",
   "metadata": {
    "collapsed": true
   },
   "outputs": [],
   "source": [
    "# 题目一、按要求完成下面的需求。（25分）\n",
    "# 有以下数据集:\n",
    "# X = [1.5, 0.8, 2.6, 1.0, 0.6, 2.8, 1.2, 0.9, 0.4, 1.3, 1.2, 2.0, 1.6, 1.8, 2.2]\n",
    "# Y = [3.1, 1.9, 4.2, 2.3, 1.6, 4.9, 2.8, 2.1, 1.4, 2.4, 2.4, 3.8, 3.0, 3.4, 4.0] \n",
    "# X是地区面积，第二列是地区销售利润。\n",
    "# 请通过Python实现一元线性回归模型，并用此模型预测y，具体要求如下：\n",
    "# 1.实现线性回归的代价函数（5分）\n",
    "# 2.实现至少两种梯度下降函数（5分）\n",
    "# 3.要求输出迭代过程中的代价函数值（5分）\n",
    "# 4.通过梯度下降计算回归模型，用所得模型对测试集的数据进行预测（5分）\n",
    "# 5.以横轴为真实值，纵轴为预测值，画出散点图进行对比（5分）"
   ]
  }
 ],
 "metadata": {
  "kernelspec": {
   "display_name": "Python 3",
   "language": "python",
   "name": "python3"
  },
  "language_info": {
   "codemirror_mode": {
    "name": "ipython",
    "version": 2
   },
   "file_extension": ".py",
   "mimetype": "text/x-python",
   "name": "python",
   "nbconvert_exporter": "python",
   "pygments_lexer": "ipython2",
   "version": "2.7.6"
  }
 },
 "nbformat": 4,
 "nbformat_minor": 5
}
