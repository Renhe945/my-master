{
 "cells": [
  {
   "cell_type": "code",
   "execution_count": null,
   "id": "initial_id",
   "metadata": {
    "collapsed": true
   },
   "outputs": [],
   "source": [
    "# 题目二、 乘客生还预测（40分）。\n",
    "# 使用泰坦尼克号数据集（train.csv），构建分类模型，并且调整超参数获取最佳模型，预测生存。\n",
    "# #数据字段说明\n",
    "# passengerid： 乘客 ID\n",
    "# class： 舱位等级 (1 = 1st, 2 = 2nd, 3 = 3rd)**\n",
    "# name： 乘客姓名\n",
    "# sex： 性别\n",
    "# age： 年龄\n",
    "# sibsp： 在船上的兄弟姐妹／配偶个数\n",
    "# parch： 在船上的父母／小孩个数\n",
    "# ticket： 船票信息\n",
    "# fare： 票价\n",
    "# cabin： 客舱\n",
    "# embarked： 登船港口 (C = Cherbourg, Q = Queenstown, S = Southampton)\n",
    "# survived:  变量预测为值 0 或 1（这里 1 表示幸存，0 表示遇难）\n",
    "# 1.获取数据，将字符类型的特征转换为数字型，将缺失值做均值处理（6分）\n",
    "# 2.划分测试集与训练集，选择合适模型训练、预测。（5分）\n",
    "# 3.手动实现逻辑回归算法（5分）\n",
    "# 4.至少使用2种算法进行数据建模，并设置合理的参数（5分）\n",
    "# 5.选择合适评估指标评估模型。（6分）\n",
    "# 6.使用合适超参进行微调调整超参数，获取最佳模型。（8分）\n",
    "# 7.输出最优模型的权重系数，对样本进行预测，保存模型到本地（5分）\n"
   ]
  }
 ],
 "metadata": {
  "kernelspec": {
   "display_name": "Python 3",
   "language": "python",
   "name": "python3"
  },
  "language_info": {
   "codemirror_mode": {
    "name": "ipython",
    "version": 2
   },
   "file_extension": ".py",
   "mimetype": "text/x-python",
   "name": "python",
   "nbconvert_exporter": "python",
   "pygments_lexer": "ipython2",
   "version": "2.7.6"
  }
 },
 "nbformat": 4,
 "nbformat_minor": 5
}
