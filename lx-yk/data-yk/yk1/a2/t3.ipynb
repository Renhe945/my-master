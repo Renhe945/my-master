{
 "cells": [
  {
   "metadata": {},
   "cell_type": "code",
   "outputs": [],
   "execution_count": null,
   "source": [
    "# 题目三 、银行客户分群（25分）。\n",
    "# 利用客户信息.xlsx数据集，选择合适模型，解决银行客户分群问题。\n",
    "# \n",
    "# 1、读取数据并查看前5行以及数据均值、中位数等统计量。（2分）\n",
    "# 2、EDA分析：可视化展示并形成分析结论（5分）\n",
    "# 3、数据建模：选择合适的模型建模训练，并选用合适的指标评估模型。（8分）\n",
    "# 4、建模效果可视化展示（5分）\n",
    "# 5、使用模型对样本分群，对样本每条数据打上分群后的标签（如高净值、低净值）（5分）"
   ],
   "id": "72393a0e23f33059"
  }
 ],
 "metadata": {
  "kernelspec": {
   "display_name": "Python 3",
   "language": "python",
   "name": "python3"
  },
  "language_info": {
   "codemirror_mode": {
    "name": "ipython",
    "version": 2
   },
   "file_extension": ".py",
   "mimetype": "text/x-python",
   "name": "python",
   "nbconvert_exporter": "python",
   "pygments_lexer": "ipython2",
   "version": "2.7.6"
  }
 },
 "nbformat": 4,
 "nbformat_minor": 5
}
