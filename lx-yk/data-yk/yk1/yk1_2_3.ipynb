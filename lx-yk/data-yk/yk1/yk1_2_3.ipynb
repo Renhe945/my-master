{
 "cells": [
  {
   "cell_type": "code",
   "execution_count": null,
   "id": "initial_id",
   "metadata": {
    "collapsed": true
   },
   "outputs": [],
   "source": [
    "# **分析业务三：治疗方案与费用分析**\n",
    "# \n",
    "# **题目11：治疗方案与医疗费用关系**（5分）\n",
    "# 使用分组计算不同治疗方案和药品的平均医疗费用，并使用Matplotlib绘制柱状图展示并形成结论。并找出高费用治疗方案的用药类型。\n",
    "# \n",
    "# **题目12：治疗方案建议**（5分）\n",
    "# 根据不同疾病的常见治疗方案，为每个疾病输出相应的治疗方案建议。\n",
    "# \n",
    "# **题目13：费用与就诊次数关系**（5分）\n",
    "# 使用Pandas绘制费用与就诊次数的散点图，同时用不同颜色区分不同疾病，并形成结论。\n",
    "# \n",
    "# **题目14：就诊次数与入院日期关系**（5分）\n",
    "# 将入院日期转换为星期几，统计每个星期几的就诊次数，并使用Matplotlib绘制柱状图展示，并形成结论。\n",
    "# \n",
    "# **题目15：就诊次数与性别关系**（5分）\n",
    "# 使用Pandas绘制不同性别的就诊次数分布直方图，分别以不同颜色展示，并形成结论。"
   ]
  }
 ],
 "metadata": {
  "kernelspec": {
   "display_name": "Python 3",
   "language": "python",
   "name": "python3"
  },
  "language_info": {
   "codemirror_mode": {
    "name": "ipython",
    "version": 2
   },
   "file_extension": ".py",
   "mimetype": "text/x-python",
   "name": "python",
   "nbconvert_exporter": "python",
   "pygments_lexer": "ipython2",
   "version": "2.7.6"
  }
 },
 "nbformat": 4,
 "nbformat_minor": 5
}
