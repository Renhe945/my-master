{
 "cells": [
  {
   "metadata": {},
   "cell_type": "code",
   "outputs": [
    {
     "name": "stdout",
     "output_type": "stream",
     "text": [
      "   fixed acidity  volatile acidity  citric acid  residual sugar  chlorides  \\\n",
      "0            7.4              0.70         0.00             1.9      0.076   \n",
      "1            7.8              0.88         0.00             2.6      0.098   \n",
      "2            7.8              0.76         0.04             2.3      0.092   \n",
      "3           11.2              0.28         0.56             1.9      0.075   \n",
      "4            7.4              0.70         0.00             1.9      0.076   \n",
      "\n",
      "   free sulfur dioxide  total sulfur dioxide  density    pH  sulphates  \\\n",
      "0                 11.0                  34.0   0.9978  3.51       0.56   \n",
      "1                 25.0                  67.0   0.9968  3.20       0.68   \n",
      "2                 15.0                  54.0   0.9970  3.26       0.65   \n",
      "3                 17.0                  60.0   0.9980  3.16       0.58   \n",
      "4                 11.0                  34.0   0.9978  3.51       0.56   \n",
      "\n",
      "   alcohol  quality  \n",
      "0      9.4        5  \n",
      "1      9.8        5  \n",
      "2      9.8        5  \n",
      "3      9.8        6  \n",
      "4      9.4        5  \n",
      "查看数据信息\n",
      " <bound method DataFrame.info of       fixed acidity  volatile acidity  citric acid  residual sugar  chlorides  \\\n",
      "0               7.4             0.700         0.00             1.9      0.076   \n",
      "1               7.8             0.880         0.00             2.6      0.098   \n",
      "2               7.8             0.760         0.04             2.3      0.092   \n",
      "3              11.2             0.280         0.56             1.9      0.075   \n",
      "4               7.4             0.700         0.00             1.9      0.076   \n",
      "...             ...               ...          ...             ...        ...   \n",
      "1594            6.2             0.600         0.08             2.0      0.090   \n",
      "1595            5.9             0.550         0.10             2.2      0.062   \n",
      "1596            6.3             0.510         0.13             2.3      0.076   \n",
      "1597            5.9             0.645         0.12             2.0      0.075   \n",
      "1598            6.0             0.310         0.47             3.6      0.067   \n",
      "\n",
      "      free sulfur dioxide  total sulfur dioxide  density    pH  sulphates  \\\n",
      "0                    11.0                  34.0  0.99780  3.51       0.56   \n",
      "1                    25.0                  67.0  0.99680  3.20       0.68   \n",
      "2                    15.0                  54.0  0.99700  3.26       0.65   \n",
      "3                    17.0                  60.0  0.99800  3.16       0.58   \n",
      "4                    11.0                  34.0  0.99780  3.51       0.56   \n",
      "...                   ...                   ...      ...   ...        ...   \n",
      "1594                 32.0                  44.0  0.99490  3.45       0.58   \n",
      "1595                 39.0                  51.0  0.99512  3.52       0.76   \n",
      "1596                 29.0                  40.0  0.99574  3.42       0.75   \n",
      "1597                 32.0                  44.0  0.99547  3.57       0.71   \n",
      "1598                 18.0                  42.0  0.99549  3.39       0.66   \n",
      "\n",
      "      alcohol  quality  \n",
      "0         9.4        5  \n",
      "1         9.8        5  \n",
      "2         9.8        5  \n",
      "3         9.8        6  \n",
      "4         9.4        5  \n",
      "...       ...      ...  \n",
      "1594     10.5        5  \n",
      "1595     11.2        6  \n",
      "1596     11.0        6  \n",
      "1597     10.2        5  \n",
      "1598     11.0        6  \n",
      "\n",
      "[1599 rows x 12 columns]>\n",
      "查看基本统计信息\n",
      "        fixed acidity  volatile acidity  citric acid  residual sugar  \\\n",
      "count    1599.000000       1599.000000  1599.000000     1599.000000   \n",
      "mean        8.319637          0.527821     0.270976        2.538806   \n",
      "std         1.741096          0.179060     0.194801        1.409928   \n",
      "min         4.600000          0.120000     0.000000        0.900000   \n",
      "25%         7.100000          0.390000     0.090000        1.900000   \n",
      "50%         7.900000          0.520000     0.260000        2.200000   \n",
      "75%         9.200000          0.640000     0.420000        2.600000   \n",
      "max        15.900000          1.580000     1.000000       15.500000   \n",
      "\n",
      "         chlorides  free sulfur dioxide  total sulfur dioxide      density  \\\n",
      "count  1599.000000          1599.000000           1599.000000  1599.000000   \n",
      "mean      0.087467            15.874922             46.467792     0.996747   \n",
      "std       0.047065            10.460157             32.895324     0.001887   \n",
      "min       0.012000             1.000000              6.000000     0.990070   \n",
      "25%       0.070000             7.000000             22.000000     0.995600   \n",
      "50%       0.079000            14.000000             38.000000     0.996750   \n",
      "75%       0.090000            21.000000             62.000000     0.997835   \n",
      "max       0.611000            72.000000            289.000000     1.003690   \n",
      "\n",
      "                pH    sulphates      alcohol      quality  \n",
      "count  1599.000000  1599.000000  1599.000000  1599.000000  \n",
      "mean      3.311113     0.658149    10.422983     5.636023  \n",
      "std       0.154386     0.169507     1.065668     0.807569  \n",
      "min       2.740000     0.330000     8.400000     3.000000  \n",
      "25%       3.210000     0.550000     9.500000     5.000000  \n",
      "50%       3.310000     0.620000    10.200000     6.000000  \n",
      "75%       3.400000     0.730000    11.100000     6.000000  \n",
      "max       4.010000     2.000000    14.900000     8.000000  \n",
      "查看数据的行数和列数\n",
      " (1599, 12)\n",
      "=======逻辑回归预测1=========\n",
      " [1 1 1 ... 1 1 1]\n",
      "=======逻辑回归训练准确率=========\n",
      " [1 1 1 1 1 1 1 1 1 1 1 1 1 1 1 1 1 1 1 1 1 1 1 1 1 1 1 1 1 1 1 1 1 1 1 1 1\n",
      " 1 1 1 1 1 1 1 1 1 1 1 1 1 1 1 1 1 1 1 1 1 1 1 1 1 1 1 1 1 1 1 1 1 1 1 1 1\n",
      " 1 1 1 1 1 1 1 1 1 1 1 1 1 1 1 1 1 1 1 1 1 1 1 1 1 1 1 1 1 1 1 1 1 1 1 1 1\n",
      " 1 1 1 1 1 1 1 1 1 1 1 1 1 1 1 1 1 1 1 1 1 1 1 1 1 1 1 1 1 1 1 1 1 1 1 1 1\n",
      " 1 1 1 1 1 1 1 1 1 1 1 1 1 1 1 1 1 1 1 1 1 1 1 1 1 1 1 1 1 1 1 1 1 1 1 1 1\n",
      " 1 1 1 1 1 1 1 1 1 1 1 1 1 1 1 1 1 1 1 1 1 1 1 1 1 1 1 1 1 1 1 1 1 1 1 1 1\n",
      " 1 1 1 1 1 1 1 1 1 1 1 1 1 1 1 1 1 1 1 1 1 1 1 1 1 1 1 1 1 1 1 1 1 1 1 1 1\n",
      " 1 1 1 1 1 1 1 1 1 1 1 1 1 1 1 1 1 1 1 1 1 1 1 1 1 1 1 1 1 1 1 1 1 1 1 1 1\n",
      " 1 1 1 1 1 1 1 1 1 1 1 1 1 1 1 1 1 1 1 1 1 1 1 1]\n",
      "=======逻辑回归预测2=========\n",
      " 0.9601250977326036\n",
      "=======逻辑回归测试准确率=========\n",
      " 0.965625\n",
      "随机森林预测1\n",
      " [1 1 1 ... 1 1 1]\n",
      "=======随机森林预测2=========\n",
      " [1 1 1 1 1 1 1 1 1 1 1 1 1 1 1 1 1 1 1 1 1 1 1 1 1 1 1 1 1 1 1 1 1 1 1 1 1\n",
      " 1 1 1 1 1 1 1 1 1 1 1 1 1 1 1 1 1 1 1 1 1 1 1 1 1 1 1 1 1 1 1 1 1 1 1 1 1\n",
      " 1 1 1 1 1 1 1 1 1 1 1 1 1 0 1 1 1 1 1 1 1 1 1 1 1 1 1 1 1 1 1 1 1 1 1 1 1\n",
      " 1 1 1 1 1 0 1 1 1 1 1 1 1 1 1 1 1 1 1 1 1 1 1 1 1 0 1 1 1 1 1 1 1 1 1 1 1\n",
      " 1 1 1 1 1 1 1 1 1 1 1 1 1 1 1 1 1 1 1 1 1 1 1 1 1 1 1 1 1 1 1 1 1 1 1 1 1\n",
      " 1 1 1 1 1 1 1 1 1 1 1 1 1 1 1 1 1 1 1 1 1 1 1 1 1 1 1 1 1 1 1 1 1 1 1 1 1\n",
      " 1 1 1 1 1 1 1 1 1 1 1 1 1 1 1 1 1 1 1 1 1 1 1 1 1 1 1 1 1 1 1 1 1 1 1 1 1\n",
      " 1 1 1 1 1 1 1 1 1 1 1 1 1 1 1 1 1 1 1 1 1 1 1 1 1 1 1 1 1 1 1 1 1 1 1 1 1\n",
      " 1 1 1 1 1 1 1 1 1 1 1 1 1 1 1 1 1 1 1 1 1 1 1 1]\n",
      "随机森林训练准确率 1.0\n",
      "随机森林训练准确率 0.9625\n"
     ]
    }
   ],
   "execution_count": 48,
   "source": [
    "from sklearn.ensemble import RandomForestClassifier\n",
    "import  pandas as pd\n",
    "import numpy as py\n",
    "from sklearn.preprocessing import StandardScaler\n",
    "from sklearn.linear_model import LogisticRegression\n",
    "from sklearn.pipeline import make_pipeline\n",
    "from sklearn.datasets import load_iris\n",
    "from sklearn.model_selection import train_test_split, GridSearchCV\n",
    "from sklearn.metrics import accuracy_score, precision_score, recall_score, f1_score, roc_curve\n",
    "\n",
    "a1=pd.read_csv(\"E:///python代码/lx-yk/data-yk/yk1/winequality-red.csv\",sep=\",\")\n",
    "# 1）查看前5行（2分）\n",
    "print(a1.head())\n",
    "# 2）查看数据信息（2分）\n",
    "print(\"查看数据信息\\n\",a1.info)\n",
    "# 3）查看基本统计信息（2分）\n",
    "print(\"查看基本统计信息\\n\",a1.describe())\n",
    "# 4）查看数据的行数和列数（2分）\n",
    "print(\"查看数据的行数和列数\\n\",a1.shape)\n",
    "# # 2、自主划分训练集、验证集或测试集(2分)\n",
    "x=a1.drop('quality',axis=1)\n",
    "y=a1['quality']\n",
    "y=py.where(y>4,1,0)\n",
    "X_train, X_test, y_train, y_test = train_test_split(x, y,test_size=0.2, random_state=50)\n",
    "# 3、自主选择两种算法进行数据建模。（2分）\n",
    "# ---------------------逻辑回归------------分类的---------\n",
    "lr=LogisticRegression(penalty='l2',fit_intercept=True,C=1.0,max_iter=1000)\n",
    "lr.fit(X_train, y_train)\n",
    "#---------------------随机森林-------------分类的---------\n",
    "from sklearn.datasets import load_iris\n",
    "from sklearn.tree import DecisionTreeClassifier\n",
    "tree=RandomForestClassifier(max_depth=1000)\n",
    "tree.fit(X_train, y_train)\n",
    "# 4、在训练集和测试集上测试该模型的准确性，并展示出该模型的训练准确率和测试准确率（5分）\n",
    "# ---------------------逻辑回归------------准确性---------\n",
    "yc_lr1=lr.predict(X_train)\n",
    "zq_lr1=accuracy_score(yc_lr1,y_train)\n",
    "print(\"=======逻辑回归预测1=========\\n\",yc_lr1)\n",
    "yc_lr2=lr.predict(X_test)\n",
    "zq_lr2=accuracy_score(yc_lr2,y_test)\n",
    "print(\"=======逻辑回归训练准确率=========\\n\",yc_lr2)\n",
    "print(\"=======逻辑回归预测2=========\\n\",zq_lr1)\n",
    "print(\"=======逻辑回归测试准确率=========\\n\",zq_lr2)\n",
    "\n",
    "#---------------------随机森林-------------准确性---------\n",
    "yc_tree1=tree.predict(X_train)\n",
    "yc_tree2=tree.predict(X_test)\n",
    "zq_tree1=accuracy_score(yc_tree1,y_train)\n",
    "zq_tree2=accuracy_score(yc_tree2,y_test)\n",
    "print(\"随机森林预测1\\n\",yc_tree1)\n",
    "print(\"=======随机森林预测2=========\\n\",yc_tree2)\n",
    "print(\"随机森林训练准确率\",zq_tree1)\n",
    "print(\"随机森林训练准确率\",zq_tree2)"
   ],
   "id": "initial_id"
  },
  {
   "metadata": {
    "ExecuteTime": {
     "end_time": "2024-09-27T07:37:48.630365Z",
     "start_time": "2024-09-27T07:37:44.632611Z"
    }
   },
   "cell_type": "code",
   "source": [
    "\n",
    "# 5、使用K折交叉验证进行参数调优，直到获得最优模型（5分）\n",
    "#K折交叉验证\n",
    "from sklearn.model_selection import KFold\n",
    "kf = KFold(n_splits=5, shuffle=True, random_state=42)\n",
    "# 逻辑回归 的网络参数\n",
    "lj_cs={'fit_intercept':[True, False],'C': [0.01, 0.1, 1.0, 10.0],'max_iter':[1000,1500,2000]}\n",
    "# 对逻辑回归进行参数调优\n",
    "ljt=GridSearchCV(estimator=lr,param_grid=lj_cs,cv=kf,scoring='accuracy')\n",
    "ljt.fit(X_train,y_train)# 拟合模型\n",
    "o1=ljt.score(X_train,y_train)\n",
    "lj_ty=ljt.best_estimator_\n",
    "print(\"逻辑回归进行参数调优\\n\",lj_ty)\n",
    "print(o1)"
   ],
   "id": "7636de61f87f196d",
   "outputs": [
    {
     "name": "stdout",
     "output_type": "stream",
     "text": [
      "逻辑回归进行参数调优\n",
      " LogisticRegression(C=10.0, fit_intercept=False, max_iter=1000)\n",
      "0.9609069585613761\n"
     ]
    }
   ],
   "execution_count": 46
  },
  {
   "metadata": {
    "ExecuteTime": {
     "end_time": "2024-09-27T07:37:44.631609Z",
     "start_time": "2024-09-27T07:37:26.164439Z"
    }
   },
   "cell_type": "code",
   "source": [
    "# 随机森林 的网络参数\n",
    "sj_cs={'n_estimators':[100,200],'min_samples_split':[2,3,4],'max_depth':[5,10,20]}\n",
    "# 对随机森林进行参数调优\n",
    "sjt=GridSearchCV(estimator=tree,param_grid=sj_cs,cv=kf,scoring='accuracy')\n",
    "sjt.fit(X_train,y_train)\n",
    "sjt.score(X_train,y_train)\n",
    "o2=sjt.score(X_train,y_train)\n",
    "sj_ty=sjt.best_estimator_\n",
    "print(\"随机森林进行参数调优\\n\",sj_ty)\n",
    "print(o2)"
   ],
   "id": "d838603aa6b634fd",
   "outputs": [
    {
     "name": "stdout",
     "output_type": "stream",
     "text": [
      "随机森林进行参数调优\n",
      " RandomForestClassifier(max_depth=10)\n",
      "0.9898358092259578\n"
     ]
    }
   ],
   "execution_count": 45
  },
  {
   "metadata": {
    "ExecuteTime": {
     "end_time": "2024-09-27T07:53:45.779520Z",
     "start_time": "2024-09-27T07:53:45.724385Z"
    }
   },
   "cell_type": "code",
   "source": [
    "# 6、模型评估：使用你认为合适的指标评估模型。（至少两种）（5分）\n",
    "# 对逻辑回归进预测\n",
    "ljy=ljt.predict(X_test)\n",
    "lr_accuracy = accuracy_score(y_test, ljy)\n",
    "lr_precision = precision_score(y_test, ljy)\n",
    "lr_recall = recall_score(y_test, ljy)\n",
    "lr_f1 = f1_score(y_test, ljy)\n",
    "print(\"逻辑回归准确率：\", lr_accuracy)\n",
    "print(\"逻辑回归精确率：\", lr_precision)\n",
    "print(\"逻辑回归召回率：\", lr_recall)\n",
    "print(\"逻辑回归 F1 分数：\", lr_f1)\n",
    "# 对随机森林进预测\n",
    "sjy=sjt.predict(X_test)\n",
    "tree_accuracy = accuracy_score(y_test, sjy)\n",
    "tree_precision = precision_score(y_test, sjy)\n",
    "tree_recall = recall_score(y_test, sjy)\n",
    "tree_f1 = f1_score(y_test, sjy)\n",
    "\n",
    "print(\"随机森林准确率：\", tree_accuracy)\n",
    "print(\"随机森林精确率：\", tree_precision)\n",
    "print(\"随机森林召回率：\", tree_recall)\n",
    "print(\"随机森林 F1 分数：\", tree_f1)"
   ],
   "id": "f42e42f8fc5cfc19",
   "outputs": [
    {
     "name": "stdout",
     "output_type": "stream",
     "text": [
      "逻辑回归准确率： 0.9625\n",
      "逻辑回归精确率： 0.9684542586750788\n",
      "逻辑回归召回率： 0.9935275080906149\n",
      "逻辑回归 F1 分数： 0.9808306709265175\n",
      "随机森林准确率： 0.9625\n",
      "随机森林精确率： 0.9684542586750788\n",
      "随机森林召回率： 0.9935275080906149\n",
      "随机森林 F1 分数： 0.9808306709265175\n"
     ]
    }
   ],
   "execution_count": 47
  },
  {
   "metadata": {
    "ExecuteTime": {
     "end_time": "2024-09-27T07:32:18.141054Z",
     "start_time": "2024-09-27T07:32:18.043052Z"
    }
   },
   "cell_type": "code",
   "source": [
    "from sklearn.metrics import auc, RocCurveDisplay\n",
    "# 7、绘制出模型的AUC曲线下面积，并输出最优模型的权重系数，并对样本进行预测。（8分）\n",
    "#逻辑回归的AUC值\n",
    "# t7=lr.predict_proba(X_test)[:,1]\n",
    "fpr, tpr, thresholds = roc_curve(y_test, ljy)\n",
    "t7=auc(fpr, tpr)\n",
    "display=RocCurveDisplay(fpr=fpr, tpr=tpr, roc_auc=t7, estimator_name='example estimator')\n",
    "import matplotlib.pyplot as plt\n",
    "import numpy as np\n",
    "plt.rcParams['font.sans-serif']=['Simhei']\n",
    "plt.rcParams['axes.unicode_minus']=False\n",
    "display.plot()\n",
    "plt.show()\n"
   ],
   "id": "1ce8d3a4300b9e6",
   "outputs": [
    {
     "data": {
      "text/plain": [
       "<Figure size 640x480 with 1 Axes>"
      ],
      "image/png": "[encoded data removed]"
     },
     "metadata": {},
     "output_type": "display_data"
    }
   ],
   "execution_count": 38
  },
  {
   "metadata": {
    "ExecuteTime": {
     "end_time": "2024-09-27T07:34:15.773400Z",
     "start_time": "2024-09-27T07:34:15.700648Z"
    }
   },
   "cell_type": "code",
   "source": [
    "fpr, tpr, thresholds = roc_curve(y_test, sjy)\n",
    "t7_0=auc(fpr, tpr)\n",
    "display=RocCurveDisplay(fpr=fpr, tpr=tpr, roc_auc=t7_0, estimator_name='example estimator')\n",
    "import matplotlib.pyplot as plt\n",
    "import numpy as np\n",
    "plt.rcParams['font.sans-serif']=['Simhei']\n",
    "plt.rcParams['axes.unicode_minus']=False\n",
    "display.plot()\n",
    "plt.show()\n"
   ],
   "id": "a167aba83a2e8114",
   "outputs": [
    {
     "data": {
      "text/plain": [
       "<Figure size 640x480 with 1 Axes>"
      ],
      "image/png": "[encoded data removed]"
     },
     "metadata": {},
     "output_type": "display_data"
    }
   ],
   "execution_count": 41
  },
  {
   "metadata": {
    "ExecuteTime": {
     "end_time": "2024-09-27T07:54:00.148284Z",
     "start_time": "2024-09-27T07:54:00.138575Z"
    }
   },
   "cell_type": "code",
   "source": [
    "#逻辑回归\n",
    "t7_1=ljt.best_estimator_\n",
    "t7_1.coef_#系数"
   ],
   "id": "745a0a3b191f1871",
   "outputs": [
    {
     "data": {
      "text/plain": [
       "array([[ 0.16196911, -5.05762746, -1.67345894, -0.22357707, -1.65163559,\n",
       "         0.02358716,  0.01717813,  2.46568773, -0.84886218,  0.89720827,\n",
       "         0.4655034 ]])"
      ]
     },
     "execution_count": 49,
     "metadata": {},
     "output_type": "execute_result"
    }
   ],
   "execution_count": 49
  },
  {
   "metadata": {
    "ExecuteTime": {
     "end_time": "2024-09-27T07:54:01.909143Z",
     "start_time": "2024-09-27T07:54:01.898793Z"
    }
   },
   "cell_type": "code",
   "source": [
    "#随机森林\n",
    "t7_2=sjt.best_estimator_\n",
    "t7_2.feature_importances_"
   ],
   "id": "3050ef5a2f2e4530",
   "outputs": [
    {
     "data": {
      "text/plain": [
       "array([0.09264532, 0.19049007, 0.06635584, 0.08515369, 0.0797017 ,\n",
       "       0.05553874, 0.08837655, 0.06711423, 0.08740488, 0.09641433,\n",
       "       0.09080464])"
      ]
     },
     "execution_count": 50,
     "metadata": {},
     "output_type": "execute_result"
    }
   ],
   "execution_count": 50
  }
 ],
 "metadata": {
  "kernelspec": {
   "display_name": "Python 3",
   "language": "python",
   "name": "python3"
  },
  "language_info": {
   "codemirror_mode": {
    "name": "ipython",
    "version": 2
   },
   "file_extension": ".py",
   "mimetype": "text/x-python",
   "name": "python",
   "nbconvert_exporter": "python",
   "pygments_lexer": "ipython2",
   "version": "2.7.6"
  }
 },
 "nbformat": 4,
 "nbformat_minor": 5
}
