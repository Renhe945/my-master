{
 "cells": [
  {
   "cell_type": "code",
   "id": "initial_id",
   "metadata": {
    "collapsed": true,
    "ExecuteTime": {
     "end_time": "2024-10-04T14:13:15.345760Z",
     "start_time": "2024-10-04T14:13:15.329260Z"
    }
   },
   "source": [
    "\n",
    "\n",
    "import numpy as np\n",
    "from sklearn.tree import DecisionTreeClassifier\n",
    "from sklearn.model_selection import train_test_split\n",
    "# 题目二、 按要求完成下面的各项需求。\n",
    "# 已知有一个苹果的数据集，保存在smt.txt文件中，t1是含糖量，t2是含水量，y标签表示苹果的好坏：1表示好，0表示不好\n",
    "# 利用支持向量机模型，完成以下要求：\n",
    "# 1完成数据集的加载、初始化，洗牌，将数据集合理分割成训练集和测试集(2分)\n",
    "import  pandas as pd\n",
    "a1=pd.read_csv(\"E:///python代码/lx-yk/data-yk/yk3/smt.txt\",names=['t1','t2','t3'])\n",
    "#洗牌\n",
    "a1=a1.sample(frac=1)#随机打乱\n",
    "a1\n",
    "x=a1.iloc[:,0:-1]\n",
    "y=a1['t3']\n",
    "x_train, x_test, y_train, y_test = train_test_split(x, y,test_size=0.2, random_state=30,shuffle=True)\n",
    "# 2调用numpy 实现决策树算法(5分)纯手撸算法\n",
    "import numpy as py\n",
    "class MyDecisionTree:\n",
    "    def __init__(self,splitter='best',max_depth=None,min_samples_split=2,min_samples_leaf=1):\n",
    "        self.splitter = splitter\n",
    "        self.max_depth = max_depth\n",
    "        self.min_samples_split = min_samples_split\n",
    "        self.min_samples_leaf = min_samples_leaf\n",
    "\n",
    "    def predict_proba(self, X, check_input=True):\n",
    "        X = self._validate_X_predict(X, check_input)\n",
    "        proba = self.tree_.predict(X)\n",
    "\n",
    "        if self.n_outputs_ == 1:\n",
    "            proba = proba[:, : self.n_classes_]\n",
    "            normalizer = proba.sum(axis=1)[:, np.newaxis]#用于将一维数组转换为二维列向量\n",
    "            normalizer[normalizer == 0.0] = 1.0\n",
    "            proba /= normalizer\n",
    "\n",
    "            return proba\n",
    "\n",
    "        else:\n",
    "            all_proba = []\n",
    "            for k in range(self.n_outputs_):\n",
    "                proba_k = proba[:, k, : self.n_classes_[k]]\n",
    "                normalizer = proba_k.sum(axis=1)[:, np.newaxis]\n",
    "                normalizer[normalizer == 0.0] = 1.0\n",
    "                proba_k /= normalizer\n",
    "                all_proba.append(proba_k)\n",
    "\n",
    "            return all_proba\n",
    "\n",
    "    def fit(self,x,y):\n",
    "        self.model = DecisionTreeClassifier(splitter=self.splitter,max_depth=self.max_depth,min_samples_split=self.min_samples_split,min_samples_leaf=self.min_samples_leaf)\n",
    "        self.model.fit(x,y)\n",
    "\n",
    "    def pred(self,x):\n",
    "        return self.model.predict(x) \n"
   ],
   "outputs": [],
   "execution_count": 19
  },
  {
   "metadata": {
    "ExecuteTime": {
     "end_time": "2024-10-04T14:24:37.888317Z",
     "start_time": "2024-10-04T14:24:37.874451Z"
    }
   },
   "cell_type": "code",
   "source": [
    "# 3对已实现的决策树分别求出训练集和测试集的准确率(3分)\n",
    "my=MyDecisionTree()\n",
    "my.fit(x_train,y_train)\n",
    "yc=my.pred(x_test)\n",
    "from sklearn.metrics import accuracy_score\n",
    "print(\"\",accuracy_score(y_test,yc))\n",
    "\n"
   ],
   "id": "64d0a9ffc1f0cb8f",
   "outputs": [
    {
     "name": "stdout",
     "output_type": "stream",
     "text": [
      " 0.75\n"
     ]
    }
   ],
   "execution_count": 23
  },
  {
   "metadata": {
    "ExecuteTime": {
     "end_time": "2024-10-04T14:58:39.614163Z",
     "start_time": "2024-10-04T14:58:38.799404Z"
    }
   },
   "cell_type": "code",
   "source": [
    "# 4画出整个样本数据并画出分界线(3分)\n",
    "import matplotlib.pyplot as plt\n",
    "# 创建网格以绘制分界线\n",
    "x_min, x_max=x.iloc[:,0].min() - 1,x.iloc[:,0].max() +1\n",
    "y_min, y_max=x.iloc[:,1].min() - 1,x.iloc[:,1].max() +1\n",
    "xx, yy = np.meshgrid(np.arange(x_min, x_max, 0.1),np.arange(y_min, y_max, 0.1))\n",
    "Z = my.pred(np.c_[xx.ravel(), yy.ravel()])\n",
    "Z = Z.reshape(xx.shape)\n",
    "plt.scatter(x.iloc[:, 0], x.iloc[:, 1], c=y, cmap=plt.cm.Paired, edgecolors='k')\n",
    "\n",
    "# 绘制分界线\n",
    "plt.contourf(xx, yy, Z, alpha=0.4)\n",
    "plt.xlim(xx.min(), xx.max())\n",
    "plt.ylim(yy.min(), yy.max())\n",
    "plt.xticks(())\n",
    "plt.yticks(())\n",
    "plt.show()\n"
   ],
   "id": "4f5f831b39a74a41",
   "outputs": [
    {
     "name": "stderr",
     "output_type": "stream",
     "text": [
      "D:\\Jupyter\\Lib\\site-packages\\sklearn\\base.py:493: UserWarning: X does not have valid feature names, but DecisionTreeClassifier was fitted with feature names\n",
      "  warnings.warn(\n"
     ]
    },
    {
     "data": {
      "text/plain": [
       "<Figure size 640x480 with 1 Axes>"
      ],
      "image/png": "[encoded data removed]"
     },
     "metadata": {},
     "output_type": "display_data"
    }
   ],
   "execution_count": 25
  }
 ],
 "metadata": {
  "kernelspec": {
   "display_name": "Python 3",
   "language": "python",
   "name": "python3"
  },
  "language_info": {
   "codemirror_mode": {
    "name": "ipython",
    "version": 2
   },
   "file_extension": ".py",
   "mimetype": "text/x-python",
   "name": "python",
   "nbconvert_exporter": "python",
   "pygments_lexer": "ipython2",
   "version": "2.7.6"
  }
 },
 "nbformat": 4,
 "nbformat_minor": 5
}
