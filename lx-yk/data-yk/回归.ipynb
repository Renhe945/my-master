{
 "cells": [
  {
   "cell_type": "code",
   "id": "initial_id",
   "metadata": {
    "collapsed": true,
    "ExecuteTime": {
     "end_time": "2024-10-09T08:57:21.418939Z",
     "start_time": "2024-10-09T08:57:20.649941Z"
    }
   },
   "source": [
    "import pandas as pd\n",
    "import numpy as np\n",
    "\n",
    "#读取数据\n",
    "a1=pd.read_excel('E:\\\\python代码\\\\lx-yk\\\\data-yk\\\\yk6\\信用评分卡模型.xlsx')\n",
    "print(a1)"
   ],
   "outputs": [
    {
     "name": "stdout",
     "output_type": "stream",
     "text": [
      "       月收入  年龄  性别  历史授信额度  历史违约次数  信用评分\n",
      "0     7783  29   0   32274       3    73\n",
      "1     7836  40   1    6681       4    72\n",
      "2     6398  25   0   26038       2    74\n",
      "3     6483  23   1   24584       4    65\n",
      "4     5167  23   1    6710       3    73\n",
      "..     ...  ..  ..     ...     ...   ...\n",
      "995  12873  52   1   58190       2    87\n",
      "996  11478  36   0   95688       1    81\n",
      "997  14105  45   1   76221       2    89\n",
      "998  11914  37   1   39906       2    83\n",
      "999  14467  45   0   84052       2    83\n",
      "\n",
      "[1000 rows x 6 columns]\n"
     ]
    }
   ],
   "execution_count": 1
  }
 ],
 "metadata": {
  "kernelspec": {
   "display_name": "Python 3",
   "language": "python",
   "name": "python3"
  },
  "language_info": {
   "codemirror_mode": {
    "name": "ipython",
    "version": 2
   },
   "file_extension": ".py",
   "mimetype": "text/x-python",
   "name": "python",
   "nbconvert_exporter": "python",
   "pygments_lexer": "ipython2",
   "version": "2.7.6"
  }
 },
 "nbformat": 4,
 "nbformat_minor": 5
}
