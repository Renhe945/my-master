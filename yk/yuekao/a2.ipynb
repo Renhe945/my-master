{
 "cells": [
  {
   "cell_type": "code",
   "execution_count": null,
   "id": "initial_id",
   "metadata": {
    "collapsed": true
   },
   "outputs": [],
   "source": [
    ""
   ]
  },
  {
   "metadata": {
    "ExecuteTime": {
     "end_time": "2024-10-11T05:27:38.519599Z",
     "start_time": "2024-10-11T05:27:38.496773Z"
    }
   },
   "cell_type": "code",
   "source": [
    "from sklearn.preprocessing import LabelEncoder\n",
    "from sklearn.metrics import accuracy_score, precision_score, recall_score\n",
    "from sklearn.model_selection import train_test_split, GridSearchCV\n",
    "# 、成人自闭症数据统计分析。（28分）\n",
    "#  AdultAutism.csv是成人自闭症数据集，根据数据进行分析。目标列“class”\n",
    "\n",
    "import pandas as pd\n",
    "import numpy as py\n",
    "a1=pd.read_csv('E:\\\\python代码\\\\yk\\\\yuekao\\\\AdultAutism.csv')\n",
    "# 1、读取数据：AdultAutism.csv，并查看数据信息。(2分)\n",
    "print(\"读取数据\",a1)\n",
    "print('查看数据信息\\n',a1.info)\n",
    "# 2、删除掉数据集中重复的数据。(2分)\n",
    "a1.duplicated().any()\n",
    "#删除重复值\n",
    "a1=a1.drop_duplicates()\n",
    "a1.duplicated().any()\n",
    "print(\"删除掉数据集中重复的数据。后\\n\",a1)\n",
    "# 3、将缺失的“age”字段的值，填充为该字段的众数。(3分)\n",
    "print('题3')\n",
    "a1=pd.DataFrame(a1).dropna()\n",
    "a1['age'].isnull().any()\n",
    "\n",
    "\n"
   ],
   "id": "4440be81a13339dc",
   "outputs": [
    {
     "name": "stdout",
     "output_type": "stream",
     "text": [
      "读取数据      A1_Score  A2_Score  A3_Score  A4_Score  A5_Score  A6_Score  A7_Score  \\\n",
      "0           1         1         1         1         0         0         1   \n",
      "1           1         1         0         1         0         0         0   \n",
      "2           1         1         0         1         1         0         1   \n",
      "3           1         1         0         1         0         0         1   \n",
      "4           1         0         0         0         0         0         0   \n",
      "..        ...       ...       ...       ...       ...       ...       ...   \n",
      "707         1         0         1         1         1         0         1   \n",
      "708         1         0         1         0         0         0         0   \n",
      "709         1         0         0         0         0         0         1   \n",
      "710         1         1         0         1         0         0         1   \n",
      "711         1         0         0         0         0         0         1   \n",
      "\n",
      "     A8_Score  A9_Score  A10_Score  ...  gender          ethnicity jaundice  \\\n",
      "0           1         0          0  ...       f     White-European       no   \n",
      "1           1         0          1  ...       m             Latino       no   \n",
      "2           1         1          1  ...       m             Latino      yes   \n",
      "3           1         0          1  ...       f     White-European       no   \n",
      "4           1         0          0  ...       f                  ?       no   \n",
      "..        ...       ...        ...  ...     ...                ...      ...   \n",
      "707         1         0          1  ...       f  'Middle Eastern '       no   \n",
      "708         0         0          0  ...       f  'Middle Eastern '       no   \n",
      "709         1         0          1  ...       m  'Middle Eastern '      yes   \n",
      "710         1         0          0  ...       m  'Middle Eastern '       no   \n",
      "711         0         1          1  ...       f  'Middle Eastern '       no   \n",
      "\n",
      "    family_pdd          country_of_res used_app_before result       age_desc  \\\n",
      "0           no         'United States'              no      6  '18 and more'   \n",
      "1          yes                  Brazil              no      5  '18 and more'   \n",
      "2          yes                   Spain              no      8  '18 and more'   \n",
      "3          yes         'United States'              no      6  '18 and more'   \n",
      "4           no                   Egypt              no      2  '18 and more'   \n",
      "..         ...                     ...             ...    ...            ...   \n",
      "707         no  'United Arab Emirates'              no      7  '18 and more'   \n",
      "708         no  'United Arab Emirates'              no      2  '18 and more'   \n",
      "709         no  'United Arab Emirates'              no      4  '18 and more'   \n",
      "710         no  'United Arab Emirates'              no      5  '18 and more'   \n",
      "711         no  'United Arab Emirates'              no      4  '18 and more'   \n",
      "\n",
      "    relation class  \n",
      "0       Self    NO  \n",
      "1       Self    NO  \n",
      "2     Parent   YES  \n",
      "3       Self    NO  \n",
      "4          ?    NO  \n",
      "..       ...   ...  \n",
      "707     Self   YES  \n",
      "708     Self    NO  \n",
      "709     Self    NO  \n",
      "710     Self    NO  \n",
      "711     Self    NO  \n",
      "\n",
      "[712 rows x 21 columns]\n",
      "查看数据信息\n",
      " <bound method DataFrame.info of      A1_Score  A2_Score  A3_Score  A4_Score  A5_Score  A6_Score  A7_Score  \\\n",
      "0           1         1         1         1         0         0         1   \n",
      "1           1         1         0         1         0         0         0   \n",
      "2           1         1         0         1         1         0         1   \n",
      "3           1         1         0         1         0         0         1   \n",
      "4           1         0         0         0         0         0         0   \n",
      "..        ...       ...       ...       ...       ...       ...       ...   \n",
      "707         1         0         1         1         1         0         1   \n",
      "708         1         0         1         0         0         0         0   \n",
      "709         1         0         0         0         0         0         1   \n",
      "710         1         1         0         1         0         0         1   \n",
      "711         1         0         0         0         0         0         1   \n",
      "\n",
      "     A8_Score  A9_Score  A10_Score  ...  gender          ethnicity jaundice  \\\n",
      "0           1         0          0  ...       f     White-European       no   \n",
      "1           1         0          1  ...       m             Latino       no   \n",
      "2           1         1          1  ...       m             Latino      yes   \n",
      "3           1         0          1  ...       f     White-European       no   \n",
      "4           1         0          0  ...       f                  ?       no   \n",
      "..        ...       ...        ...  ...     ...                ...      ...   \n",
      "707         1         0          1  ...       f  'Middle Eastern '       no   \n",
      "708         0         0          0  ...       f  'Middle Eastern '       no   \n",
      "709         1         0          1  ...       m  'Middle Eastern '      yes   \n",
      "710         1         0          0  ...       m  'Middle Eastern '       no   \n",
      "711         0         1          1  ...       f  'Middle Eastern '       no   \n",
      "\n",
      "    family_pdd          country_of_res used_app_before result       age_desc  \\\n",
      "0           no         'United States'              no      6  '18 and more'   \n",
      "1          yes                  Brazil              no      5  '18 and more'   \n",
      "2          yes                   Spain              no      8  '18 and more'   \n",
      "3          yes         'United States'              no      6  '18 and more'   \n",
      "4           no                   Egypt              no      2  '18 and more'   \n",
      "..         ...                     ...             ...    ...            ...   \n",
      "707         no  'United Arab Emirates'              no      7  '18 and more'   \n",
      "708         no  'United Arab Emirates'              no      2  '18 and more'   \n",
      "709         no  'United Arab Emirates'              no      4  '18 and more'   \n",
      "710         no  'United Arab Emirates'              no      5  '18 and more'   \n",
      "711         no  'United Arab Emirates'              no      4  '18 and more'   \n",
      "\n",
      "    relation class  \n",
      "0       Self    NO  \n",
      "1       Self    NO  \n",
      "2     Parent   YES  \n",
      "3       Self    NO  \n",
      "4          ?    NO  \n",
      "..       ...   ...  \n",
      "707     Self   YES  \n",
      "708     Self    NO  \n",
      "709     Self    NO  \n",
      "710     Self    NO  \n",
      "711     Self    NO  \n",
      "\n",
      "[712 rows x 21 columns]>\n",
      "删除掉数据集中重复的数据。后\n",
      "      A1_Score  A2_Score  A3_Score  A4_Score  A5_Score  A6_Score  A7_Score  \\\n",
      "0           1         1         1         1         0         0         1   \n",
      "1           1         1         0         1         0         0         0   \n",
      "2           1         1         0         1         1         0         1   \n",
      "3           1         1         0         1         0         0         1   \n",
      "4           1         0         0         0         0         0         0   \n",
      "..        ...       ...       ...       ...       ...       ...       ...   \n",
      "699         0         1         0         1         1         0         1   \n",
      "700         1         0         0         0         0         0         0   \n",
      "701         1         0         1         1         1         0         1   \n",
      "702         1         0         0         1         1         0         1   \n",
      "703         1         0         1         1         1         0         1   \n",
      "\n",
      "     A8_Score  A9_Score  A10_Score  ...  gender       ethnicity jaundice  \\\n",
      "0           1         0          0  ...       f  White-European       no   \n",
      "1           1         0          1  ...       m          Latino       no   \n",
      "2           1         1          1  ...       m          Latino      yes   \n",
      "3           1         0          1  ...       f  White-European       no   \n",
      "4           1         0          0  ...       f               ?       no   \n",
      "..        ...       ...        ...  ...     ...             ...      ...   \n",
      "699         1         1          1  ...       f  White-European       no   \n",
      "700         1         0          1  ...       m        Hispanic       no   \n",
      "701         1         0          1  ...       f               ?       no   \n",
      "702         0         1          1  ...       m   'South Asian'       no   \n",
      "703         1         1          1  ...       f  White-European       no   \n",
      "\n",
      "    family_pdd   country_of_res used_app_before result       age_desc  \\\n",
      "0           no  'United States'              no      6  '18 and more'   \n",
      "1          yes           Brazil              no      5  '18 and more'   \n",
      "2          yes            Spain              no      8  '18 and more'   \n",
      "3          yes  'United States'              no      6  '18 and more'   \n",
      "4           no            Egypt              no      2  '18 and more'   \n",
      "..         ...              ...             ...    ...            ...   \n",
      "699         no           Russia              no      7  '18 and more'   \n",
      "700         no           Mexico              no      3  '18 and more'   \n",
      "701         no           Russia              no      7  '18 and more'   \n",
      "702         no         Pakistan              no      6  '18 and more'   \n",
      "703         no           Cyprus              no      8  '18 and more'   \n",
      "\n",
      "    relation class  \n",
      "0       Self    NO  \n",
      "1       Self    NO  \n",
      "2     Parent   YES  \n",
      "3       Self    NO  \n",
      "4          ?    NO  \n",
      "..       ...   ...  \n",
      "699     Self   YES  \n",
      "700   Parent    NO  \n",
      "701        ?   YES  \n",
      "702     Self    NO  \n",
      "703     Self   YES  \n",
      "\n",
      "[699 rows x 21 columns]\n",
      "题3\n"
     ]
    },
    {
     "data": {
      "text/plain": [
       "False"
      ]
     },
     "execution_count": 73,
     "metadata": {},
     "output_type": "execute_result"
    }
   ],
   "execution_count": 73
  },
  {
   "metadata": {
    "ExecuteTime": {
     "end_time": "2024-10-11T05:35:45.192851Z",
     "start_time": "2024-10-11T05:35:40.181957Z"
    }
   },
   "cell_type": "code",
   "source": [
    "# 4、将数据集拆分成7:3的训练集和测试集。(3分)\n",
    "x=a1[[\"A1_Score\",\"A2_Score\",\"A3_Score\",\"A4_Score\",\"A5_Score\",\"A6_Score\",\"A7_Score\",\"A8_Score\",\"A9_Score\",\"A10_Score\",\"age\"]]\n",
    "y=a1['class']\n",
    "y\n",
    "y=py.where(y=='NO',1,0)\n",
    "# y\n",
    "X_train, X_test, y_train, y_test = train_test_split(x, y,test_size=0.3, random_state=7)\n",
    "\n",
    "# 5、使用合适参数创建随机森林和xgboost模型。（3分)\n",
    "from sklearn.ensemble import RandomForestClassifier\n",
    "clf = RandomForestClassifier(n_estimators=100,max_depth=3,min_samples_split=3)\n",
    "clf.fit(X_train, y_train)\n",
    "yc_1 = clf.predict(X_test)\n",
    "\n",
    "\n",
    "\n",
    "\n",
    "from xgboost import XGBClassifier\n",
    "bst = XGBClassifier(n_estimators=2, max_depth=2, learning_rate=1)\n",
    "# fit model\n",
    "bst.fit(X_train, y_train)\n",
    "# make predictions\n",
    "yc_2 = bst.predict(X_test)\n",
    "\n",
    "# 6、使用网格搜索对2个算法进行参数调优，至少包含2个超参数。(3分)\n",
    "\n",
    "cs1={'max_depth':[3,4,5],'min_samples_split':[3,4,5]}\n",
    "cs2={'learning_rate':[1,2,3],'max_depth':[2,3,4]}\n",
    "sj_cv = GridSearchCV(clf, cs1)\n",
    "bst_cv = GridSearchCV(bst, cs2)\n",
    "\n",
    "\n",
    "# 7、训练并分别得到2个算法的最优模型。(3分)\n",
    "sj_cv.fit(X_train, y_train)\n",
    "t7_zy1=sj_cv.best_estimator_\n",
    "print('最优模型1',t7_zy1)\n",
    "\n",
    "bst_cv.fit(X_train, y_train)\n",
    "t7_zy2=bst_cv.best_estimator_\n",
    "print('最优模型2',t7_zy1)\n",
    "\n",
    "# 8、使用准确率、精确率和召回率等至少2种指标对上面的模型进行评估。(3分)\n",
    "t8_cy1=t7_zy1.predict(X_test)\n",
    "print(\"1准确率\",accuracy_score(y_test, t8_cy1))\n",
    "print(\"1精确率\",precision_score(y_test, t8_cy1))\n",
    "print(\"1召回率\",recall_score(y_test, t8_cy1))\n",
    "\n",
    "print(\"-------------------模型分割线-------------------\")\n",
    "t8_cy2=t7_zy2.predict(X_test)\n",
    "print(\"2准确率\",accuracy_score(y_test, t8_cy2))\n",
    "print(\"2精确率\",precision_score(y_test, t8_cy2))\n",
    "print(\"2召回率\",recall_score(y_test, t8_cy2))\n"
   ],
   "id": "fed918fd18f0c0f6",
   "outputs": [
    {
     "name": "stdout",
     "output_type": "stream",
     "text": [
      "最优模型1 RandomForestClassifier(max_depth=5, min_samples_split=3)\n",
      "最优模型2 RandomForestClassifier(max_depth=5, min_samples_split=3)\n",
      "1准确率 0.9665071770334929\n",
      "1精确率 0.9808917197452229\n",
      "1召回率 0.9746835443037974\n",
      "-------------------模型分割线-------------------\n",
      "2准确率 0.9473684210526315\n",
      "2精确率 0.9622641509433962\n",
      "2召回率 0.9683544303797469\n"
     ]
    }
   ],
   "execution_count": 75
  },
  {
   "metadata": {
    "ExecuteTime": {
     "end_time": "2024-10-11T03:48:13.511124Z",
     "start_time": "2024-10-11T03:48:13.427836Z"
    }
   },
   "cell_type": "code",
   "source": [
    "from sklearn.metrics import roc_curve, RocCurveDisplay, auc\n",
    "from matplotlib import pyplot as plt\n",
    "plt.rcParams['font.sans-serif'] = ['Simhei']\n",
    "plt.rcParams['axes.unicode_minus'] = False\n",
    "# # 9、画出ROC曲线评估2个最优模型。(3分)\n",
    "\n",
    "fpr, tpr, thresholds = roc_curve(y_test, t8_cy1)\n",
    "roc_auc = auc(fpr, tpr)\n",
    "display = RocCurveDisplay(fpr=fpr, tpr=tpr, roc_auc=roc_auc,estimator_name='随机森林')\n",
    "display.plot() \n",
    "plt.title(\"随机森林最优模型\")\n",
    "plt.show()"
   ],
   "id": "a1e2a4b81faba5ec",
   "outputs": [
    {
     "data": {
      "text/plain": [
       "<Figure size 640x480 with 1 Axes>"
      ],
      "image/png": "[encoded data removed]"
     },
     "metadata": {},
     "output_type": "display_data"
    }
   ],
   "execution_count": 45
  },
  {
   "metadata": {
    "ExecuteTime": {
     "end_time": "2024-10-11T03:48:59.031162Z",
     "start_time": "2024-10-11T03:48:58.943029Z"
    }
   },
   "cell_type": "code",
   "source": [
    "fpr1, tpr1, thresholds = roc_curve(y_test, t8_cy2)\n",
    "roc_auc1 = auc(fpr, tpr)\n",
    "display1 = RocCurveDisplay(fpr=fpr1, tpr=tpr1, roc_auc=roc_auc1,estimator_name='xgboost')\n",
    "display1.plot() \n",
    "plt.title(\"xgboost最优模型\")\n",
    "plt.show()"
   ],
   "id": "f6b04bed2c285a82",
   "outputs": [
    {
     "data": {
      "text/plain": [
       "<Figure size 640x480 with 1 Axes>"
      ],
      "image/png": "[encoded data removed]"
     },
     "metadata": {},
     "output_type": "display_data"
    }
   ],
   "execution_count": 47
  },
  {
   "metadata": {
    "ExecuteTime": {
     "end_time": "2024-10-11T03:56:14.294112Z",
     "start_time": "2024-10-11T03:56:14.287083Z"
    }
   },
   "cell_type": "code",
   "source": [
    "# 10、分别输出2个最优模型的特征重要性及测试数据的预测结果。(3分)\n",
    "t10_zy1=t7_zy1.feature_importances_\n",
    "print(\"最优模型特征重要性\\n\",t10_zy1)\n",
    "\n",
    "\n",
    "print('测试数据的预测结果。\\n',t8_cy1)\n",
    "\n",
    "print(\"-------------------------------------------------------------------------------\")\n",
    "t10_zy2=t7_zy2.feature_importances_\n",
    "print(\"最优模型特征重要性\\n\",t10_zy2)\n",
    "print('测试数据的预测结果。\\n',t8_cy2)\n",
    "\n",
    "\n"
   ],
   "id": "b67415ef301af3d",
   "outputs": [
    {
     "name": "stdout",
     "output_type": "stream",
     "text": [
      "最优模型特征重要性\n",
      " [0.05624606 0.02809898 0.05770842 0.10829969 0.16381783 0.12279708\n",
      " 0.0824242  0.04708428 0.26103653 0.04001498 0.03247194]\n",
      "测试数据的预测结果。\n",
      " [1 1 1 1 1 0 0 1 1 1 1 0 1 1 1 1 1 0 0 1 1 1 1 1 1 0 0 1 0 1 0 1 1 0 1 0 1\n",
      " 0 0 1 1 1 0 1 0 0 1 1 1 1 1 0 1 0 1 1 1 1 0 1 0 0 0 1 1 1 0 1 1 1 1 1 1 1\n",
      " 1 0 1 1 0 1 1 1 1 1 1 1 1 1 1 0 0 1 0 1 0 0 1 0 1 1 0 1 1 1 1 0 1 1 1 1 1\n",
      " 1 1 1 0 0 1 1 1 0 1 0 1 1 1 1 0 1 1 1 1 1 0 0 1 1 1 1 1 1 1 1 0 1 1 1 0 1\n",
      " 0 1 1 0 1 1 1 1 1 0 1 1 1 1 1 1 1 1 1 0 1 1 1 0 1 1 0 1 0 1 1 1 1 1 1 1 1\n",
      " 1 1 1 1 1 1 1 0 1 0 1 0 0 1 1 1 1 1 1 1 1 1 1 0 1]\n",
      "-------------------------------------------------------------------------------\n",
      "最优模型特征重要性\n",
      " [0.04807675 0.01035871 0.01830333 0.05471678 0.08136349 0.0573526\n",
      " 0.03228644 0.03372563 0.6586427  0.00517359 0.        ]\n",
      "测试数据的预测结果。\n",
      " [1 1 1 1 1 0 0 1 1 1 1 0 1 1 1 1 1 1 0 1 1 1 0 1 1 0 0 1 0 1 0 1 1 0 1 0 0\n",
      " 0 1 1 1 1 0 1 0 0 1 1 1 1 1 0 1 0 1 1 1 1 1 1 0 0 0 1 1 1 0 1 1 1 1 1 1 1\n",
      " 1 0 1 1 0 1 1 1 1 1 1 1 1 1 1 0 0 1 0 1 0 0 1 0 1 1 0 1 1 1 1 0 1 1 1 1 1\n",
      " 1 1 1 0 0 1 1 1 0 1 1 1 1 1 1 0 1 1 1 1 1 0 0 1 1 1 1 1 1 1 1 0 1 1 1 0 1\n",
      " 0 1 1 0 1 1 1 1 1 0 1 1 1 1 1 1 1 1 1 0 1 1 1 0 1 1 0 1 0 1 1 1 1 1 1 1 1\n",
      " 1 1 1 1 1 1 1 0 1 1 1 0 0 1 1 1 1 1 1 1 1 1 1 0 1]\n"
     ]
    }
   ],
   "execution_count": 53
  }
 ],
 "metadata": {
  "kernelspec": {
   "display_name": "Python 3",
   "language": "python",
   "name": "python3"
  },
  "language_info": {
   "codemirror_mode": {
    "name": "ipython",
    "version": 2
   },
   "file_extension": ".py",
   "mimetype": "text/x-python",
   "name": "python",
   "nbconvert_exporter": "python",
   "pygments_lexer": "ipython2",
   "version": "2.7.6"
  }
 },
 "nbformat": 4,
 "nbformat_minor": 5
}
