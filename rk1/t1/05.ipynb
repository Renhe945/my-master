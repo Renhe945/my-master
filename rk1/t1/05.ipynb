{
 "cells": [
  {
   "cell_type": "code",
   "id": "initial_id",
   "metadata": {
    "collapsed": true
   },
   "source": [
    "import  pandas as pa\n",
    "# 示例数据集（data.csv）：\n",
    "# 1. 使用Pandas读取\"data.csv\"文件。\n",
    "a1=pa.read_csv(\"E:///python代码/rk1/data/data.csv\")"
   ],
   "outputs": [],
   "execution_count": null
  },
  {
   "metadata": {},
   "cell_type": "code",
   "source": [
    "# 2. 查看数据集的前5行。\n",
    "print(a1.head())"
   ],
   "id": "d32b8c59627eadb3",
   "outputs": [],
   "execution_count": null
  },
  {
   "metadata": {},
   "cell_type": "code",
   "source": [
    "# 3. 使用平均值填充\"Age\"列中的缺失值。\n",
    "a3=a1['Age'].mean(skipna=True)\n",
    "a1['Age']=a1['Age'].fillna(a3)\n",
    "print(\"题3\",a1)"
   ],
   "id": "989873f653f32a79",
   "outputs": [],
   "execution_count": null
  },
  {
   "metadata": {},
   "cell_type": "code",
   "source": [
    "import numpy as np  \n",
    "# 4. 使用众数填充\"Salary\"列中的缺失值。\n",
    "from scipy.stats import mode\n",
    "# 假设 a1 是包含 'Salary' 列的 DataFrame 或 Series\n",
    "salary_result = mode(a1['Salary'].dropna())\n",
    "if isinstance(salary_result.mode, np.ndarray):\n",
    "    salary_mode = salary_result.mode[0]\n",
    "else:\n",
    "    salary_mode = salary_result.mode\n",
    "a1['Salary'] = a1['Salary'].fillna(salary_mode)\n",
    "print(a1)"
   ],
   "id": "99efd35ca614718f",
   "outputs": [],
   "execution_count": null
  },
  {
   "metadata": {},
   "cell_type": "code",
   "source": [
    "# 5. 将\"City\"列中的\"New York\"替换为\"NYC\"。\n",
    "a1['City'] = a1['City'].replace('New York', 'NYC')\n",
    "print(\"t5\",a1)"
   ],
   "id": "e7f3109a35f714b1",
   "outputs": [],
   "execution_count": null
  },
  {
   "metadata": {},
   "cell_type": "code",
   "source": [
    "# 6. 将\"City\"列中的\"London\"和\"Paris\"替换为\"Europe\"。\n",
    "a1['City'] = a1['City'].replace(['London', 'Paris'], 'Europe')\n",
    "print(\"t6\",a1)"
   ],
   "id": "aa87594b8d1392e3",
   "outputs": [],
   "execution_count": null
  },
  {
   "metadata": {},
   "cell_type": "code",
   "source": [
    "# 7. 根据\"Age\"列的值，将数据集中的样本分为三个年龄段：18-25岁、26-35岁和36-45岁。\n",
    "bins = [18, 26, 36, 46]\n",
    "labels = ['18-25', '26-35', '36-45']\n",
    "a1['Age Group'] = pa.cut(a1['Age'], bins=bins, labels=labels, right=False)\n",
    "print(\"t7\",a1)"
   ],
   "id": "4295ebce4a6ffe6f",
   "outputs": [],
   "execution_count": null
  },
  {
   "metadata": {},
   "cell_type": "code",
   "source": [
    "# 8. 将数据集按照\"Age Group\"和\"City\"列进行分组，并计算每个组的平均工资。\n",
    "grouped = a1.groupby(['Age Group', 'City'])['Salary'].mean().reset_index()\n",
    "print(\"t8\",grouped)"
   ],
   "id": "b4b4d785672d3d94",
   "outputs": [],
   "execution_count": null
  },
  {
   "metadata": {},
   "cell_type": "code",
   "source": [
    "# 9. 将\"Age\"列的数据类型转换为整型。\n",
    "a8=a1['Age'] = a1['Age'].astype(int)\n",
    "print(\"t9\",a8)"
   ],
   "id": "896156f1d83bcece",
   "outputs": [],
   "execution_count": null
  },
  {
   "metadata": {},
   "cell_type": "code",
   "source": [
    "# 10. 将数据集中的缺失值所在的行删除。\n",
    "df=a1.dropna(inplace=True)\n",
    "print(df)\n"
   ],
   "id": "ed4f8e9ae636721f",
   "outputs": [],
   "execution_count": null
  }
 ],
 "metadata": {
  "kernelspec": {
   "display_name": "Python 3",
   "language": "python",
   "name": "python3"
  },
  "language_info": {
   "codemirror_mode": {
    "name": "ipython",
    "version": 2
   },
   "file_extension": ".py",
   "mimetype": "text/x-python",
   "name": "python",
   "nbconvert_exporter": "python",
   "pygments_lexer": "ipython2",
   "version": "2.7.6"
  }
 },
 "nbformat": 4,
 "nbformat_minor": 5
}
