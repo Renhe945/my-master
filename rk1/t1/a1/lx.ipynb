{
 "cells": [
  {
   "cell_type": "code",
   "id": "initial_id",
   "metadata": {
    "collapsed": true
   },
   "source": [
    "#1.创建python文件,解决中文乱码问题（5）\n",
    "\n",
    "# -*- coding: utf-8 -*-\n",
    "\n",
    "# 2.定义一个多行注释，第一行内容是\"Python基础\" 第二行内容是\"Python简介\" 第三行内容是\"Python目录\"\n",
    "'''\n",
    "Python基础\n",
    "Python简介\n",
    "Python目录\n",
    "'''"
   ],
   "outputs": [],
   "execution_count": null
  },
  {
   "metadata": {},
   "cell_type": "code",
   "source": [
    "# 3.用户输入2个浮点数,都要求小数点后4位数字;2个数相加赋值给变量result01,要求result01保留2位小数;打印result01的值（5）\n",
    "a3=float(input(\"请输入第一个浮点数，保留四位小数： \\n\"))\n",
    "b3=float(input(\"请输入第二个浮点数，保留四位小数： \\n\"))\n",
    "result01=round(a3+b3,2)\n",
    "print(result01)\n"
   ],
   "id": "c04d30d2f02910e4",
   "outputs": [],
   "execution_count": null
  },
  {
   "metadata": {},
   "cell_type": "code",
   "source": [
    "# 4.创建3个字符串变量，分别赋值“祝愿伟大的”“祖国母亲”“节日快乐”，然后将它们连接起来，赋值给变量result02，并打印result02的内容（5）\n",
    "a4=\"祝愿伟大的\"\n",
    "b4=\"祖国母亲\"\n",
    "c4=\"节日快乐\"\n",
    "result02=a4+b4+c4\n",
    "print(\"题4:\",result02)\n",
    "# 5.从result02变量中提取 \"祖国母亲\" 部分，赋值给变量result03，打印result03的值（5）\n",
    "result03=result02[5:9]\n",
    "print(result03)\n",
    "# 6.将result03内容逆序打印出来（5）\n",
    "# print(\"题6\",''.join(reversed(result03)))\n",
    "print(\"题6\",result03[::-1])\n",
    "# 7.采用*运算符,将result03内容重复3遍并打印出来（5）\n",
    "print(\"题7\",result03*3)"
   ],
   "id": "87b8ebbe44df2144",
   "outputs": [],
   "execution_count": null
  },
  {
   "metadata": {},
   "cell_type": "code",
   "source": [
    "\n",
    "# 8.创建颜色名称列表colors，包含：红，橙红，橙，橙黄，黄，黄绿，绿，蓝绿，蓝，蓝紫，紫，紫红,使用循环遍历并打印出每个颜色,，要求每种颜色一行，显示格式是 序号 XXX 颜色名称 XXX（5） \n",
    "colors=[\"红\",\"橙红\",\"橙\",\"橙黄\",\"黄\",\"黄绿\",\"绿\",\"蓝绿\",\"蓝\",\"蓝紫\",\"紫\",\"紫红\"]\n",
    "for i, colors in enumerate(colors):\n",
    "    print(f\"序号 {i+1} 颜色名称 {colors}\")\n",
    "    \n"
   ],
   "id": "fdfad92653de92f2",
   "outputs": [],
   "execution_count": null
  },
  {
   "metadata": {},
   "cell_type": "code",
   "source": [
    "# 9.创建价格列表prices,用户输入5次价格，保存在prices中，打印每种价格和总价。（5） \n",
    "\n",
    "sum_price=0\n",
    "a9_1=float(input(\"用户输入1次价格: \"))\n",
    "a9_2=float(input(\"用户输入2次价格: \"))\n",
    "a9_3=float(input(\"用户输入3次价格: \"))\n",
    "a9_4=float(input(\"用户输入4次价格: \"))\n",
    "a9_5=float(input(\"用户输入5次价格: \"))\n",
    "prices=[a9_1,a9_2,a9_3,a9_4,a9_5]\n",
    "for i in prices:\n",
    "    print(f\"每种价格{i}:总价{sum(prices)}\")\n",
    "\n",
    "\n"
   ],
   "id": "a3f75800546b4042",
   "outputs": [],
   "execution_count": null
  },
  {
   "metadata": {},
   "cell_type": "code",
   "source": [
    "# 10.为了存储某个菜市场蔬菜种类，请创建蔬菜名称的元组greens，赋值6中蔬菜名称,采用索引器打印出倒数第3种蔬菜名称（5）\n",
    "greens=[\"菠菜\",\"白菜\",\"洋葱\",\"西红柿\",\"菜花\",\"油菜\"]\n",
    "print(greens[-3])\n",
    "# 11.请创建当日蔬菜数量的元组nums，计算元组中所有蔬菜数量的和，并打印结果（5） \n",
    "nums=(1,2,3,4,5,6)\n",
    "print(sum(nums))\n",
    "\n",
    "    \n",
    "\n",
    "\n"
   ],
   "id": "eedae57036feb8d1",
   "outputs": [],
   "execution_count": null
  },
  {
   "metadata": {},
   "cell_type": "code",
   "source": [
    "# 12.创建雇员字典employees,包含雇员编号、姓名、年龄、工龄，输入6条记录,编号从1开始,要包含至少2条刘姓雇员，打印employees每一位员工信息，格式为雇员编号:XXX  姓名:XXX年龄:XXX 工龄:XXX（5） \n",
    "employees={\n",
    "    1: {'姓名': '张三', '年龄': 30, '工龄': 5},\n",
    "    2: {'姓名': '李四', '年龄': 35, '工龄': 6},\n",
    "    3: {'姓名': '刘一', '年龄': 40, '工龄': 7},\n",
    "    4: {'姓名': '王五', '年龄': 45, '工龄': 8},\n",
    "    5: {'姓名': '刘二', '年龄': 50, '工龄': 9},\n",
    "    6: {'姓名': '赵六', '年龄': 55, '工龄': 10}\n",
    "}\n",
    "for key,value in employees.items() :\n",
    "    print(f\"雇员编号:{key} 姓名:{value['姓名']}年龄:{value['年龄']} 工龄:{value['工龄']}\")\n",
    "\n",
    "# 13.打印employees中所有姓刘的雇员信息，格式为雇员编号:XXX  姓名:XXX年龄:XXX 工龄:XXX（5） \n",
    "for i,name in employees.items():\n",
    "    if name['姓名'].startswith(\"刘\"):\n",
    "        print(\"13题\",f\"雇员编号:{i} 姓名:{name['姓名']}年龄:{name['年龄']} 工龄:{name['工龄']}\")\n",
    "# 14.打印employees中编号是奇数的雇员信息，格式为雇员编号:XXX  姓名:XXX年龄:XXX 工龄:XXX;并计算他们的平均年龄（5）\n",
    "c=0\n",
    "sum=0\n",
    "for i,name in employees.items():\n",
    "    if i%2!=0:\n",
    "       print(\"14题\",f\"雇员编号:{i} 姓名:{name['姓名']}年龄:{name['年龄']} 工龄:{name['工龄']}\") \n",
    "       c+=1\n",
    "       sum+=name['年龄']\n",
    "       \n",
    "print(\"平均年龄\",sum/c)"
   ],
   "id": "64c779c9b575dbc6",
   "outputs": [],
   "execution_count": null
  },
  {
   "metadata": {},
   "cell_type": "code",
   "source": "",
   "id": "55cc29ef38b03c7a",
   "outputs": [],
   "execution_count": null
  },
  {
   "metadata": {},
   "cell_type": "code",
   "source": [
    "# 15.用户输入矩形的长、宽，计算该矩形面积,打印该矩形的长、宽、面积（5）\n",
    "a15_1=float(input(\"用户输入矩形的长\"))\n",
    "a15_2=float(input(\"用户输入矩形的宽，\"))\n",
    "a15_3=a15_1*a15_2\n",
    "print(f\"长{a15_1}宽{a15_2}面积{a15_3}\")\n",
    "\n",
    "\n",
    "\n"
   ],
   "id": "61389c46a7dc7a97",
   "outputs": [],
   "execution_count": null
  },
  {
   "metadata": {},
   "cell_type": "code",
   "source": [
    "# 16.创建变量str,赋值 \"Whatever is worth doing is worth doing excellent!\" ,将str变量内容全都转换为字母小写并打印出来（5）\n",
    "str=\"Whatever is worth doing is worth doing excellent!\"\n",
    "print(str.lower())\n",
    "# 17.变量str中的“excellent”替换为“well”,并打印变量str的内容（5）\n",
    "print(str.replace('excellent', 'well'))\n",
    "\n",
    "# 18.将str去掉空格,并打印结果（5）\\\n",
    "print(str.replace(' ', ''))\n",
    "\n",
    "# 19.打印str变量的内容和地址（5）\n",
    "print(\"内容\",str)\n",
    "print(\"地址\",id(str))\n",
    "\n",
    "# 20.创建变量countries，赋值内容为\"干一行行一行,一行行行行行,行行行干哪行都行\",统计字符出现的次数,打印每个字符及出现的次数（5）\n",
    "countries=\"干一行行一行,一行行行行行,行行行干哪行都行\"\n",
    "cou={}\n",
    "\n",
    "for i in countries:\n",
    "    if i in cou:\n",
    "        cou[i]+=1\n",
    "    else:\n",
    "        cou[i]=1\n",
    "print(f\"字符'{i}'出现次数：{cou}\")\n",
    "# for i in countries:\n",
    "#     if i in cou:\n",
    "#         print(\"\",cou)"
   ],
   "id": "992462b7f229f02b",
   "outputs": [],
   "execution_count": null
  }
 ],
 "metadata": {
  "kernelspec": {
   "display_name": "Python 3",
   "language": "python",
   "name": "python3"
  },
  "language_info": {
   "codemirror_mode": {
    "name": "ipython",
    "version": 2
   },
   "file_extension": ".py",
   "mimetype": "text/x-python",
   "name": "python",
   "nbconvert_exporter": "python",
   "pygments_lexer": "ipython2",
   "version": "2.7.6"
  }
 },
 "nbformat": 4,
 "nbformat_minor": 5
}
