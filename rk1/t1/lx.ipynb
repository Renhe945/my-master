{
 "cells": [
  {
   "cell_type": "code",
   "id": "initial_id",
   "metadata": {
    "collapsed": true
   },
   "source": [
    "#索引堆叠的聚合\n",
    "\n",
    "\n",
    "\n",
    "\n",
    "\n",
    "\n"
   ],
   "outputs": [],
   "execution_count": null
  },
  {
   "metadata": {},
   "cell_type": "markdown",
   "source": "# Python",
   "id": "9eb68dd802155df0"
  },
  {
   "metadata": {},
   "cell_type": "code",
   "source": [
    "\n",
    "#02 - Python操作数据库\n",
    "\n",
    "#t.csv"
   ],
   "id": "ca8e79dbd0470efe",
   "outputs": [],
   "execution_count": null
  },
  {
   "metadata": {},
   "cell_type": "code",
   "source": [
    "#3 - Jupyter安装\n",
    "a=1\n",
    "a\n",
    "#04 - Jupyter使用\n",
    "import  random #随机\n",
    "a=random.randint(1,6)#随机整数矩阵\n",
    "print(\"===\",a)"
   ],
   "id": "18bd0d154d536d05",
   "outputs": [],
   "execution_count": null
  },
  {
   "metadata": {},
   "cell_type": "code",
   "source": [
    "#05 - Numpy安装\n",
    "import numpy as npy\n",
    "#06 - Numpy基本操作\n",
    "n=npy.array([1,2,3,4])\n",
    "# n#array([1, 2, 3, 4])\n",
    "# type(n)#numpy.ndarray 数据.多维数组 \n",
    "# display(n,type(n))#显示方式不是 python 标准的打不出来\n",
    "#07 - Numpy聚合操作\n",
    "n1=npy.ones(shape=(3,4))\n",
    "# print(\"Numpy聚合操作-1\\n\",n1)\n",
    "'''\n",
    " [[1. 1. 1. 1.]\n",
    " [1. 1. 1. 1.]\n",
    " [1. 1. 1. 1.]]\n",
    "'''\n",
    "n2 = npy.ones(shape=(3,),dtype=npy.int64)#dtype数据类型\n",
    "# print(\"Numpy聚合操作-2\\n\",n2)\n",
    "n3 = npy.zeros((5,5), dtype=npy.int64)\n",
    "# print(\"Numpy聚合操作-3\\n\",n3)\n",
    "''' \n",
    "[[0 0 0 0 0]\n",
    "[0 0 0 0 0]\n",
    "[0 0 0 0 0]\n",
    "[0 0 0 0 0]\n",
    "[0 0 0 0 0]]\n",
    "'''\n",
    "n4=npy.full((4,5),10)#完整的\n",
    "# print(\"Numpy聚合操作-4\\n\",n4)\n",
    "'''\n",
    "[[10 10 10 10 10]\n",
    " [10 10 10 10 10]\n",
    " [10 10 10 10 10]\n",
    " [10 10 10 10 10]]\n",
    "'''\n",
    "n5=npy.eye(3,3)\n",
    "# print(\"Numpy聚合操作-5\\n\",n5)\n",
    "'''\n",
    "[[1. 0. 0. 0. 0. 0.]\n",
    " [0. 1. 0. 0. 0. 0.]\n",
    " [0. 0. 1. 0. 0. 0.]\n",
    " [0. 0. 0. 1. 0. 0.]\n",
    " [0. 0. 0. 0. 1. 0.]\n",
    " [0. 0. 0. 0. 0. 1.]]\n",
    "'''\n",
    "n6=npy.arange(10)\n",
    "# print(\"Numpy聚合操作-6\\n\",n6)\n",
    "'''\n",
    " [0 1 2 3 4 5 6 7 8 9]\n",
    "'''\n",
    "n7=npy.random.randint(1,10,size=(3,4))\n",
    "# print(\"Numpy聚合操作-7\\n\",n7)\n",
    "'''\n",
    "Numpy聚合操作-7\n",
    " [[8 1 8 6]\n",
    " [4 3 8 1]\n",
    " [2 8 2 4]]\n",
    "'''\n",
    "n8=npy.random.normal(10, 5, size=(3,4))#其元素是从正态分布中随机抽取的。这个正态分布的平均值（mean）为 10，标准差（standard deviation）为 5。\n",
    "# print(\"Numpy聚合操作-8\\n\",n8)\n",
    "'''\n",
    "    生成一个形状为 3x4 的数组\n",
    " [[12.88975749  6.85738122 14.80566481 15.46966296]\n",
    " [19.05942045  7.01871961 19.5368051  15.4231615 ]\n",
    " [ 9.31041488 11.50846991 13.65594234 18.39104925]]\n",
    "'''\n",
    "\n",
    "'''\n",
    "平均值：\n",
    "\n",
    "方差：方差越大，数据波动性越大\n",
    "\n",
    "标准差：方差开平方\n",
    "\n",
    "班级1：100,100,10 ---->平均值：70分\n",
    "班级2  70  70 70------>平均值：70分\n",
    "'''\n",
    "n9 = npy.random.random(size=(3,4))\n",
    "# print(\"Numpy聚合操作-9\\n\",n9)# [0.0, 1.0) 区间 即包括 0.0 但不包括 1.0。\n",
    "n10=npy.random.randint(1,10,size=(3,4,5))\n",
    "# print(\"Numpy聚合操作-10\\n\",n10)\n",
    "'''\n",
    "Numpy聚合操作-10\n",
    " [[[4 5 5 1 6]\n",
    "  [2 8 4 9 1]\n",
    "  [8 1 2 4 4]\n",
    "  [2 7 4 2 4]]\n",
    "\n",
    " [[4 4 2 3 7]\n",
    "  [8 1 2 5 8]\n",
    "  [6 5 5 4 1]\n",
    "  [7 2 5 5 4]]\n",
    "\n",
    " [[3 9 2 5 6]\n",
    "  [6 1 8 8 8]\n",
    "  [2 7 7 3 8]\n",
    "  [2 9 4 2 1]]]\n",
    "'''\n",
    "\n",
    "# n10_1=npy.random.randint(1,10,size=(1,1,5))\n",
    "# print(\"Numpy聚合操作-10\\n\",n10_1)# [[[7 6 1 8 9]]]\n",
    "# n10_1=npy.random.randint(1,10,size=(3,2,1))\n",
    "# n10_1=npy.random.randint(1,10,size=(数组的个数,列,数))\n",
    "# print(\"Numpy聚合操作-10\\n\",n10_1)\n",
    "'''\n",
    " [[[9 2 9 4 7]\n",
    "  [4 6 7 4 6]]]\n",
    "'''\n",
    "n11_1=n.shape#返回其形状\n",
    "#形状是一个只含有一个元素的元组，表示数组的长度；\n",
    "# print(n11_1)\n",
    "#(4,)\n",
    "\n",
    "n_1=npy.array([[1,2,3,4],[5,6,7,8]])#二维数组\n",
    "n11=n_1.shape#返回其形状\n",
    "#对于二维数组（例如矩阵），形状是一个包含两个元素的元组，\n",
    "# print(n11)\n",
    "#(2, 4)\n",
    "\n",
    "# print(\"一维数组的\",n.size)\n",
    "# 一维数组的 4\n",
    "\n",
    "# print(\"二维数组的\",n_1.size)\n",
    "# 二维数组的 8\n",
    "n12=npy.arange(10)\n",
    "print(n12)\n",
    "\n",
    "#8 - Numpy的矩阵操作\n",
    "\n",
    "\n",
    "\n",
    "#9 - 认识Series\n",
    "\n",
    "\n",
    "#10 - Series的运算\n",
    "\n",
    "\n"
   ],
   "id": "1b0a336340c15172",
   "outputs": [],
   "execution_count": null
  },
  {
   "metadata": {},
   "cell_type": "code",
   "source": [
    "import  numpy as np\n",
    "n = np.random.randint(0,10, size=(4,5))\n",
    "print(\"原来的+\\n\",n)\n",
    "print(\"加\\n\",n + 1 ) # 加\n",
    "print(\"减\\n\", n - 1 ) # 减\n",
    "print(\"乘\\n\", n * 2 ) # 乘\n",
    "print(\"除\\n\", n / 2 ) # 除\n",
    "print(\"整除\\n\", n // 2)  # 整除\n",
    "print(\" 余数\\n\", n % 2 ) # 余数\n",
    "    "
   ],
   "id": "7ccc46a8b3245328",
   "outputs": [],
   "execution_count": null
  },
  {
   "metadata": {},
   "cell_type": "code",
   "source": [
    "import  numpy as np\n",
    "n = np.array([1, 4, 8, 9, 16, 25,0])\n",
    "print(\"累加\",np.cumsum(n)) # 计算累加和\n",
    "print(\"排序\",np.sort(n))\n",
    "np.abs(n) # 绝对值\n",
    "np.sqrt(n) # 开平方\n",
    "np.square(n) # 平方\n",
    "np.exp(n) # 指数\n",
    "np.log(n) # 自然对数,以e为底的对数\n",
    "np.round(n) # 四舍五入\n",
    "np.ceil(n) # 向上取整\n",
    "np.floor(n) # 向下取整\n",
    "n1_1 = np.random.randint(0, 10, size=(2,3))\n",
    "n2_1 = np.random.randint(0, 10, size=(3,4))\n",
    "display(\"^v^\",n1_1,\"===\",n2_1)\n",
    "# 行和列 保持一样的个数\n",
    "# 矩阵乘积---求和（行*列）\n",
    "np.dot(n1_1,n2_1)\n"
   ],
   "id": "1303ba2a015f10dd",
   "outputs": [],
   "execution_count": null
  },
  {
   "metadata": {},
   "cell_type": "code",
   "outputs": [],
   "execution_count": null,
   "source": [
    "n2 = np.random.randint(0, 10, size=(3,4))\n",
    "print(\"原数据\\n\",n2)\n",
    "n2=np.sort(n2,axis=1)\n",
    "n2_1=np.sort(n2,axis=1)\n",
    "print(\"根据横向排序\\n\",n2_1)\n",
    "n2=np.sort(n2,axis=0)\n",
    "n2_2=np.sort(n2,axis=0)\n",
    "print(\"根据纵向排序\\n\",n2_2)\n",
    "print(\"排序后\\n\", n2)\n",
    "\n",
    "np.savetxt(\"t.csv\",n2,delimiter=\",\")\n",
    "print(\"读取的数据===\\n\",np.loadtxt(\"t.csv\",delimiter=\",\"))\n"
   ],
   "id": "80ab7e2b274ddcf"
  },
  {
   "metadata": {},
   "cell_type": "code",
   "outputs": [],
   "execution_count": null,
   "source": [
    "#广播机制\n",
    "mm = np.ones((2,3), dtype=int)\n",
    "aa = np.arange(3)\n",
    "display(mm, aa)\n",
    "a = np.arange(3).reshape((3,1))#矩阵变维\n",
    "b = np.arange(3)\n",
    "display(a, b)"
   ],
   "id": "ee8c01146b90c1ca"
  },
  {
   "metadata": {
    "ExecuteTime": {
     "end_time": "2024-09-18T08:00:59.409786Z",
     "start_time": "2024-09-18T08:00:59.399266Z"
    }
   },
   "cell_type": "code",
   "source": [
    "import numpy as nmp\n",
    "import pandas as pd\n",
    "from pandas import Series\n",
    "# l = [1,2,3,4]\n",
    "# s = Series(l)\n",
    "# s\n",
    "# 认识Series.ipynb\n",
    "\n",
    "\n",
    "n = np.random.randint(1,10,size=(6,))\n",
    "n\n",
    "s = Series(n)\n",
    "s\n",
    "s.index\n",
    "list(s.index)\n",
    "# s.values"
   ],
   "id": "b189efcc666dcab6",
   "outputs": [
    {
     "data": {
      "text/plain": [
       "[0, 1, 2, 3, 4, 5]"
      ]
     },
     "execution_count": 61,
     "metadata": {},
     "output_type": "execute_result"
    }
   ],
   "execution_count": 61
  },
  {
   "metadata": {
    "ExecuteTime": {
     "end_time": "2024-09-18T08:09:58.322010Z",
     "start_time": "2024-09-18T08:09:58.314867Z"
    }
   },
   "cell_type": "code",
   "source": [
    "n = np.random.randint(1, 10, size=(3,))\n",
    "s = pd.Series(n)\n",
    "s.index = [\"a\", \"b\", \"c\"]\n",
    "print(\"t1===\\n\",n)\n",
    "print(\"t2===\\n\",s)\n",
    "print(\"# 隐式索引\\n\", s.iloc[0])\n",
    "print(\"# 显示索引\\n\", s.loc[\"a\"])\n",
    "print(\"# 特殊语法\\n\", s[\"a\"])\n",
    "print(\"# 特殊语法\\n\", s.a)\n"
   ],
   "id": "89f48f6308af9822",
   "outputs": [
    {
     "name": "stdout",
     "output_type": "stream",
     "text": [
      "t1===\n",
      " [6 6 5]\n",
      "t2===\n",
      " a    6\n",
      "b    6\n",
      "c    5\n",
      "dtype: int32\n",
      "# 隐式索引\n",
      " 6\n",
      "# 显示索引\n",
      " 6\n",
      "# 特殊语法\n",
      " 6\n",
      "# 特殊语法\n",
      " 6\n"
     ]
    }
   ],
   "execution_count": 73
  },
  {
   "metadata": {},
   "cell_type": "code",
   "outputs": [],
   "execution_count": null,
   "source": [
    "#缺失值的处理\n",
    "\n",
    "#02-DataFrame的运算\n",
    "\n",
    "#03-多层次索引\n",
    "\n",
    "\n",
    "\n",
    "#01 - Pip介绍\n",
    "\n",
    "#01-认识DataFrame"
   ],
   "id": "29f69285d5e49477"
  },
  {
   "metadata": {},
   "cell_type": "markdown",
   "source": "# day6",
   "id": "99a38688ddcf51c7"
  },
  {
   "metadata": {},
   "cell_type": "code",
   "source": [
    "import pandas as pd\n",
    "t1=pd.read_csv(\"E:///python代码/rk1/data/data.csv\")\n",
    "\n",
    "\n",
    "\n"
   ],
   "id": "b6b3ed68c2296d54",
   "outputs": [],
   "execution_count": null
  },
  {
   "metadata": {
    "ExecuteTime": {
     "end_time": "2024-09-18T08:34:29.254746Z",
     "start_time": "2024-09-18T08:34:29.211342Z"
    }
   },
   "cell_type": "code",
   "source": [
    "# t1_1=t1.to_csv(\"E:///python代码/rk1/data/data1.csv\")\n",
    "t1_2=pd.read_table(\"../data/data1.csv\",sep=\",\",index_col=[0])\n",
    "print(t1_2)\n",
    "\n",
    "\n",
    "\n",
    "\n",
    "\n"
   ],
   "id": "75d91d911389bdf5",
   "outputs": [
    {
     "name": "stdout",
     "output_type": "stream",
     "text": [
      "    Name   Age      City  Salary\n",
      "0   John  25.0  New York  5000.0\n",
      "1  Alice  30.0    London  6000.0\n",
      "2    Bob   NaN     Paris     NaN\n",
      "3   Jane  35.0     Tokyo  7000.0\n",
      "4   Mike  27.0    Sydney  5200.0\n",
      "5   Lisa  32.0    Berlin  6200.0\n",
      "6    Tom  29.0      Rome     NaN\n",
      "7   Emma   NaN   Toronto  6800.0\n",
      "8   Alex  26.0    Moscow  4800.0\n",
      "9   Kate  31.0     Dubai  5800.0\n"
     ]
    }
   ],
   "execution_count": 74
  }
 ],
 "metadata": {
  "kernelspec": {
   "display_name": "Python 3",
   "language": "python",
   "name": "python3"
  },
  "language_info": {
   "codemirror_mode": {
    "name": "ipython",
    "version": 2
   },
   "file_extension": ".py",
   "mimetype": "text/x-python",
   "name": "python",
   "nbconvert_exporter": "python",
   "pygments_lexer": "ipython2",
   "version": "2.7.6"
  }
 },
 "nbformat": 4,
 "nbformat_minor": 5
}
